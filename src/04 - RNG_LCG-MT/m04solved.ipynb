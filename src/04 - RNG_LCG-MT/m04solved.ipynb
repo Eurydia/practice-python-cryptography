{
 "cells": [
  {
   "cell_type": "markdown",
   "id": "6cda76",
   "metadata": {
    "collapsed": false
   },
   "source": [
    "# Linear Congruential Generators\n",
    "\n"
   ]
  },
  {
   "cell_type": "code",
   "execution_count": 83,
   "id": "2a24c0",
   "metadata": {
    "collapsed": false
   },
   "outputs": [],
   "source": [
    "def prng_lcg(seed, repeat):\n",
    "    multiplier = 5 # the \"multiplier\"\n",
    "    increment = 3  # the \"increment\"\n",
    "    modulus = 17  # the \"modulus\"\n",
    "    state = seed\n",
    "    file= open(\"LCG.rnd\",\"w\")\n",
    "\n",
    "    for _ in range(repeat):\n",
    "        state = (state * multiplier + increment) % modulus\n",
    "        #print(str(state).zfill(19))\n",
    "        file.write(str(state).zfill(19)+\"\\n\")"
   ]
  },
  {
   "cell_type": "code",
   "execution_count": 84,
   "id": "37caf3",
   "metadata": {
    "collapsed": false
   },
   "outputs": [],
   "source": [
    "prng_lcg(10, 200)"
   ]
  },
  {
   "cell_type": "markdown",
   "id": "096974",
   "metadata": {
    "collapsed": false
   },
   "source": [
    "## LCG Cracking: Unknown increment\n",
    "\n"
   ]
  },
  {
   "cell_type": "code",
   "execution_count": 85,
   "id": "5764f8",
   "metadata": {
    "collapsed": false
   },
   "outputs": [],
   "source": [
    "multiplier = 5 # the \"multiplier\"\n",
    "increment = 3  # the \"increment\"\n",
    "modulus = 17  # the \"modulus\"\n",
    "rn = [0, 0, 0, 0, 0, 0]\n",
    "file = open(\"LCG.rnd\",\"r\")\n",
    "for i in range(6):\n",
    "    rn[i] = int(file.readline())\n"
   ]
  },
  {
   "cell_type": "code",
   "execution_count": 86,
   "id": "68e3fa",
   "metadata": {
    "collapsed": false
   },
   "outputs": [],
   "source": [
    "def crack_unknown_increment(states, modulus, multiplier):\n",
    "    [x0,x1, *_] = states\n",
    "    increment = (x1- (multiplier* x0)) % modulus\n",
    "    return increment\n"
   ]
  },
  {
   "cell_type": "code",
   "execution_count": 87,
   "id": "e65adc",
   "metadata": {
    "collapsed": false
   },
   "outputs": [
    {
     "name": "stdout",
     "output_type": "stream",
     "text": [
      "[x] Recovered increment :  3\n"
     ]
    }
   ],
   "source": [
    "recovered_increment = crack_unknown_increment(rn, modulus, multiplier)\n",
    "assert recovered_increment==increment\n",
    "print(\"[x] Recovered increment : \", recovered_increment)"
   ]
  },
  {
   "cell_type": "markdown",
   "id": "9686cd",
   "metadata": {
    "collapsed": false
   },
   "source": [
    "## LCG Cracking: Unknown multiplier\n",
    "\n"
   ]
  },
  {
   "cell_type": "code",
   "execution_count": 88,
   "id": "b128a9",
   "metadata": {
    "collapsed": false
   },
   "outputs": [],
   "source": [
    "import functools\n",
    "\n",
    "\n",
    "def gcd(x, y): # GCD\n",
    "    while(y): \n",
    "        x, y = y, x % y\n",
    "    return x\n",
    "\n",
    "def egcd(a, b):\n",
    "    if a == 0:\n",
    "        return (b, 0, 1)\n",
    "    else:\n",
    "        g, x, y = egcd(b % a, a)\n",
    "        return (g, y - (b // a) * x, x)\n",
    "\n",
    "def modinv(b, n):  # Modular inverse function\n",
    "    g, x, _ = egcd(b, n)\n",
    "    if g == 1:\n",
    "        return x % n"
   ]
  },
  {
   "cell_type": "code",
   "execution_count": 89,
   "id": "752313",
   "metadata": {
    "collapsed": false
   },
   "outputs": [],
   "source": [
    "def crack_unknown_multiplier(states, modulus):\n",
    "    [x0,x1,x2, *_] = states\n",
    "    mod_inv = modinv(x1-x0, modulus)\n",
    "    multiplier = ((x2 - x1) * mod_inv) % modulus \n",
    "    increment = crack_unknown_increment(states, modulus, multiplier)\n",
    "    return increment, multiplier"
   ]
  },
  {
   "cell_type": "code",
   "execution_count": 90,
   "id": "a90f2c",
   "metadata": {
    "collapsed": false
   },
   "outputs": [
    {
     "name": "stdout",
     "output_type": "stream",
     "text": [
      "[x] Recovered multiplier :  5\n"
     ]
    }
   ],
   "source": [
    "recovered_increment, recovered_multiplier = crack_unknown_multiplier(rn, modulus)\n",
    "assert recovered_multiplier==multiplier\n",
    "print(\"[x] Recovered multiplier : \", recovered_multiplier)"
   ]
  },
  {
   "cell_type": "markdown",
   "id": "e84f42",
   "metadata": {
    "collapsed": false
   },
   "source": [
    "## LCG Cracking: Unknown modulus\n",
    "\n",
    "this time we can’t solve this with simple linear equations – since we don’t know modulus, so every equation we’ll form will introduce new unknown.\n",
    "\n",
    "Fortunately, there is a mathematical trick that usually comes in handy in situations like this. Namely, interesting number theory fact\n",
    "\n",
    "if we have few random multiples of n, with large probability their gcd will be equal to n.\n",
    "\n",
    "if we can think of some modular operations that will give something congruent to zero, \n",
    "\n",
    "for example:$X \\equiv 0~(\\mod n)$\n",
    "\n",
    "Then, by definition, this is equivalent to: $X = k*n$\n",
    "\n",
    "This is only interesting if $X != 0$, but $X \\equiv 0~(\\mod n).$\n",
    "\n",
    "We just need to take a gcd from few such values, and we can recover $n$. \n",
    "\n",
    "This is a really generic method, that can often be used when modulus that we’re using is unknown.\n",
    "\n"
   ]
  },
  {
   "cell_type": "code",
   "execution_count": 91,
   "id": "55d557",
   "metadata": {
    "collapsed": false
   },
   "outputs": [],
   "source": [
    "def crack_unknown_modulus(states):\n",
    "    diffs = [s1 - s0 for s0, s1 in zip(states, states[1:])]\n",
    "    zeroes = [t2*t0 - t1*t1 for t0, t1, t2 in zip(diffs, diffs[1:], diffs[2:])]\n",
    "    modulus = abs(functools.reduce(gcd, zeroes))\n",
    "    increment, multiplier = crack_unknown_multiplier(states, modulus)\n",
    "    return modulus, increment, multiplier"
   ]
  },
  {
   "cell_type": "code",
   "execution_count": 92,
   "id": "ba234d",
   "metadata": {
    "collapsed": false
   },
   "outputs": [
    {
     "name": "stdout",
     "output_type": "stream",
     "text": [
      "[x] Recovered modulus :  17\n"
     ]
    }
   ],
   "source": [
    "recovered_modulus, recovered_increment, recovered_multiplier  = crack_unknown_modulus(rn)\n",
    "assert recovered_modulus==modulus\n",
    "print(\"[x] Recovered modulus : \", recovered_modulus)"
   ]
  },
  {
   "cell_type": "markdown",
   "id": "30f06d",
   "metadata": {
    "collapsed": false
   },
   "source": [
    "**Exercise**\n",
    "\n",
    "Assume you got a ciphertext \\(in hexa\\) that  is  62716b6b777862677362667e7b,  as a result of XOR encryption \\(ASCII encoding is used\\).\n",
    "\n",
    "Additionally, assume that you know the original encrypted plaintext was 'cybersecurity'\n",
    "\n",
    "You know that the key were random numbers generated by LCG. This means that each character in the plaintext has been encrypted \\(XORed\\) with a single generated random number of LCG.\n",
    "\n",
    "By knowing the above information, crack the LCG parameters.\n",
    "\n"
   ]
  },
  {
   "cell_type": "code",
   "execution_count": 93,
   "id": "18054c",
   "metadata": {
    "collapsed": false
   },
   "outputs": [
    {
     "name": "stdout",
     "output_type": "stream",
     "text": [
      "u_mod=17, u_mul=5, u_inc=3\n"
     ]
    }
   ],
   "source": [
    "# Your code here\n",
    "# 62716b6b777862677362667e7b\n",
    "# cybersecurity\n",
    "\n",
    "cipher_str = '62716b6b777862677362667e7b'\n",
    "cipher_int = [int(cipher_str[i:i+2], 16) for i in range(0, len(cipher_str), 2)]\n",
    "plain_str = 'cybersecurity'\n",
    "plain_int = [ord(ch) for ch in plain_str ]\n",
    "key_lcg = [l ^ r for l, r in zip(cipher_int, plain_int)]\n",
    "\n",
    "# q = crack_unknown_modulus(key_lcg)\n",
    "u_mod, u_inc, u_mul = crack_unknown_modulus(key_lcg)\n",
    "\n",
    "print(f\"{u_mod=}, {u_mul=}, {u_inc=}\")"
   ]
  },
  {
   "cell_type": "markdown",
   "id": "feb5b8",
   "metadata": {
    "collapsed": false
   },
   "source": [
    "# Mersenne Twister\n",
    "\n"
   ]
  },
  {
   "cell_type": "code",
   "execution_count": 94,
   "id": "f8f908",
   "metadata": {
    "collapsed": false
   },
   "outputs": [
    {
     "name": "stdout",
     "output_type": "stream",
     "text": [
      "[x] feeding the cracker with 624 randomly generated numbers\n",
      "[x] Now, it is ready to predict new randomly generated numbers ..\n",
      "\n",
      "[x] Random Number: 2143607628\n",
      "[x] Predicted number: 2143607628\n"
     ]
    }
   ],
   "source": [
    "'''\n",
    "Mersenne Twister (MT) Cracker\n",
    "Based on randcrack package\n",
    "It uses random function, since random is based on MT.\n",
    "\n",
    "Step 1: feed cracker with 624 randomly generated numbers (32-bit integers)\n",
    "Step 2: After submitting 624 integers it will be ready for predicting new numbers.\n",
    "\n",
    "'''\n",
    "\n",
    "import random, time\n",
    "from randcrack import RandCrack\n",
    "\n",
    "\n",
    "#random.seed(time.time())\n",
    "random.seed(100)\n",
    "\n",
    "rc = RandCrack()\n",
    "\n",
    "print(\"[x] feeding the cracker with 624 randomly generated numbers\")\n",
    "for i in range(624):\n",
    "\tr = random.getrandbits(32)\n",
    "\trc.submit(r)\n",
    "\n",
    "print(\"[x] Now, it is ready to predict new randomly generated numbers ..\")\n",
    "print(\"\\n[x] Random Number: {}\\n[x] Predicted number: {}\"\n",
    "\t.format(random.randrange(0, 4294967295), rc.predict_randrange(0, 4294967295)))"
   ]
  }
 ],
 "metadata": {
  "kernelspec": {
   "display_name": ".venv",
   "language": "python",
   "name": "python3"
  },
  "language_info": {
   "codemirror_mode": {
    "name": "ipython",
    "version": 3
   },
   "file_extension": ".py",
   "mimetype": "text/x-python",
   "name": "python",
   "nbconvert_exporter": "python",
   "pygments_lexer": "ipython3",
   "version": "3.13.2"
  }
 },
 "nbformat": 4,
 "nbformat_minor": 4
}
