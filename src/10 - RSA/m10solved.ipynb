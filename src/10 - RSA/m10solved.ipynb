{
 "cells": [
  {
   "cell_type": "markdown",
   "id": "143c3a",
   "metadata": {
    "collapsed": false
   },
   "source": [
    "# RSA\n",
    "\n"
   ]
  },
  {
   "cell_type": "markdown",
   "id": "e13b41",
   "metadata": {
    "collapsed": false
   },
   "source": [
    "####\n",
    "\n"
   ]
  },
  {
   "cell_type": "code",
   "execution_count": 104,
   "id": "08fdfe",
   "metadata": {
    "collapsed": false
   },
   "outputs": [],
   "source": [
    "from sympy import randprime\n",
    "from math import gcd"
   ]
  },
  {
   "cell_type": "markdown",
   "id": "174227",
   "metadata": {
    "collapsed": false
   },
   "source": [
    "#### Extended Euclidean Algorithm\n",
    "\n"
   ]
  },
  {
   "cell_type": "code",
   "execution_count": 105,
   "id": "474eb1",
   "metadata": {
    "collapsed": false
   },
   "outputs": [],
   "source": [
    "def egcd(a, b):\n",
    "    if a == 0:\n",
    "        return (b, 0, 1)\n",
    "    else:\n",
    "        g, x, y = egcd(b % a, a)\n",
    "        return (g, y - (b // a) * x, x)\n"
   ]
  },
  {
   "cell_type": "markdown",
   "id": "00d71d",
   "metadata": {
    "collapsed": false
   },
   "source": [
    "#### Modular inverse function\n",
    "\n"
   ]
  },
  {
   "cell_type": "code",
   "execution_count": 106,
   "id": "3a5ef4",
   "metadata": {
    "collapsed": false
   },
   "outputs": [],
   "source": [
    "def modinv(b, n):   \n",
    "    g, x, _ = egcd(b, n)\n",
    "    if g == 1:\n",
    "        return x % n"
   ]
  },
  {
   "cell_type": "markdown",
   "id": "b99216",
   "metadata": {
    "collapsed": false
   },
   "source": [
    "#### Generate two random prime numbers\n",
    "\n"
   ]
  },
  {
   "cell_type": "code",
   "execution_count": 107,
   "id": "c8254e",
   "metadata": {
    "collapsed": false
   },
   "outputs": [],
   "source": [
    "def generate_primes(key_size):\n",
    "    prime_1 = 0 \n",
    "    prime_2 = 0\n",
    "    # makes sure both are not the same, and their product does not exceed the final number of bits (key size)\n",
    "    while prime_1 == prime_2 or (prime_1 * prime_2) > 2**key_size:\n",
    "        prime_1 = randprime(1, key_size)\n",
    "        prime_2 = randprime(1, key_size)\n",
    "    return prime_1, prime_2\n"
   ]
  },
  {
   "cell_type": "markdown",
   "id": "4b7d39",
   "metadata": {
    "collapsed": false
   },
   "source": [
    "#### Euler Function\n",
    "\n"
   ]
  },
  {
   "cell_type": "code",
   "execution_count": 108,
   "id": "460520",
   "metadata": {
    "collapsed": false
   },
   "outputs": [],
   "source": [
    "def euler_totient_function(prime_1, prime_2):\n",
    "    result = (prime_1 - 1) * (prime_2 - 1)\n",
    "    return result"
   ]
  },
  {
   "cell_type": "markdown",
   "id": "202d3c",
   "metadata": {
    "collapsed": false
   },
   "source": [
    "#### Public Exponents\n",
    "\n"
   ]
  },
  {
   "cell_type": "code",
   "execution_count": 109,
   "id": "c55974",
   "metadata": {
    "collapsed": false
   },
   "outputs": [],
   "source": [
    "def generate_public_exponents(totient):\n",
    "    public_exponent = randprime(2, totient)\n",
    "    while gcd(public_exponent, totient) != 1:\n",
    "        public_exponent = randprime(2, totient)\n",
    "    return public_exponent"
   ]
  },
  {
   "cell_type": "markdown",
   "id": "e87c82",
   "metadata": {
    "collapsed": false
   },
   "source": [
    "#### Encryption\n",
    "\n"
   ]
  },
  {
   "cell_type": "code",
   "execution_count": 110,
   "id": "104019",
   "metadata": {
    "collapsed": false
   },
   "outputs": [],
   "source": [
    "def rsa_encrypt(plain_text, rsa_modulus, public_exponent):\n",
    "    cipher = ''.join(chr((ord(ch)**public_exponent) % rsa_modulus) for ch in plain_text)\n",
    "    return cipher.encode().hex()"
   ]
  },
  {
   "cell_type": "markdown",
   "id": "cd0a88",
   "metadata": {
    "collapsed": false
   },
   "source": [
    "#### Decryption\n",
    "\n"
   ]
  },
  {
   "cell_type": "code",
   "execution_count": 120,
   "id": "fe863f",
   "metadata": {
    "collapsed": false
   },
   "outputs": [],
   "source": [
    "def rsa_decrypt(cipher_text, rsa_modulus, private_exponent):\n",
    "    plaintext= ''.join(chr((ord(ch)**private_exponent) % rsa_modulus) for ch in cipher_text)\n",
    "    return plaintext.encode().hex()"
   ]
  },
  {
   "cell_type": "markdown",
   "id": "1003f2",
   "metadata": {
    "collapsed": false
   },
   "source": [
    "#### Testing\n",
    "\n"
   ]
  },
  {
   "cell_type": "code",
   "execution_count": null,
   "id": "c3dd68",
   "metadata": {
    "collapsed": false
   },
   "outputs": [
    {
     "name": "stdout",
     "output_type": "stream",
     "text": [
      "[x] prime p = 7\n",
      "[x] prime q = 2\n",
      "303630343036306230363063303630383036303930363039303630373036306330363039303630383036303830363031303630393036303930363039303630343036306230363039\n"
     ]
    }
   ],
   "source": [
    "key_size = 10\n",
    "prime_p, prime_q = generate_primes(key_size)\n",
    "print('[x] prime p = {}'.format(prime_p))\n",
    "print('[x] prime q = {}'.format(prime_q))\n",
    "\n",
    "\n",
    "rsa_modulus = prime_p * prime_q\n",
    "\n",
    "totient = euler_totient_function(prime_p, prime_q)\n",
    "public_exponent = generate_public_exponents(totient)\n",
    "private_exponent = modinv(public_exponent, totient)\n",
    "\n",
    "plain_text = 'our secret message'\n",
    "cipher_text = rsa_encrypt(plain_text, rsa_modulus, public_exponent)\n",
    "recovered_plain_text = rsa_decrypt(bytes.fromhex( cipher_text).decode(), rsa_modulus, private_exponent)\n",
    "\n",
    "plain_text.encode().hex() == recovered_plain_text\n",
    "print(recovered_plain_text.encode().hex())"
   ]
  },
  {
   "cell_type": "markdown",
   "id": "bfa80d",
   "metadata": {
    "collapsed": false
   },
   "source": [
    "##### **Exercise**\n",
    "\n",
    "Create a class for RSA encryption \\(keys are created/given when its constructor is called\\)\n",
    "\n"
   ]
  },
  {
   "cell_type": "code",
   "execution_count": 113,
   "id": "4ac1ab",
   "metadata": {
    "collapsed": false
   },
   "outputs": [],
   "source": [
    "# Your code here"
   ]
  },
  {
   "cell_type": "markdown",
   "id": "a6ddb5",
   "metadata": {
    "collapsed": false
   },
   "source": [
    "##### **Exercise**\n",
    "\n",
    "utilize RSA for confidentiality/authentication\n"
   ]
  },
  {
   "cell_type": "code",
   "execution_count": 114,
   "id": "c9a58f",
   "metadata": {
    "collapsed": false
   },
   "outputs": [],
   "source": [
    "# Your code here"
   ]
  }
 ],
 "metadata": {
  "kernelspec": {
   "display_name": ".venv",
   "language": "python",
   "name": "python3"
  },
  "language_info": {
   "codemirror_mode": {
    "name": "ipython",
    "version": 3
   },
   "file_extension": ".py",
   "mimetype": "text/x-python",
   "name": "python",
   "nbconvert_exporter": "python",
   "pygments_lexer": "ipython3",
   "version": "3.13.2"
  }
 },
 "nbformat": 4,
 "nbformat_minor": 4
}
