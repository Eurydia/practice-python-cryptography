{
 "cells": [
  {
   "cell_type": "markdown",
   "id": "143c3a",
   "metadata": {
    "collapsed": false
   },
   "source": [
    "# RSA\n",
    "\n"
   ]
  },
  {
   "cell_type": "markdown",
   "id": "e13b41",
   "metadata": {
    "collapsed": false
   },
   "source": [
    "####\n",
    "\n"
   ]
  },
  {
   "cell_type": "code",
   "execution_count": 104,
   "id": "08fdfe",
   "metadata": {
    "collapsed": false
   },
   "outputs": [],
   "source": [
    "from sympy import randprime\n",
    "from math import gcd"
   ]
  },
  {
   "cell_type": "markdown",
   "id": "174227",
   "metadata": {
    "collapsed": false
   },
   "source": [
    "#### Extended Euclidean Algorithm\n",
    "\n"
   ]
  },
  {
   "cell_type": "code",
   "execution_count": 105,
   "id": "474eb1",
   "metadata": {
    "collapsed": false
   },
   "outputs": [],
   "source": [
    "def egcd(a, b):\n",
    "    if a == 0:\n",
    "        return (b, 0, 1)\n",
    "    else:\n",
    "        g, x, y = egcd(b % a, a)\n",
    "        return (g, y - (b // a) * x, x)\n"
   ]
  },
  {
   "cell_type": "markdown",
   "id": "00d71d",
   "metadata": {
    "collapsed": false
   },
   "source": [
    "#### Modular inverse function\n",
    "\n"
   ]
  },
  {
   "cell_type": "code",
   "execution_count": 106,
   "id": "3a5ef4",
   "metadata": {
    "collapsed": false
   },
   "outputs": [],
   "source": [
    "def modinv(b, n):   \n",
    "    g, x, _ = egcd(b, n)\n",
    "    if g == 1:\n",
    "        return x % n"
   ]
  },
  {
   "cell_type": "markdown",
   "id": "b99216",
   "metadata": {
    "collapsed": false
   },
   "source": [
    "#### Generate two random prime numbers\n",
    "\n"
   ]
  },
  {
   "cell_type": "code",
   "execution_count": 107,
   "id": "c8254e",
   "metadata": {
    "collapsed": false
   },
   "outputs": [],
   "source": [
    "def generate_primes(key_size):\n",
    "    prime_1 = 0 \n",
    "    prime_2 = 0\n",
    "    # makes sure both are not the same, and their product does not exceed the final number of bits (key size)\n",
    "    while prime_1 == prime_2 or (prime_1 * prime_2) > 2**key_size:\n",
    "        prime_1 = randprime(1, key_size)\n",
    "        prime_2 = randprime(1, key_size)\n",
    "    return prime_1, prime_2\n"
   ]
  },
  {
   "cell_type": "markdown",
   "id": "4b7d39",
   "metadata": {
    "collapsed": false
   },
   "source": [
    "#### Euler Function\n",
    "\n"
   ]
  },
  {
   "cell_type": "code",
   "execution_count": 108,
   "id": "460520",
   "metadata": {
    "collapsed": false
   },
   "outputs": [],
   "source": [
    "def euler_totient_function(prime_1, prime_2):\n",
    "    result = (prime_1 - 1) * (prime_2 - 1)\n",
    "    return result"
   ]
  },
  {
   "cell_type": "markdown",
   "id": "202d3c",
   "metadata": {
    "collapsed": false
   },
   "source": [
    "#### Public Exponents\n",
    "\n"
   ]
  },
  {
   "cell_type": "code",
   "execution_count": 109,
   "id": "c55974",
   "metadata": {
    "collapsed": false
   },
   "outputs": [],
   "source": [
    "def generate_public_exponents(totient):\n",
    "    public_exponent = randprime(2, totient)\n",
    "    while gcd(public_exponent, totient) != 1:\n",
    "        public_exponent = randprime(2, totient)\n",
    "    return public_exponent"
   ]
  },
  {
   "cell_type": "markdown",
   "id": "e87c82",
   "metadata": {
    "collapsed": false
   },
   "source": [
    "#### Encryption\n",
    "\n"
   ]
  },
  {
   "cell_type": "code",
   "execution_count": 110,
   "id": "104019",
   "metadata": {
    "collapsed": false
   },
   "outputs": [],
   "source": [
    "def rsa_encrypt(plain_text, rsa_modulus, public_exponent):\n",
    "    cipher = ''.join(chr((ord(ch)**public_exponent) % rsa_modulus) for ch in plain_text)\n",
    "    return cipher.encode().hex()"
   ]
  },
  {
   "cell_type": "markdown",
   "id": "cd0a88",
   "metadata": {
    "collapsed": false
   },
   "source": [
    "#### Decryption\n",
    "\n"
   ]
  },
  {
   "cell_type": "code",
   "execution_count": 120,
   "id": "fe863f",
   "metadata": {
    "collapsed": false
   },
   "outputs": [],
   "source": [
    "def rsa_decrypt(cipher_text, rsa_modulus, private_exponent):\n",
    "    plaintext= ''.join(chr((ord(ch)**private_exponent) % rsa_modulus) for ch in cipher_text)\n",
    "    return plaintext.encode().hex()"
   ]
  },
  {
   "cell_type": "markdown",
   "id": "1003f2",
   "metadata": {
    "collapsed": false
   },
   "source": [
    "#### Testing\n",
    "\n"
   ]
  },
  {
   "cell_type": "code",
   "execution_count": 122,
   "id": "c3dd68",
   "metadata": {
    "collapsed": false
   },
   "outputs": [
    {
     "name": "stdout",
     "output_type": "stream",
     "text": [
      "[x] prime p = 3\n",
      "[x] prime q = 2\n"
     ]
    },
    {
     "ename": "TypeError",
     "evalue": "'NoneType' object cannot be interpreted as an integer",
     "output_type": "error",
     "traceback": [
      "\u001b[31m---------------------------------------------------------------------------\u001b[39m",
      "\u001b[31mTypeError\u001b[39m                                 Traceback (most recent call last)",
      "\u001b[36mCell\u001b[39m\u001b[36m \u001b[39m\u001b[32mIn[122]\u001b[39m\u001b[32m, line 10\u001b[39m\n\u001b[32m      7\u001b[39m rsa_modulus = prime_p * prime_q\n\u001b[32m      9\u001b[39m totient = euler_totient_function(prime_p, prime_q)\n\u001b[32m---> \u001b[39m\u001b[32m10\u001b[39m public_exponent = \u001b[43mgenerate_public_exponents\u001b[49m\u001b[43m(\u001b[49m\u001b[43mtotient\u001b[49m\u001b[43m)\u001b[49m\n\u001b[32m     11\u001b[39m private_exponent = modinv(public_exponent, totient)\n\u001b[32m     13\u001b[39m plain_text = \u001b[33m'\u001b[39m\u001b[33mour secret message\u001b[39m\u001b[33m'\u001b[39m\n",
      "\u001b[36mCell\u001b[39m\u001b[36m \u001b[39m\u001b[32mIn[109]\u001b[39m\u001b[32m, line 3\u001b[39m, in \u001b[36mgenerate_public_exponents\u001b[39m\u001b[34m(totient)\u001b[39m\n\u001b[32m      1\u001b[39m \u001b[38;5;28;01mdef\u001b[39;00m\u001b[38;5;250m \u001b[39m\u001b[34mgenerate_public_exponents\u001b[39m(totient):\n\u001b[32m      2\u001b[39m     public_exponent = randprime(\u001b[32m2\u001b[39m, totient)\n\u001b[32m----> \u001b[39m\u001b[32m3\u001b[39m     \u001b[38;5;28;01mwhile\u001b[39;00m \u001b[43mgcd\u001b[49m\u001b[43m(\u001b[49m\u001b[43mpublic_exponent\u001b[49m\u001b[43m,\u001b[49m\u001b[43m \u001b[49m\u001b[43mtotient\u001b[49m\u001b[43m)\u001b[49m != \u001b[32m1\u001b[39m:\n\u001b[32m      4\u001b[39m         public_exponent = randprime(\u001b[32m2\u001b[39m, totient)\n\u001b[32m      5\u001b[39m     \u001b[38;5;28;01mreturn\u001b[39;00m public_exponent\n",
      "\u001b[31mTypeError\u001b[39m: 'NoneType' object cannot be interpreted as an integer"
     ]
    }
   ],
   "source": [
    "key_size = 10\n",
    "prime_p, prime_q = generate_primes(key_size)\n",
    "print('[x] prime p = {}'.format(prime_p))\n",
    "print('[x] prime q = {}'.format(prime_q))\n",
    "\n",
    "\n",
    "rsa_modulus = prime_p * prime_q\n",
    "\n",
    "totient = euler_totient_function(prime_p, prime_q)\n",
    "public_exponent = generate_public_exponents(totient)\n",
    "private_exponent = modinv(public_exponent, totient)\n",
    "\n",
    "plain_text = 'our secret message'\n",
    "cipher_text = rsa_encrypt(plain_text, rsa_modulus, public_exponent)\n",
    "recovered_plain_text = rsa_decrypt(bytes.fromhex( cipher_text).decode(), rsa_modulus, private_exponent)\n",
    "\n",
    "plain_text.encode().hex() == recovered_plain_text\n",
    "print(recovered_plain_text.encode().hex())"
   ]
  },
  {
   "cell_type": "markdown",
   "id": "bfa80d",
   "metadata": {
    "collapsed": false
   },
   "source": [
    "##### **Exercise**\n",
    "\n",
    "Create a class for RSA encryption \\(keys are created/given when its constructor is called\\)\n",
    "\n"
   ]
  },
  {
   "cell_type": "code",
   "execution_count": 113,
   "id": "4ac1ab",
   "metadata": {
    "collapsed": false
   },
   "outputs": [],
   "source": [
    "# Your code here"
   ]
  },
  {
   "cell_type": "markdown",
   "id": "a6ddb5",
   "metadata": {
    "collapsed": false
   },
   "source": [
    "##### **Exercise**\n",
    "\n",
    "utilize RSA for confidentiality/authentication\n"
   ]
  },
  {
   "cell_type": "code",
   "execution_count": 114,
   "id": "c9a58f",
   "metadata": {
    "collapsed": false
   },
   "outputs": [],
   "source": [
    "# Your code here"
   ]
  }
 ],
 "metadata": {
  "kernelspec": {
   "display_name": ".venv",
   "language": "python",
   "name": "python3"
  },
  "language_info": {
   "codemirror_mode": {
    "name": "ipython",
    "version": 3
   },
   "file_extension": ".py",
   "mimetype": "text/x-python",
   "name": "python",
   "nbconvert_exporter": "python",
   "pygments_lexer": "ipython3",
   "version": "3.13.2"
  }
 },
 "nbformat": 4,
 "nbformat_minor": 4
}
