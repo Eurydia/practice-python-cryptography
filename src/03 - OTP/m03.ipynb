{
 "cells": [
  {
   "cell_type": "markdown",
   "id": "316316",
   "metadata": {
    "collapsed": false
   },
   "source": [
    "## XOR Encryption\n",
    "\n"
   ]
  },
  {
   "cell_type": "code",
   "execution_count": 1,
   "id": "fd2d07",
   "metadata": {
    "collapsed": false
   },
   "outputs": [],
   "source": [
    "secret = 'thesecretkey'\n",
    "message = 'cryptography'"
   ]
  },
  {
   "cell_type": "code",
   "execution_count": 2,
   "id": "ff286a",
   "metadata": {
    "collapsed": false
   },
   "outputs": [],
   "source": [
    "def xor(string1, string2):\n",
    "    return \"\".join([chr(ord(c1) ^ ord(c2)) for (c1,c2) in zip(string1,string2)])"
   ]
  },
  {
   "cell_type": "code",
   "execution_count": 3,
   "id": "82435a",
   "metadata": {
    "collapsed": false
   },
   "outputs": [
    {
     "name": "stdout",
     "output_type": "stream",
     "text": [
      "cipher (in hexa) =  171a1c03110c1517151b0d00\n"
     ]
    }
   ],
   "source": [
    "cipher = xor(message, secret)\n",
    "cipher_hex = cipher.encode(\"utf-8\").hex()\n",
    "print(\"cipher (in hexa) = \", cipher_hex)\n",
    "# cipher (in hexa) = 171a1c03110c1517151b0d00"
   ]
  },
  {
   "cell_type": "code",
   "execution_count": 4,
   "id": "f88115",
   "metadata": {
    "collapsed": false
   },
   "outputs": [
    {
     "name": "stdout",
     "output_type": "stream",
     "text": [
      "decoded plain =  cryptography\n"
     ]
    }
   ],
   "source": [
    "cipher = bytearray.fromhex(cipher_hex).decode(\"utf-8\")\n",
    "plain = xor(cipher, secret)\n",
    "\n",
    "print(\"decoded plain = \", plain)"
   ]
  },
  {
   "cell_type": "markdown",
   "id": "efb03e",
   "metadata": {
    "collapsed": false
   },
   "source": [
    "#### **Exercise**\n",
    "\n",
    "Suppose cipher\\_hex has been obtained by use of one\\-time pad\n",
    "\n",
    "Information about the plain text: decimal number \n",
    "\n",
    "Information about Key space: 60 identical characters\n",
    "\n",
    "You task: find the plain text\n",
    "\n",
    "Note: function chr\\(i\\) returns the character of the given ascii code.\n",
    "\n"
   ]
  },
  {
   "cell_type": "code",
   "execution_count": 37,
   "id": "f7704a",
   "metadata": {
    "collapsed": false
   },
   "outputs": [
    {
     "name": "stdout",
     "output_type": "stream",
     "text": [
      "3.1415926535897932384626433832795028841971693993751058209749\n"
     ]
    }
   ],
   "source": [
    "cipher_hex = \"736e71747175797276757375787977797372737874767276747373787372777975707278787471797771767973797973777571707578727079777479\"\n",
    "# Your code below\n",
    "\n",
    "cipher = bytearray.fromhex(cipher_hex).decode(\"utf-8\")\n",
    "for k in range(0,255):\n",
    "  key= \"\".join([chr(k) for _ in range(60)])\n",
    "  p = xor(cipher, key)\n",
    "\n",
    "  try:\n",
    "    float(p)\n",
    "  except ValueError: \n",
    "      continue\n",
    "  print(p)"
   ]
  },
  {
   "cell_type": "markdown",
   "id": "f30c3f",
   "metadata": {
    "collapsed": false
   },
   "source": [
    "#### **Exercise**\n",
    "\n",
    "Alice uses a simple xor encryption \\(where C = M xor K\\)\n",
    "\n",
    "For the key, she uses the str\\(random\\(\\)\\[2:\\], with a seed that is NOT truly random. \n",
    "\n",
    "She uses the current date along with a space and the current hour as its seed. Here are a few examples of the seed value: \"2025\\-01\\-22 09\" and \"2025\\-02\\-21 19\".\n",
    "\n",
    "Bob intercepts and got the following ciphertext in hexa 5b57414b58505141425a5f5a45455b40.\n",
    "\n",
    "Assume that Bob knows the above information. Additionally he know that Alice encrypted the message on 2025 February 26, possibly from 10 up to 18. \n",
    "\n",
    "Your task is to write a code to decrypt the ciphertext. \n",
    "\n"
   ]
  },
  {
   "cell_type": "code",
   "execution_count": 36,
   "id": "632a0b",
   "metadata": {
    "collapsed": false
   },
   "outputs": [
    {
     "name": "stdout",
     "output_type": "stream",
     "text": [
      "kdxrhhhurcic|uby 10\n",
      "kcsligypimo|rct 11\n",
      "nnqzodirqnkbspns 12\n",
      "bgt|lecvzcgbvsms 13\n",
      "iovo`gyqblkuujs 14\n",
      "letsmeettomorrow 15\n",
      "hfsnfbvskob}phs 16\n",
      "ibp|o``rpoomu}bq 17\n",
      "noxzocayznolp|cu 18\n"
     ]
    }
   ],
   "source": [
    "# Your code here\n",
    "from random import seed, random\n",
    "\n",
    "cipher_hex = '5b57414b58505141425a5f5a45455b40';\n",
    "cipher = bytearray.fromhex(cipher_hex).decode(\"utf-8\")\n",
    "\n",
    "for k in range(10, 19):\n",
    "  seedK = f'2025-02-26 {k}'\n",
    "  seed(seedK)\n",
    "  p = xor(cipher, str(random())[2:])\n",
    "  print(p, k)\n",
    "\n",
    "# letsmeettomorrow 15"
   ]
  },
  {
   "cell_type": "markdown",
   "id": "138c30",
   "metadata": {
    "collapsed": false
   },
   "source": [
    "## Randomness\n",
    "\n",
    "How to generate random numbers? \\(From ambient noise, [Mouse movement](https://www.russellcottrell.com/blog/mousePointerRNG.htm)\\)\n",
    "\n",
    "How easy are these to implement?\n",
    "\n",
    "How effective are they?\n",
    "\n"
   ]
  },
  {
   "cell_type": "code",
   "execution_count": 7,
   "id": "0ae185",
   "metadata": {
    "collapsed": false
   },
   "outputs": [
    {
     "name": "stdout",
     "output_type": "stream",
     "text": [
      "\n",
      "First random number = 13436424411240122\n",
      "Second random number = 8474337369372327\n",
      "\n",
      "First random number = 13436424411240122\n",
      "Second random number = 8474337369372327\n"
     ]
    }
   ],
   "source": [
    "from random import seed\n",
    "from random import random\n",
    "\n",
    "# seed random number generator\n",
    "seed(1)\n",
    "print(\"\\nFirst random number =\", str(random())[2:])\n",
    "print(\"Second random number =\", str(random())[2:])\n",
    "\n",
    "# reset the seed\n",
    "seed(1)\n",
    "print(\"\\nFirst random number =\", str(random())[2:])\n",
    "print(\"Second random number =\", str(random())[2:])"
   ]
  },
  {
   "cell_type": "code",
   "execution_count": 8,
   "id": "9f762b",
   "metadata": {
    "collapsed": false
   },
   "outputs": [
    {
     "name": "stdout",
     "output_type": "stream",
     "text": [
      "\n",
      "First random number = 9956145204202953\n",
      "Second random number = 46111918442220634\n",
      "\n",
      "First random number = 9956145204202953\n",
      "Second random number = 46111918442220634\n"
     ]
    }
   ],
   "source": [
    "from datetime import datetime\n",
    "from random import seed\n",
    "from random import random\n",
    "\n",
    "dateToday = str(datetime.now().date())\n",
    "hournow = str(datetime.now().hour)\n",
    "\n",
    "# set the seed\n",
    "seed(dateToday+\" \"+hournow)\n",
    "# generate some random numbers\n",
    "print(\"\\nFirst random number =\", str(random())[2:])\n",
    "print(\"Second random number =\", str(random())[2:])\n",
    "\n",
    "# reset the seed\n",
    "seed(dateToday+\" \"+hournow)\n",
    "\n",
    "# generate some random numbers\n",
    "print(\"\\nFirst random number =\", str(random())[2:])\n",
    "print(\"Second random number =\", str(random())[2:])\n"
   ]
  },
  {
   "cell_type": "code",
   "execution_count": 0,
   "id": "803fb0",
   "metadata": {
    "collapsed": false
   },
   "outputs": [],
   "source": []
  },
  {
   "cell_type": "code",
   "execution_count": 0,
   "id": "0383f8",
   "metadata": {
    "collapsed": false
   },
   "outputs": [],
   "source": []
  }
 ],
 "metadata": {
  "kernelspec": {
   "display_name": ".venv",
   "language": "python",
   "name": "python3"
  },
  "language_info": {
   "codemirror_mode": {
    "name": "ipython",
    "version": 3
   },
   "file_extension": ".py",
   "mimetype": "text/x-python",
   "name": "python",
   "nbconvert_exporter": "python",
   "pygments_lexer": "ipython3",
   "version": "3.13.2"
  }
 },
 "nbformat": 4,
 "nbformat_minor": 4
}
