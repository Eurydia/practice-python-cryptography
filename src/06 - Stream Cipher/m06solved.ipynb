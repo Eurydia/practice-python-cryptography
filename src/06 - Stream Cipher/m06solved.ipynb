{
 "cells": [
  {
   "cell_type": "code",
   "execution_count": 3,
   "id": "6cf4f0",
   "metadata": {
    "collapsed": false
   },
   "outputs": [],
   "source": [
    "def shift_and_print(iv):\n",
    "    while iv:\n",
    "        ot = 1 & iv # save the rightmost bit\n",
    "        iv >>= 1 # shift\n",
    "        print(ot)"
   ]
  },
  {
   "cell_type": "code",
   "execution_count": 2,
   "id": "38d028",
   "metadata": {
    "collapsed": false
   },
   "outputs": [],
   "source": [
    "def shift_and_yield(iv):\n",
    "    while iv:\n",
    "        ot = 1 & iv # save the rightmost bit\n",
    "        iv >>= 1 # shift\n",
    "        yield ot"
   ]
  },
  {
   "cell_type": "code",
   "execution_count": 4,
   "id": "48c0f0",
   "metadata": {
    "collapsed": false
   },
   "outputs": [
    {
     "name": "stdout",
     "output_type": "stream",
     "text": [
      "1\n",
      "1\n",
      "0\n",
      "0\n",
      "0\n",
      "1\n",
      "1\n"
     ]
    }
   ],
   "source": [
    "shift_and_print(int(hex(0x63), 16))\n"
   ]
  },
  {
   "cell_type": "code",
   "execution_count": 5,
   "id": "bd6812",
   "metadata": {
    "collapsed": false
   },
   "outputs": [
    {
     "name": "stdout",
     "output_type": "stream",
     "text": [
      "0\n",
      "1\n",
      "1\n",
      "1\n",
      "0\n",
      "0\n",
      "1\n"
     ]
    }
   ],
   "source": [
    "shift_and_print(int('1001110', 2))\n"
   ]
  },
  {
   "cell_type": "code",
   "execution_count": 6,
   "id": "f87b2d",
   "metadata": {
    "collapsed": false
   },
   "outputs": [
    {
     "name": "stdout",
     "output_type": "stream",
     "text": [
      "Output in one line =  1001011\n"
     ]
    }
   ],
   "source": [
    "print('Output in one line = ',\n",
    "      ''.join(str(output) for output in shift_and_yield(int('1101001', 2))))"
   ]
  },
  {
   "cell_type": "markdown",
   "id": "7bc224",
   "metadata": {
    "collapsed": false
   },
   "source": [
    "## Linear Feedback Shift Register\n",
    "\n"
   ]
  },
  {
   "cell_type": "code",
   "execution_count": 21,
   "id": "cc3353",
   "metadata": {
    "collapsed": false
   },
   "outputs": [],
   "source": [
    "def lfsr_generate(seed, mask, n):\n",
    "    seed_int = int(seed, 2)\n",
    "    mask_int = int(mask, 2)\n",
    "    nbits = len(seed)\n",
    "\n",
    "    state = seed_int\n",
    "    while n > 0:\n",
    "        output =  1 & state # get the most right bit\n",
    "\n",
    "        _mask, _state, new_bit = mask_int, state, 0 # store the values of mask_int and state, also set the new bit to zero, which will be later modified based on the mask and seed value\n",
    "        while _mask:\n",
    "            new_bit ^= (1 & _mask) * (1 & _state) # bit by bit xor with the current state, based on the mask\n",
    "            _mask >>= 1 # shift to the right\n",
    "            _state >>= 1 # shift to the right\n",
    "\n",
    "        state = (state >> 1) | (new_bit << (nbits - 1)) # Shift to the right by one, and put (concatenate) the new bit in the msb\n",
    "\n",
    "        yield output, state\n",
    "        n -= 1"
   ]
  },
  {
   "cell_type": "code",
   "execution_count": 22,
   "id": "c40d4b",
   "metadata": {
    "collapsed": false
   },
   "outputs": [],
   "source": [
    "seed = '0001'       # secret initial seed\n",
    "mask = '0101'       # e.g. 101 means --> x^2 + 1\n",
    "samples = 20        # required number of random bits"
   ]
  },
  {
   "cell_type": "code",
   "execution_count": 23,
   "id": "42bff9",
   "metadata": {
    "collapsed": false
   },
   "outputs": [],
   "source": [
    "key = lfsr_generate(seed, mask, samples)\n",
    "key_str = ''.join(str(x) for x, _ in key)\n",
    "key_hex = hex(int(key_str, 2))[2:]"
   ]
  },
  {
   "cell_type": "code",
   "execution_count": 24,
   "id": "dec61c",
   "metadata": {
    "collapsed": false
   },
   "outputs": [
    {
     "name": "stdout",
     "output_type": "stream",
     "text": [
      "[x] output lfsr sequence =  10001010001010001010\n"
     ]
    }
   ],
   "source": [
    "print(\"[x] output lfsr sequence = \", key_str)\n",
    "# For the above initial setting the output should be --> [x] output lfsr sequence =  10001010001010001010\n",
    "assert key_str == '10001010001010001010'"
   ]
  },
  {
   "cell_type": "markdown",
   "id": "2142dd",
   "metadata": {
    "collapsed": false
   },
   "source": [
    "## Encryption and Decryption using LFSR\n",
    "\n"
   ]
  },
  {
   "cell_type": "code",
   "execution_count": 25,
   "id": "6e7605",
   "metadata": {
    "collapsed": false
   },
   "outputs": [],
   "source": [
    "def encrypt(plain, key: str):\n",
    "    # Your code Here\n",
    "    # For encryption take two digits of the key (entered as hexa), convert them to integer, then XOR them with the ascii code of charachter, convert the result back to symnbol, to be repeated for all string\n",
    "    key_int = int(key[:4], 16)\n",
    "    result = \"\".join([chr(ord(ch) ^ key_int) for ch in plain])\n",
    "    return result"
   ]
  },
  {
   "cell_type": "code",
   "execution_count": 26,
   "id": "7d9ebc",
   "metadata": {
    "collapsed": false
   },
   "outputs": [],
   "source": [
    "def decrypt(cipher, key):\n",
    "    # Your code here\n",
    "    # reverse the encryption process. The code is identical to the encryption part.\n",
    "    result = encrypt(cipher, key)\n",
    "    return result"
   ]
  },
  {
   "cell_type": "code",
   "execution_count": 27,
   "id": "62d720",
   "metadata": {
    "collapsed": false
   },
   "outputs": [],
   "source": [
    "plain = 'something new'     # plaintext entered as string, e.g. 'something new'\n",
    "secret_seed = '0001'        # secret initial seed\n",
    "mask = '0101'               # e.g. 101 means --> x^2 + 1\n",
    "samples = len(plain) * 8    # required number of random bits --> number of characters in plaintext multiplied by 8"
   ]
  },
  {
   "cell_type": "code",
   "execution_count": 31,
   "id": "c9905e",
   "metadata": {
    "collapsed": false
   },
   "outputs": [
    {
     "data": {
      "text/plain": [
       "'10001010001010001010001010001010001010001010001010001010001010001010001010001010001010001010001010001010'"
      ]
     },
     "execution_count": 31,
     "metadata": {},
     "output_type": "execute_result"
    }
   ],
   "source": [
    "key = lfsr_generate(secret_seed, mask, samples)\n",
    "key_str = ''.join([str(b) for b, _ in key]) # Convert the key to a sequence of binary bits\n",
    "# based on the above initial setting the output of key_str should be --> 10001010001010001010001010001010001010001010001010001010001010001010001010001010001010001010001010001010\n",
    "key_str"
   ]
  },
  {
   "cell_type": "code",
   "execution_count": 35,
   "id": "4c6808",
   "metadata": {
    "collapsed": false
   },
   "outputs": [
    {
     "data": {
      "text/plain": [
       "'0x8a28a28a28a28a28a28a28a28a'"
      ]
     },
     "execution_count": 35,
     "metadata": {},
     "output_type": "execute_result"
    }
   ],
   "source": [
    "key_hex = hex(int(key_str, 2))# Get the hexa value of the key\n",
    "key_hex "
   ]
  },
  {
   "cell_type": "code",
   "execution_count": 36,
   "id": "5d3c1a",
   "metadata": {
    "collapsed": false
   },
   "outputs": [
    {
     "name": "stdout",
     "output_type": "stream",
     "text": [
      "[x] Ciphertext =  c3b9c3a5c3a7c3afc3bec3a2c3a3c3a4c3adc2aac3a4c3afc3bd\n"
     ]
    }
   ],
   "source": [
    "cipher = encrypt(plain, key_hex)\n",
    "print(\"[x] Ciphertext = \", cipher.encode('utf-8').hex())\n",
    "# based on the above initial setting the output of hexa value of the encoded cipher should be --> c3b947c38fc3af5cc38ac3a346c385c2aa46c387c3bd"
   ]
  },
  {
   "cell_type": "code",
   "execution_count": 37,
   "id": "b20e25",
   "metadata": {
    "collapsed": false
   },
   "outputs": [
    {
     "name": "stdout",
     "output_type": "stream",
     "text": [
      "[x] Recovered plaintext =  something new\n"
     ]
    }
   ],
   "source": [
    "\n",
    "re_plain = decrypt(cipher, key_hex)\n",
    "print(\"[x] Recovered plaintext = \", re_plain)"
   ]
  },
  {
   "cell_type": "markdown",
   "id": "d34c34",
   "metadata": {
    "collapsed": false
   },
   "source": [
    "## Cracking LFSR\n",
    "\n"
   ]
  },
  {
   "cell_type": "code",
   "execution_count": 38,
   "id": "1f464c",
   "metadata": {
    "collapsed": false
   },
   "outputs": [
    {
     "name": "stdout",
     "output_type": "stream",
     "text": [
      "[*] Recovering secret key  :  [0, 1, 0, 1]\n"
     ]
    }
   ],
   "source": [
    "from berlekampmassey import bm\n",
    "\n",
    "\n",
    "poly = list(bm('10001010001010001010'))[-1]\n",
    "print(\"[*] Recovering secret key  : \",poly[::-1])  # The recovered polynomial is our key"
   ]
  },
  {
   "cell_type": "code",
   "execution_count": 0,
   "id": "df7733",
   "metadata": {
    "collapsed": false
   },
   "outputs": [],
   "source": []
  },
  {
   "cell_type": "markdown",
   "id": "023b91",
   "metadata": {
    "collapsed": false
   },
   "source": [
    "## ChaCha20\n",
    "\n"
   ]
  },
  {
   "cell_type": "code",
   "execution_count": 40,
   "id": "85474d",
   "metadata": {
    "collapsed": false
   },
   "outputs": [
    {
     "name": "stdout",
     "output_type": "stream",
     "text": [
      "Plaintext: b'Secret message'\n",
      "Ciphertext: 86509868cf4a2004b37c84046017\n",
      "Decrypted: b'Secret message'\n"
     ]
    }
   ],
   "source": [
    "from cryptography.hazmat.primitives.ciphers import Cipher, algorithms, modes\n",
    "from cryptography.hazmat.backends import default_backend\n",
    "import os\n",
    "\n",
    "def chacha20_encrypt(plaintext, key, nonce):\n",
    "    cipher = Cipher(algorithms.ChaCha20(key, nonce), mode=None, backend=default_backend())\n",
    "    encryptor = cipher.encryptor()\n",
    "    return encryptor.update(plaintext)\n",
    "\n",
    "def chacha20_decrypt(ciphertext, key, nonce):\n",
    "    cipher = Cipher(algorithms.ChaCha20(key, nonce), mode=None, backend=default_backend())\n",
    "    decryptor = cipher.decryptor()\n",
    "    return decryptor.update(ciphertext)\n",
    "\n",
    "# Generate a random 32-byte key and 16-byte nonce\n",
    "key = os.urandom(32)  # 256-bit key\n",
    "nonce = os.urandom(16)  # 128-bit nonce\n",
    "\n",
    "# Example usage\n",
    "plaintext = b\"Secret message\"\n",
    "ciphertext = chacha20_encrypt(plaintext, key, nonce)\n",
    "decrypted = chacha20_decrypt(ciphertext, key, nonce)\n",
    "\n",
    "print(f\"Plaintext: {plaintext}\")\n",
    "print(f\"Ciphertext: {ciphertext.hex()}\")\n",
    "print(f\"Decrypted: {decrypted}\")"
   ]
  }
 ],
 "metadata": {
  "kernelspec": {
   "display_name": ".venv",
   "language": "python",
   "name": "python3"
  },
  "language_info": {
   "codemirror_mode": {
    "name": "ipython",
    "version": 3
   },
   "file_extension": ".py",
   "mimetype": "text/x-python",
   "name": "python",
   "nbconvert_exporter": "python",
   "pygments_lexer": "ipython3",
   "version": "3.13.2"
  }
 },
 "nbformat": 4,
 "nbformat_minor": 4
}
