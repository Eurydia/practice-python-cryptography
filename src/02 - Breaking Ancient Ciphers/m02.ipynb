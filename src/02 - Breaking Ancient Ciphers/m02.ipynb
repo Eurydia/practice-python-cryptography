{
 "cells": [
  {
   "cell_type": "markdown",
   "id": "df26a9",
   "metadata": {
    "collapsed": false
   },
   "source": [
    "# Recap: Caesar Cipher\n",
    "\n",
    "Let start with some general notes:\n",
    "\n",
    "- This encryption isn’t limited to lowercase letters; it assumes non\\-letter characters are included\n",
    "- The order of characters matters due to their inclusion.   \n",
    "- The algorithm works only if you define your own character set.   \n",
    "- Alternatively, decryption requires the text to be encrypted with the predefined set.\n",
    "\n",
    "So first, define a set of letters and characters for the function to shift left by N positions until it covers all of them. Here, there are two \"alphabet\" variables: one from the first practice class and another with capitals and punctuation.  Uncomment the one you want to use.  \n"
   ]
  },
  {
   "cell_type": "code",
   "execution_count": 108,
   "id": "6e7ef8",
   "metadata": {
    "collapsed": false
   },
   "outputs": [],
   "source": [
    "alphabet = \"abcdefghijklmnopqrstuvwxyz, \"\n",
    "#alphabet = \"ABCDEFGHIJKLMNOPQRSTUVWXYZabcdefghijklmnopqrstuvwxyz,;?!-' \""
   ]
  },
  {
   "cell_type": "code",
   "execution_count": 109,
   "id": "ca87b5",
   "metadata": {
    "collapsed": false
   },
   "outputs": [],
   "source": [
    "def indexOfLetter(char):\n",
    "    return alphabet.find(char)\n",
    "def letterWithIndex(i):\n",
    "    return alphabet[i]"
   ]
  },
  {
   "cell_type": "code",
   "execution_count": 110,
   "id": "b2eac5",
   "metadata": {
    "collapsed": false
   },
   "outputs": [],
   "source": [
    "def shiftChar(c, shift):\n",
    "    i = indexOfLetter(c)\n",
    "    new = (i + shift) % 28\n",
    "    return letterWithIndex(new)\n",
    "\n",
    "def caesar(plain, shiftNumber):\n",
    "    cipher = \"\"\n",
    "    for c in plain:\n",
    "        cipher += shiftChar(c, shiftNumber)\n",
    "    return cipher\n",
    "    "
   ]
  },
  {
   "cell_type": "markdown",
   "id": "ecf773",
   "metadata": {
    "collapsed": false
   },
   "source": [
    "# Breaking Caesar by Brute force Attack\n",
    "\n"
   ]
  },
  {
   "cell_type": "code",
   "execution_count": 111,
   "id": "cbf5cb",
   "metadata": {
    "collapsed": false
   },
   "outputs": [],
   "source": [
    "def caesar_breaking_v1(cipher):\n",
    "    for i in range(0, len(alphabet)):\n",
    "        print(\"\".join(shiftChar(c, -i) for c in cipher))"
   ]
  },
  {
   "cell_type": "code",
   "execution_count": 112,
   "id": "237db1",
   "metadata": {
    "collapsed": false
   },
   "outputs": [
    {
     "name": "stdout",
     "output_type": "stream",
     "text": [
      "ugetgv\n",
      "tfdsfu\n",
      "secret\n",
      "rdbqds\n",
      "qcapcr\n",
      "pb obq\n",
      "oa,nap\n",
      "n zm o\n",
      "m,yl,n\n",
      "lzxkzm\n",
      "kywjyl\n",
      "jxvixk\n",
      "iwuhwj\n",
      "hvtgvi\n",
      "gusfuh\n",
      "ftretg\n",
      "esqdsf\n",
      "drpcre\n",
      "cqobqd\n",
      "bpnapc\n",
      "aom ob\n",
      " nl,na\n",
      ",mkzm \n",
      "zljyl,\n",
      "ykixkz\n",
      "xjhwjy\n",
      "wigvix\n",
      "vhfuhw\n"
     ]
    }
   ],
   "source": [
    "# Test your code\n",
    "caesar_breaking_v1('ugetgv')\n",
    "# key = 2, m = 'secret'"
   ]
  },
  {
   "cell_type": "markdown",
   "id": "8bfd12",
   "metadata": {
    "collapsed": false
   },
   "source": [
    "### Filter the possible plaintext based on a dictionary\n",
    "\n",
    "To break a Caesar cipher using a dictionary, follow these steps:\n",
    "\n",
    "1. **Generate Possible Plaintexts**:Try all possible shifts to decrypt the ciphertext.\n",
    "2. **Compare with a Dictionary**: Check each decrypted text against the predefined dictionary of valid words \\(common\\_words.txt\\).\n",
    "3. **Filter Meaningful Results**: Discard outputs that is not in the dictionary words, keeping only plausible plaintexts.\n",
    "\n"
   ]
  },
  {
   "cell_type": "code",
   "execution_count": 113,
   "id": "63d619",
   "metadata": {
    "collapsed": false
   },
   "outputs": [],
   "source": [
    "def caesar_breaking_v2(cipher):\n",
    "    f = open(\"common_words.txt\", \"r\")\n",
    "    cw = f.read()\n",
    "    cw = cw.split(\"\\n\")\n",
    "    for i,_ in enumerate(alphabet):\n",
    "        if (\"\".join((shiftChar(c, -i) for c in cipher)) in cw):\n",
    "            print('m=',\"\".join((shiftChar(c, -i) for c in cipher)), ',key=', i)\n",
    "    # Now, similar to the previous one, BUT, return only if the word is among the common English words"
   ]
  },
  {
   "cell_type": "code",
   "execution_count": 114,
   "id": "02ea11",
   "metadata": {
    "collapsed": false
   },
   "outputs": [
    {
     "name": "stdout",
     "output_type": "stream",
     "text": [
      "m= secret ,key= 2\n"
     ]
    }
   ],
   "source": [
    "# This time, it should return only one plaintext\n",
    "caesar_breaking_v2('ugetgv')"
   ]
  },
  {
   "cell_type": "markdown",
   "id": "45eeb6",
   "metadata": {
    "collapsed": false
   },
   "source": [
    "# Breaking Caesar by Frequency Analysis\n",
    "\n",
    "Lets analyze and print the frequency of letters in a given text. \n",
    "\n",
    "The following function uses \\`Counter\\` from the \\`collections\\` module to count occurrences of each character. The characters are then sorted by frequency in descending order. Finally, it loops through the sorted characters and prints only the alphabetic ones along with their counts.\n",
    "\n"
   ]
  },
  {
   "cell_type": "code",
   "execution_count": 115,
   "id": "402b5c",
   "metadata": {
    "collapsed": false
   },
   "outputs": [],
   "source": [
    "from collections import Counter\n",
    "def text_to_frequency(text):\n",
    "    L={}\n",
    "    frequency = Counter(text)\n",
    "    frequency_sorted = sorted(frequency, key=frequency.get, reverse=True)\n",
    "    for char in frequency_sorted:\n",
    "        if char.isalpha():\n",
    "            L[char] = frequency[char]\n",
    "    return L"
   ]
  },
  {
   "cell_type": "code",
   "execution_count": 116,
   "id": "154dca",
   "metadata": {
    "collapsed": false
   },
   "outputs": [],
   "source": [
    "import matplotlib.pyplot as plt\n",
    "\n",
    "def plot_histogram(dictionary):\n",
    "    sorted_items = sorted(dictionary.items(), key=lambda item: item[1], reverse=True)\n",
    "    keys = [item[0] for item in sorted_items]\n",
    "    values = [item[1] for item in sorted_items]\n",
    "\n",
    "    plt.bar(keys, values)\n",
    "    plt.xlabel('Letters')\n",
    "    plt.ylabel('Number of appearances')\n",
    "    plt.title('Histogram of the Letters')\n",
    "    plt.show()"
   ]
  },
  {
   "cell_type": "markdown",
   "id": "64751d",
   "metadata": {
    "collapsed": false
   },
   "source": [
    "Now, it is your turn. \n",
    "\n",
    "Use the previous function to analyse the letter frequency in the crypto.txt file. \n"
   ]
  },
  {
   "cell_type": "code",
   "execution_count": 117,
   "id": "7b5457",
   "metadata": {
    "collapsed": false
   },
   "outputs": [],
   "source": [
    "#Read a definition from a file\n",
    "pathurl = \"crypto.txt\"\n",
    "f = open(pathurl, \"r\")\n",
    "cryptography_definition = f.read().replace(\" \", \"\")\n",
    "# we used .replace(\" \", \"\") to remove the spaces, to focus only on the alphabet"
   ]
  },
  {
   "cell_type": "code",
   "execution_count": 118,
   "id": "b97f2e",
   "metadata": {
    "collapsed": false
   },
   "outputs": [
    {
     "data": {
      "text/plain": [
       "{'e': 275,\n",
       " 't': 205,\n",
       " 'a': 194,\n",
       " 'i': 191,\n",
       " 'r': 176,\n",
       " 'o': 175,\n",
       " 'n': 166,\n",
       " 's': 147,\n",
       " 'c': 128,\n",
       " 'p': 89,\n",
       " 'h': 86,\n",
       " 'l': 85,\n",
       " 'd': 85,\n",
       " 'm': 74,\n",
       " 'y': 67,\n",
       " 'g': 59,\n",
       " 'u': 58,\n",
       " 'f': 40,\n",
       " 'v': 27,\n",
       " 'b': 26,\n",
       " 'w': 17,\n",
       " 'k': 6,\n",
       " 'q': 3,\n",
       " 'x': 3,\n",
       " 'z': 2,\n",
       " 'j': 2}"
      ]
     },
     "execution_count": 118,
     "metadata": {},
     "output_type": "execute_result"
    }
   ],
   "source": [
    "text_to_frequency(cryptography_definition)"
   ]
  },
  {
   "cell_type": "code",
   "execution_count": 119,
   "id": "e8a317",
   "metadata": {
    "collapsed": false
   },
   "outputs": [
    {
     "data": {
      "image/png": "[encoded data removed]",
      "text/plain": [
       "<Figure size 640x480 with 1 Axes>"
      ]
     },
     "metadata": {},
     "output_type": "display_data"
    }
   ],
   "source": [
    "plot_histogram(text_to_frequency(cryptography_definition))"
   ]
  },
  {
   "cell_type": "markdown",
   "id": "1a7f31",
   "metadata": {
    "collapsed": false
   },
   "source": [
    "Lets encrypt the text using Caesar cipher, and see the frequencies. \n",
    "\n"
   ]
  },
  {
   "cell_type": "code",
   "execution_count": 120,
   "id": "9b7d83",
   "metadata": {
    "collapsed": false
   },
   "outputs": [
    {
     "data": {
      "image/png": "[encoded data removed]",
      "text/plain": [
       "<Figure size 640x480 with 1 Axes>"
      ]
     },
     "metadata": {},
     "output_type": "display_data"
    }
   ],
   "source": [
    "# Here, encrypt the plaintext (cryptography definition) and plot the histogram. What you see ?\n",
    "\n",
    "plot_histogram(text_to_frequency( caesar(cryptography_definition, 2)))"
   ]
  },
  {
   "cell_type": "markdown",
   "id": "e04862",
   "metadata": {
    "collapsed": false
   },
   "source": [
    "Now, perform an attack against Caesar cipher, by mapping the ciphertext frequencies to the English letter frequencies. You may use the following letter frequencies of the English letters. \n"
   ]
  },
  {
   "cell_type": "code",
   "execution_count": 121,
   "id": "acf457",
   "metadata": {
    "collapsed": false
   },
   "outputs": [],
   "source": [
    "def frequency_analysis_v0(cipher, english_text):\n",
    "    l_cipher = next(iter(text_to_frequency(cipher)))        # most frequent letter in cipher\n",
    "    l_english = next(iter(text_to_frequency(english_text))) # most frequent letter in English\n",
    "    mapping = abs( ord(l_cipher) - ord(l_english))\n",
    "    return mapping"
   ]
  },
  {
   "cell_type": "code",
   "execution_count": 122,
   "id": "128946",
   "metadata": {
    "collapsed": false
   },
   "outputs": [
    {
     "data": {
      "text/plain": [
       "2"
      ]
     },
     "execution_count": 122,
     "metadata": {},
     "output_type": "execute_result"
    }
   ],
   "source": [
    "pt = frequency_analysis_v0(caesar(cryptography_definition, 2), cryptography_definition)\n",
    "pt"
   ]
  },
  {
   "cell_type": "markdown",
   "id": "1bb9a6",
   "metadata": {
    "collapsed": false
   },
   "source": [
    "Although you may continue the class with the previous functions, but for more realistic analysis, we need to replace the above one with scoring based frequency analysis. \n",
    "\n",
    "#### Scoring based Frequency Analysis\n",
    "\n",
    "We can analyze letter frequency to determine how close a text is to English. By comparing expected and actual letter frequencies, we assign a score—the lower the score, the more likely it is real English. This helps in decoding ciphertexts by finding the most natural\\-looking plaintext.\n",
    "\n",
    "- Calculate letter frequencies in the given text.\n",
    "- Compare them to expected English letter frequencies.\n",
    "- Lower score = more likely to be real English.\n",
    "\n",
    "Calculate score by summing differences between expected and actual letter frequencies. Example: If 'e' should be 12.8% but is 11.9%, the difference is 0.9%.\n",
    "\n",
    "- Sum the differences for all letters. \n",
    "- Normalize by dividing by the size of the alphabet\n",
    "- Generate all possible plaintexts from the cipher.\n",
    "- Score each one and choose the lowest\\-scoring text as the most likely original.\n",
    "\n"
   ]
  },
  {
   "cell_type": "code",
   "execution_count": null,
   "id": "4a27e4",
   "metadata": {
    "collapsed": false
   },
   "outputs": [],
   "source": [
    "#letter frequency in english alphbet\n",
    "Lf = {'a': 0.0816700000000000, 'b': 0.0149200000000000, 'c': 0.0278200000000000, 'd': 0.0425300000000000, 'e': 0.127020000000000, 'f': 0.0222800000000000, 'g': 0.0201500000000000, 'h': 0.0609400000000000, 'i': 0.0696600000000000, 'j': 0.00153000000000000, 'k': 0.00772000000000000, 'l': 0.0402500000000000, 'm': 0.0240600000000000, 'n': 0.0674900000000000, 'o': 0.0750700000000000, 'p': 0.0192900000000000, 'q': 0.000950000000000000, 'r': 0.0598700000000000, 's': 0.0632700000000000, 't': 0.0905600000000000, 'u': 0.0275800000000000, 'v': 0.00978000000000000, 'w': 0.0236000000000000, 'x': 0.00150000000000000, 'y': 0.0197400000000000, 'z': 0.000740000000000000}\n",
    "\n",
    "def frequency_analysis(cipher: str) -> int:\n",
    "    # Initialize a dictionary to store the frequency of each letter in the ciphertext\n",
    "    cipher_freq = {letter: 0 for letter in Lf}\n",
    "    \n",
    "    # Count the frequency of each letter in the ciphertext\n",
    "    total_letters = 0\n",
    "    for char in cipher.lower():\n",
    "        if char in cipher_freq:\n",
    "            cipher_freq[char] += 1\n",
    "            total_letters += 1\n",
    "    \n",
    "    # Calculate the actual frequency of each letter in the ciphertext\n",
    "    for letter in cipher_freq:\n",
    "        cipher_freq[letter] /= total_letters\n",
    "    \n",
    "    # Calculate the score by summing the absolute differences between expected and actual frequencies\n",
    "    score = 0.0\n",
    "    for letter in Lf:\n",
    "        score += abs(Lf[letter] - cipher_freq[letter])\n",
    "    \n",
    "    score /= len(Lf.values())\n",
    "\n",
    "    # generate all possible plaintext and return the one with the lowest score\n",
    "    \n",
    "    return score\n"
   ]
  },
  {
   "cell_type": "code",
   "execution_count": 172,
   "metadata": {},
   "outputs": [
    {
     "name": "stdout",
     "output_type": "stream",
     "text": [
      "et,rvqitcrj,aqtet,rvqnqi,kuvjgrtcevkegcpfuvwf,qhvgejpkswguhqtugewtgeqoowpkecvkqpkpvjgrtgugpegqhcfxgtuctkcndgjcxkqtboqtgigpgtcnn,aet,rvqitcrj,kucdqwveqpuvtwevkpicpfcpcn, kpirtqvqeqnuvjcvrtgxgpvvjktfrctvkguqtvjgrwdnkehtqotgcfkpirtkxcvgoguucigubxctkqwucurgevukpkphqtocvkqpugewtkv,uwejcufcvceqphkfgpvkcnkv,afcvckpvgitkv,acwvjgpvkecvkqpacpfpqpbtgrwfkcvkqpctgegpvtcnvqoqfgtpet,rvqitcrj,boqfgtpet,rvqitcrj,gzkuvucvvjgkpvgtugevkqpqhvjgfkuekrnkpguqhocvjgocvkeuaeqorwvgtuekgpegagngevtkecngpikpggtkpiaeqoowpkecvkqpuekgpegacpfrj,ukeubcrrnkecvkqpuqhet,rvqitcrj,kpenwfggngevtqpkeeqoogtegaejkrbdcugfrc,ogpvectfuafkikvcnewttgpekguaeqorwvgtrcuuyqtfuacpfoknkvct,eqoowpkecvkqpubet,rvqitcrj,rtkqtvqvjgoqfgtpcigycughhgevkxgn,u,pqp,oqwuykvjgpet,rvkqpaeqpxgtvkpikphqtocvkqphtqoctgcfcdnguvcvgvqwpkpvgnnkikdngpqpugpugbvjgugpfgtqhcpgpet,rvgfoguucigujctguvjgfgeqfkpivgejpkswgqpn,ykvjkpvgpfgftgekrkgpvuvqrtgenwfgceeguuhtqocfxgtuctkgubvjget,rvqitcrj,nkvgtcvwtgqhvgpwuguvjgpcogucnkegbcbhqtvjgugpfgtadqdbdbhqtvjgkpvgpfgftgekrkgpvacpfgxgbgcxguftqrrgtbhqtvjgcfxgtuct,bukpegvjgfgxgnqrogpvqhtqvqtekrjgtocejkpgukpyqtnfyctkcpfvjgcfxgpvqheqorwvgtukpyqtnfyctkkaet,rvqitcrj,ogvjqfujcxgdgeqogkpetgcukpin,eqorngzcpfkvucrrnkecvkqpuoqtgxctkgfboqfgtpet,rvqitcrj,kujgcxkn,dcugfqpocvjgocvkecnvjgqt,cpfeqorwvgtuekgpegrtcevkegbet,rvqitcrjkecniqtkvjouctgfgukipgfctqwpfeqorwvcvkqpcnjctfpguucuuworvkqpuaocmkpiuwejcniqtkvjoujctfvqdtgcmkpcevwcnrtcevkegd,cp,cfxgtuct,byjkngkvkuvjgqtgvkecnn,rquukdngvqdtgcmkpvqcygnnbfgukipgfu,uvgoakvkukphgcukdngkpcevwcnrtcevkegvqfquqbuwejuejgoguakhygnnfgukipgfactgvjgtghqtgvgtogfeqorwvcvkqpcnn,ugewtgbvjgqtgvkecncfxcpegubgbibakortqxgogpvukpkpvgigthcevqtk cvkqpcniqtkvjoubcpfhcuvgteqorwvkpivgejpqnqi,tgswktgvjgugfgukipuvqdgeqpvkpwcnn,tggxcnwcvgfacpfkhpgeguuct,acfcrvgfbkphqtocvkqpbvjgqtgvkecnn,ugewtguejgoguvjcvrtqxcdn,ecppqvdgdtqmgpgxgpykvjwpnkokvgfeqorwvkpirqygtauwejcuvjgqpgbvkogrcfactgowejoqtgfkhhkewnvvqwugkprtcevkegvjcpvjgdguvvjgqtgvkecnn,dtgcmcdngadwveqorwvcvkqpcnn,ugewtgauejgogubvjgitqyvjqhet,rvqitcrjkevgejpqnqi,jcutckugfcpwodgtqhngicnkuuwgukpvjgkphqtocvkqpcigbet,rvqitcrj,burqvgpvkcnhqtwugcucvqqnhqtgurkqpcigcpfugfkvkqpjcungfocp,iqxgtpogpvuvqencuukh,kvcucygcrqpcpfvqnkokvqtgxgprtqjkdkvkvuwugcpfgzrqtvbkpuqoglwtkufkevkqpuyjgtgvjgwugqhet,rvqitcrj,kungicnancyurgtokvkpxguvkicvqtuvqeqorgnvjgfkuenquwtgqhgpet,rvkqpmg,uhqtfqewogpvutgngxcpvvqcpkpxguvkicvkqpbet,rvqitcrj,cnuqrnc,ucoclqttqngkpfkikvcntkijvuocpcigogpvcpfeqr,tkijvkphtkpigogpvfkurwvgukptgictfvqfkikvcnogfkcb\n",
      "dszquphsbqiz psdszqupmphzjtuifqsbdujdfboetuvezpgufdiojrvftgpstfdvsfdpnnvojdbujpojouifqsftfodfpgbewfstbsjbmcfibwjpsanpsfhfofsbmmz dszquphsbqizjtbcpvudpotusvdujohboebobmz,johqspupdpmtuibuqsfwfouuijseqbsujftpsuifqvcmjdgspnsfbejohqsjwbufnfttbhftawbsjpvtbtqfdutjojogpsnbujpotfdvsjuztvdibtebubdpogjefoujbmjuz ebubjoufhsjuz bvuifoujdbujpo boeopoasfqvejbujpobsfdfousbmupnpefsodszquphsbqizanpefsodszquphsbqizfyjtutbuuifjoufstfdujpopguifejtdjqmjoftpgnbuifnbujdt dpnqvufstdjfodf fmfdusjdbmfohjoffsjoh dpnnvojdbujpotdjfodf boeqiztjdtabqqmjdbujpotpgdszquphsbqizjodmveffmfduspojddpnnfsdf dijqacbtfeqbznfoudbset ejhjubmdvssfodjft dpnqvufsqbttxpset boenjmjubszdpnnvojdbujpotadszquphsbqizqsjpsupuifnpefsobhfxbtfggfdujwfmztzopoznpvtxjuifodszqujpo dpowfsujohjogpsnbujpogspnbsfbebcmftubufupvojoufmmjhjcmfopotfotfauiftfoefspgbofodszqufenfttbhftibsftuifefdpejohufdiojrvfpomzxjuijoufoefesfdjqjfoutupqsfdmvefbddfttgspnbewfstbsjftauifdszquphsbqizmjufsbuvsfpgufovtftuifobnftbmjdfabagpsuiftfoefs cpcacagpsuifjoufoefesfdjqjfou boefwfafbwftespqqfsagpsuifbewfstbszatjodfuifefwfmpqnfoupgspupsdjqifsnbdijoftjoxpsmexbsjboeuifbewfoupgdpnqvufstjoxpsmexbsjj dszquphsbqiznfuipetibwfcfdpnfjodsfbtjohmzdpnqmfyboejutbqqmjdbujpotnpsfwbsjfeanpefsodszquphsbqizjtifbwjmzcbtfeponbuifnbujdbmuifpszboedpnqvufstdjfodfqsbdujdfadszquphsbqijdbmhpsjuintbsfeftjhofebspvoedpnqvubujpobmibseofttbttvnqujpot nbljohtvdibmhpsjuintibseupcsfbljobduvbmqsbdujdfczbozbewfstbszaxijmfjujtuifpsfujdbmmzqpttjcmfupcsfbljoupbxfmmaeftjhofetztufn jujtjogfbtjcmfjobduvbmqsbdujdfupeptpatvditdifnft jgxfmmeftjhofe bsfuifsfgpsfufsnfedpnqvubujpobmmztfdvsfauifpsfujdbmbewbodftafaha jnqspwfnfoutjojoufhfsgbdupsj,bujpobmhpsjuintaboegbtufsdpnqvujohufdiopmphzsfrvjsfuiftfeftjhotupcfdpoujovbmmzsffwbmvbufe boejgofdfttbsz bebqufeajogpsnbujpoauifpsfujdbmmztfdvsftdifnftuibuqspwbcmzdboopucfcsplfofwfoxjuivomjnjufedpnqvujohqpxfs tvdibtuifpofaujnfqbe bsfnvdinpsfejggjdvmuupvtfjoqsbdujdfuibouifcftuuifpsfujdbmmzcsfblbcmf cvudpnqvubujpobmmztfdvsf tdifnftauifhspxuipgdszquphsbqijdufdiopmphzibtsbjtfebovncfspgmfhbmjttvftjouifjogpsnbujpobhfadszquphsbqizatqpufoujbmgpsvtfbtbuppmgpsftqjpobhfboetfejujpoibtmfenbozhpwfsonfoutupdmbttjgzjubtbxfbqpoboeupmjnjupsfwfoqspijcjujutvtfboefyqpsuajotpnfkvsjtejdujpotxifsfuifvtfpgdszquphsbqizjtmfhbm mbxtqfsnjujowftujhbupstupdpnqfmuifejtdmptvsfpgfodszqujpolfztgpsepdvnfoutsfmfwbouupbojowftujhbujpoadszquphsbqizbmtpqmbztbnbkpsspmfjoejhjubmsjhiutnbobhfnfouboedpqzsjhiujogsjohfnfouejtqvuftjosfhbseupejhjubmnfejba\n",
      "cryptography,orcryptologyisthepracticeandstudyoftechniquesforsecurecommunicationinthepresenceofadversarialbehavior moregenerally,cryptographyisaboutconstructingandanalyzingprotocolsthatpreventthirdpartiesorthepublicfromreadingprivatemessages variousaspectsininformationsecuritysuchasdataconfidentiality,dataintegrity,authentication,andnon repudiationarecentraltomoderncryptography moderncryptographyexistsattheintersectionofthedisciplinesofmathematics,computerscience,electricalengineering,communicationscience,andphysics applicationsofcryptographyincludeelectroniccommerce,chip basedpaymentcards,digitalcurrencies,computerpasswords,andmilitarycommunications cryptographypriortothemodernagewaseffectivelysynonymouswithencryption,convertinginformationfromareadablestatetounintelligiblenonsense thesenderofanencryptedmessagesharesthedecodingtechniqueonlywithintendedrecipientstoprecludeaccessfromadversaries thecryptographyliteratureoftenusesthenamesalice a forthesender,bob b fortheintendedrecipient,andeve eavesdropper fortheadversary sincethedevelopmentofrotorciphermachinesinworldwariandtheadventofcomputersinworldwarii,cryptographymethodshavebecomeincreasinglycomplexanditsapplicationsmorevaried moderncryptographyisheavilybasedonmathematicaltheoryandcomputersciencepractice cryptographicalgorithmsaredesignedaroundcomputationalhardnessassumptions,makingsuchalgorithmshardtobreakinactualpracticebyanyadversary whileitistheoreticallypossibletobreakintoawell designedsystem,itisinfeasibleinactualpracticetodoso suchschemes,ifwelldesigned,arethereforetermedcomputationallysecure theoreticaladvances e g ,improvementsinintegerfactorizationalgorithms andfastercomputingtechnologyrequirethesedesignstobecontinuallyreevaluated,andifnecessary,adapted information theoreticallysecureschemesthatprovablycannotbebrokenevenwithunlimitedcomputingpower,suchastheone timepad,aremuchmoredifficulttouseinpracticethanthebesttheoreticallybreakable,butcomputationallysecure,schemes thegrowthofcryptographictechnologyhasraisedanumberoflegalissuesintheinformationage cryptography spotentialforuseasatoolforespionageandseditionhasledmanygovernmentstoclassifyitasaweaponandtolimitorevenprohibititsuseandexport insomejurisdictionswheretheuseofcryptographyislegal,lawspermitinvestigatorstocompelthedisclosureofencryptionkeysfordocumentsrelevanttoaninvestigation cryptographyalsoplaysamajorroleindigitalrightsmanagementandcopyrightinfringementdisputesinregardtodigitalmedia \n",
      "bqxosnfq ogxznqbqxosnknfxhrsgdoq bshbd mcrstcxnesdbgmhptdrenqrdbtqdbnlltmhb shnmhmsgdoqdrdmbdne cudqr qh kadg uhnq,lnqdfdmdq kkxzbqxosnfq ogxhr antsbnmrsqtbshmf mc m kxyhmfoqnsnbnkrsg soqdudmssghqco qshdrnqsgdotakhbeqnlqd chmfoqhu sdldrr fdr,u qhntr rodbsrhmhmenql shnmrdbtqhsxrtbg rc s bnmehcdmsh khsxzc s hmsdfqhsxz tsgdmshb shnmz mcmnm,qdotch shnm qdbdmsq ksnlncdqmbqxosnfq ogx,lncdqmbqxosnfq ogxdwhrsr ssgdhmsdqrdbshnmnesgdchrbhokhmdrnel sgdl shbrzbnlotsdqrbhdmbdzdkdbsqhb kdmfhmddqhmfzbnlltmhb shnmrbhdmbdz mcogxrhbr, ookhb shnmrnebqxosnfq ogxhmbktcddkdbsqnmhbbnlldqbdzbgho,a rdco xldmsb qcrzchfhs kbtqqdmbhdrzbnlotsdqo rrvnqcrz mclhkhs qxbnlltmhb shnmr,bqxosnfq ogxoqhnqsnsgdlncdqm fdv rdeedbshudkxrxmnmxlntrvhsgdmbqxoshnmzbnmudqshmfhmenql shnmeqnl qd c akdrs sdsntmhmsdkkhfhakdmnmrdmrd,sgdrdmcdqne mdmbqxosdcldrr fdrg qdrsgdcdbnchmfsdbgmhptdnmkxvhsghmsdmcdcqdbhohdmsrsnoqdbktcd bbdrreqnl cudqr qhdr,sgdbqxosnfq ogxkhsdq stqdnesdmtrdrsgdm ldr khbd, ,enqsgdrdmcdqzana,a,enqsgdhmsdmcdcqdbhohdmsz mcdud,d udrcqnoodq,enqsgd cudqr qx,rhmbdsgdcdudknoldmsneqnsnqbhogdql bghmdrhmvnqkcv qh mcsgd cudmsnebnlotsdqrhmvnqkcv qhhzbqxosnfq ogxldsgncrg udadbnldhmbqd rhmfkxbnlokdw mchsr ookhb shnmrlnqdu qhdc,lncdqmbqxosnfq ogxhrgd uhkxa rdcnml sgdl shb ksgdnqx mcbnlotsdqrbhdmbdoq bshbd,bqxosnfq oghb kfnqhsglr qdcdrhfmdc qntmcbnlots shnm kg qcmdrr rrtloshnmrzl jhmfrtbg kfnqhsglrg qcsnaqd jhm bst koq bshbdax mx cudqr qx,vghkdhshrsgdnqdshb kkxonrrhakdsnaqd jhmsn vdkk,cdrhfmdcrxrsdlzhshrhmed rhakdhm bst koq bshbdsncnrn,rtbgrbgdldrzhevdkkcdrhfmdcz qdsgdqdenqdsdqldcbnlots shnm kkxrdbtqd,sgdnqdshb k cu mbdr,d,f,zhloqnudldmsrhmhmsdfdqe bsnqhy shnm kfnqhsglr, mce rsdqbnlotshmfsdbgmnknfxqdpthqdsgdrdcdrhfmrsnadbnmshmt kkxqddu kt sdcz mchemdbdrr qxz c osdc,hmenql shnm,sgdnqdshb kkxrdbtqdrbgdldrsg soqnu akxb mmnsadaqnjdmdudmvhsgtmkhlhsdcbnlotshmfonvdqzrtbg rsgdnmd,shldo cz qdltbglnqdcheehbtkssntrdhmoq bshbdsg msgdadrssgdnqdshb kkxaqd j akdzatsbnlots shnm kkxrdbtqdzrbgdldr,sgdfqnvsgnebqxosnfq oghbsdbgmnknfxg rq hrdc mtladqnekdf khrrtdrhmsgdhmenql shnm fd,bqxosnfq ogx,ronsdmsh kenqtrd r snnkenqdrohnm fd mcrdchshnmg rkdcl mxfnudqmldmsrsnbk rrhexhs r vd onm mcsnkhlhsnqdudmoqnghahshsrtrd mcdwonqs,hmrnlditqhrchbshnmrvgdqdsgdtrdnebqxosnfq ogxhrkdf kzk vrodqlhshmudrshf snqrsnbnlodksgdchrbknrtqdnedmbqxoshnmjdxrenqcnbtldmsrqdkdu mssn mhmudrshf shnm,bqxosnfq ogx krnok xr l inqqnkdhmchfhs kqhfgsrl m fdldms mcbnoxqhfgshmeqhmfdldmschrotsdrhmqdf qcsnchfhs kldch ,\n",
      "apwnrmep,nfwympapwnrmjmewgqrfcnp,argac,lbqrsbwmdrcaflgoscqdmpqcaspcamkkslga,rgmlglrfcnpcqclacmd,btcpq,pg,j cf,tgmpzkmpceclcp,jjwyapwnrmep,nfwgq, msramlqrpsargle,lb,l,jwxglenpmrmamjqrf,rnpctclrrfgpbn,prgcqmprfcns jgadpmkpc,bglenpgt,rckcqq,ecqzt,pgmsq,qncarqglgldmpk,rgmlqcaspgrwqsaf,qb,r,amldgbclrg,jgrwyb,r,glrcepgrwy,srfclrga,rgmly,lblmlzpcnsbg,rgml,pcaclrp,jrmkmbcplapwnrmep,nfwzkmbcplapwnrmep,nfwcvgqrq,rrfcglrcpqcargmlmdrfcbgqagnjglcqmdk,rfck,rgaqyamknsrcpqagclacycjcarpga,jcleglccpgleyamkkslga,rgmlqagclacy,lbnfwqgaqz,nnjga,rgmlqmdapwnrmep,nfwglajsbccjcarpmlgaamkkcpacyafgnz ,qcbn,wkclra,pbqybgegr,jasppclagcqyamknsrcpn,qqumpbqy,lbkgjgr,pwamkkslga,rgmlqzapwnrmep,nfwnpgmprmrfckmbcpl,ecu,qcddcargtcjwqwlmlwkmsqugrfclapwnrgmlyamltcprglegldmpk,rgmldpmk,pc,b, jcqr,rcrmslglrcjjgeg jclmlqclqczrfcqclbcpmd,lclapwnrcbkcqq,ecqf,pcqrfcbcambglercaflgoscmljwugrfglrclbcbpcagngclrqrmnpcajsbc,aacqqdpmk,btcpq,pgcqzrfcapwnrmep,nfwjgrcp,rspcmdrclsqcqrfcl,kcq,jgacz,zdmprfcqclbcpy m z zdmprfcglrclbcbpcagngclry,lbctczc,tcqbpmnncpzdmprfc,btcpq,pwzqglacrfcbctcjmnkclrmdpmrmpagnfcpk,afglcqglumpjbu,pg,lbrfc,btclrmdamknsrcpqglumpjbu,pggyapwnrmep,nfwkcrfmbqf,tc camkcglapc,qglejwamknjcv,lbgrq,nnjga,rgmlqkmpct,pgcbzkmbcplapwnrmep,nfwgqfc,tgjw ,qcbmlk,rfck,rga,jrfcmpw,lbamknsrcpqagclacnp,argaczapwnrmep,nfga,jempgrfkq,pcbcqgelcb,pmslbamknsr,rgml,jf,pblcqq,qqsknrgmlqyk,igleqsaf,jempgrfkqf,pbrm pc,igl,ars,jnp,argac w,lw,btcpq,pwzufgjcgrgqrfcmpcrga,jjwnmqqg jcrm pc,iglrm,ucjjzbcqgelcbqwqrckygrgqgldc,qg jcgl,ars,jnp,argacrmbmqmzqsafqafckcqygducjjbcqgelcby,pcrfcpcdmpcrcpkcbamknsr,rgml,jjwqcaspczrfcmpcrga,j,bt,lacqzczezygknpmtckclrqglglrcecpd,armpgx,rgml,jempgrfkqz,lbd,qrcpamknsrglercaflmjmewpcosgpcrfcqcbcqgelqrm camlrgls,jjwpcct,js,rcby,lbgdlcacqq,pwy,b,nrcbzgldmpk,rgmlzrfcmpcrga,jjwqcaspcqafckcqrf,rnpmt, jwa,llmr c pmiclctclugrfsljgkgrcbamknsrglenmucpyqsaf,qrfcmlczrgkcn,by,pcksafkmpcbgddgasjrrmsqcglnp,argacrf,lrfc cqrrfcmpcrga,jjw pc,i, jcy sramknsr,rgml,jjwqcaspcyqafckcqzrfcepmurfmdapwnrmep,nfgarcaflmjmewf,qp,gqcb,lsk cpmdjce,jgqqscqglrfcgldmpk,rgml,eczapwnrmep,nfwzqnmrclrg,jdmpsqc,q,rmmjdmpcqngml,ec,lbqcbgrgmlf,qjcbk,lwemtcplkclrqrmaj,qqgdwgr,q,uc,nml,lbrmjgkgrmpctclnpmfg grgrqsqc,lbcvnmprzglqmkchspgqbgargmlqufcpcrfcsqcmdapwnrmep,nfwgqjce,jyj,uqncpkgrgltcqrge,rmpqrmamkncjrfcbgqajmqspcmdclapwnrgmlicwqdmpbmaskclrqpcjct,lrrm,lgltcqrge,rgmlzapwnrmep,nfw,jqmnj,wq,k,hmppmjcglbgegr,jpgefrqk,l,eckclr,lbamnwpgefrgldpgleckclrbgqnsrcqglpce,pbrmbgegr,jkcbg,z\n",
      " ovmqldozmevxlo ovmqlildvfpqebmoz qf bzkapqravlcqb ekfnrbpclopb rob ljjrkf zqflkfkqebmobpbk blczasbopzofzi,bezsfloyjlobdbkboziivx ovmqldozmevfpz,lrq lkpqor qfkdzkazkzivwfkdmolql lipqezqmobsbkqqefoamzoqfbploqebmr,if coljobzafkdmofszqbjbppzdbpyszoflrpzpmb qpfkfkclojzqflkpb rofqvpr ezpazqz lkcfabkqfzifqvxazqzfkqbdofqvxzrqebkqf zqflkxzkaklkyobmrafzqflkzob bkqoziqljlabok ovmqldozmevyjlabok ovmqldozmevbufpqpzqqebfkqbopb qflklcqebafp fmifkbplcjzqebjzqf px ljmrqbop fbk bxbib qof zibkdfkbbofkdx ljjrkf zqflkp fbk bxzkamevpf pyzmmif zqflkplc ovmqldozmevfk irabbib qolkf  ljjbo bx efmy,zpbamzvjbkq zoapxafdfqzi roobk fbpx ljmrqbomzpptloapxzkajfifqzov ljjrkf zqflkpy ovmqldozmevmofloqlqebjlabokzdbtzpbccb qfsbivpvklkvjlrptfqebk ovmqflkx lksboqfkdfkclojzqflkcoljzobzaz,ibpqzqbqlrkfkqbiifdf,ibklkpbkpbyqebpbkabolczkbk ovmqbajbppzdbpezobpqebab lafkdqb ekfnrblkivtfqefkqbkabaob fmfbkqpqlmob irabz  bppcoljzasbopzofbpyqeb ovmqldozmevifqbozqroblcqbkrpbpqebkzjbpzif byzycloqebpbkabox,l,y,ycloqebfkqbkabaob fmfbkqxzkabsbybzsbpaolmmboycloqebzasbopzovypfk bqebabsbilmjbkqlcolqlo fmebojz efkbpfktloiatzofzkaqebzasbkqlc ljmrqbopfktloiatzoffx ovmqldozmevjbqelapezsb,b ljbfk obzpfkdiv ljmibuzkafqpzmmif zqflkpjlobszofbayjlabok ovmqldozmevfpebzsfiv,zpbalkjzqebjzqf ziqeblovzka ljmrqbop fbk bmoz qf by ovmqldozmef zidlofqejpzobabpfdkbazolrka ljmrqzqflkziezoakbppzpprjmqflkpxjzhfkdpr ezidlofqejpezoaql,obzhfkz qrzimoz qf b,vzkvzasbopzovytefibfqfpqeblobqf ziivmlppf,ibql,obzhfkqlztbiiyabpfdkbapvpqbjxfqfpfkcbzpf,ibfkz qrzimoz qf bqlalplypr ep ebjbpxfctbiiabpfdkbaxzobqebobclobqbojba ljmrqzqflkziivpb robyqeblobqf zizaszk bpybydyxfjmolsbjbkqpfkfkqbdbocz qlofwzqflkzidlofqejpyzkaczpqbo ljmrqfkdqb eklildvobnrfobqebpbabpfdkpql,b lkqfkrziivobbszirzqbaxzkafckb bppzovxzazmqbayfkclojzqflkyqeblobqf ziivpb robp ebjbpqezqmolsz,iv zkklq,b,olhbkbsbktfqerkifjfqba ljmrqfkdmltboxpr ezpqeblkbyqfjbmzaxzobjr ejlobafccf riqqlrpbfkmoz qf bqezkqeb,bpqqeblobqf ziiv,obzhz,ibx,rq ljmrqzqflkziivpb robxp ebjbpyqebdoltqelc ovmqldozmef qb eklildvezpozfpbazkrj,bolcibdzifpprbpfkqebfkclojzqflkzdby ovmqldozmevypmlqbkqfziclorpbzpzqlliclobpmflkzdbzkapbafqflkezpibajzkvdlsbokjbkqpql izppfcvfqzpztbzmlkzkaqlifjfqlobsbkmolef,fqfqprpbzkabumloqyfkpljbgrofpaf qflkptebobqebrpblc ovmqldozmevfpibdzixiztpmbojfqfksbpqfdzqlopql ljmbiqebafp ilproblcbk ovmqflkhbvpcloal rjbkqpobibszkqqlzkfksbpqfdzqflky ovmqldozmevziplmizvpzjzgloolibfkafdfqziofdeqpjzkzdbjbkqzka lmvofdeqfkcofkdbjbkqafpmrqbpfkobdzoaqlafdfqzijbafzy\n",
      ",nulpkcnylduwkn,nulpkhkcueopdalny,pe,ayj opq ukbpa,djemqaobknoa,qna,kiiqje,ypekjejpdalnaoaj,akby ranoyneyhzadyreknxiknacajanyhhuw,nulpkcnyldueoyzkqp,kjopnq,pejcyj yjyhuvejclnkpk,khopdyplnarajppden lynpeaoknpdalqzhe,bnkinay ejclnerypaiaooycaoxrynekqoyola,poejejbkniypekjoa,qnepuoq,dyo ypy,kjbe ajpeyhepuw ypyejpacnepuwyqpdajpe,ypekjwyj jkjxnalq eypekjyna,ajpnyhpkik anj,nulpkcnylduxik anj,nulpkcnylduateopoyppdaejpanoa,pekjkbpda eo,elhejaokbiypdaiype,ow,kilqpano,eaj,awaha,pne,yhajcejaanejcw,kiiqje,ypekjo,eaj,awyj lduoe,oxyllhe,ypekjokb,nulpkcnylduej,hq aaha,pnkje,,kiian,aw,delxzyoa lyuiajp,yn ow ecepyh,qnnaj,eaow,kilqpanlyooskn owyj iehepynu,kiiqje,ypekjox,nulpkcnyldulneknpkpdaik anjycasyoabba,perahuoujkjuikqosepdaj,nulpekjw,kjranpejcejbkniypekjbnkiynay yzhaopypapkqjejpahhecezhajkjoajoaxpdaoaj ankbyjaj,nulpa iaooycaodynaopda a,k ejcpa,djemqakjhusepdejpaj a na,eleajpopklna,hq ay,,aoobnkiy ranoyneaoxpda,nulpkcnylduhepanypqnakbpajqoaopdajyiaoyhe,axyxbknpdaoaj anwzkzxzxbknpdaejpaj a na,eleajpwyj araxayrao nkllanxbknpday ranoynuxoej,apda arahkliajpkbnkpkn,eldaniy,dejaoejsknh syneyj pday rajpkb,kilqpanoejsknh syneew,nulpkcnylduiapdk odyraza,kiaej,nayoejchu,kilhatyj epoyllhe,ypekjoiknarynea xik anj,nulpkcnyldueodayrehuzyoa kjiypdaiype,yhpdaknuyj ,kilqpano,eaj,alny,pe,ax,nulpkcnylde,yhcknepdioyna aoecja ynkqj ,kilqpypekjyhdyn jaooyooqilpekjowiygejcoq,dyhcknepdiodyn pkznaygejy,pqyhlny,pe,azuyjuy ranoynuxsdehaepeopdaknape,yhhulkooezhapkznaygejpkysahhx aoecja ouopaiwepeoejbayoezhaejy,pqyhlny,pe,apk kokxoq,do,daiaowebsahh aoecja wynapdanabknapania ,kilqpypekjyhhuoa,qnaxpdaknape,yhy ryj,aoxaxcxweilnkraiajpoejejpacanby,pknevypekjyhcknepdioxyj byopan,kilqpejcpa,djkhkcunamqenapdaoa aoecjopkza,kjpejqyhhunaaryhqypa wyj ebja,aooynuwy ylpa xejbkniypekjxpdaknape,yhhuoa,qnao,daiaopdyplnkryzhu,yjjkpzaznkgajarajsepdqjheiepa ,kilqpejclksanwoq,dyopdakjaxpeialy wynaiq,dikna ebbe,qhppkqoaejlny,pe,apdyjpdazaoppdaknape,yhhuznaygyzhawzqp,kilqpypekjyhhuoa,qnawo,daiaoxpdacnkspdkb,nulpkcnylde,pa,djkhkcudyonyeoa yjqizankbhacyheooqaoejpdaejbkniypekjycax,nulpkcnylduxolkpajpeyhbknqoayoypkkhbknaolekjycayj oa epekjdyoha iyjuckranjiajpopk,hyooebuepyoysaylkjyj pkheiepknarajlnkdezepepoqoayj atlknpxejokiafqneo e,pekjosdanapdaqoakb,nulpkcnyldueohacyhwhysolaniepejraopecypknopk,kilahpda eo,hkoqnakbaj,nulpekjgauobkn k,qiajponaharyjppkyjejraopecypekjx,nulpkcnylduyhoklhyuoyiyfknnkhaej ecepyhnecdpoiyjycaiajpyj ,klunecdpejbnejcaiajp eolqpaoejnacyn pk ecepyhia eyx\n",
      "zmtkojbmxkctvjmzmtkojgjbtdnoc kmxzodz xi,nop,tjao zcidlp najmn zpm zjhhpidzxodjidioc km n iz jax,q mnxmdxgy cxqdjmwhjm b i mxggtvzmtkojbmxkctdnxyjpozjinompzodibxi,xixgtudibkmjojzjgnocxokm q ioocdm,kxmod njmoc kpygdzamjhm x,dibkmdqxo h nnxb nwqxmdjpnxnk zondidiajmhxodjin zpmdotnpzcxn,xoxzjiad, iodxgdotv,xoxdio bmdotvxpoc iodzxodjivxi,ijiwm kp,dxodjixm z iomxgojhj, mizmtkojbmxkctwhj, mizmtkojbmxkct sdnonxooc dio mn zodjijaoc ,dnzdkgdi njahxoc hxodznvzjhkpo mnzd iz v g zomdzxg ibdi  mdibvzjhhpidzxodjinzd iz vxi,kctndznwxkkgdzxodjinjazmtkojbmxkctdizgp,  g zomjidzzjhh mz vzcdkwyxn ,kxth iozxm,nv,dbdoxgzpmm izd nvzjhkpo mkxnnrjm,nvxi,hdgdoxmtzjhhpidzxodjinwzmtkojbmxkctkmdjmojoc hj, mixb rxn aa zodq gtntijithjpnrdoc izmtkodjivzjiq modibdiajmhxodjiamjhxm x,xyg noxo ojpidio ggdbdyg ijin in woc n i, mjaxi izmtko ,h nnxb ncxm noc , zj,dibo zcidlp jigtrdocdio i, ,m zdkd ionojkm zgp, xzz nnamjhx,q mnxmd nwoc zmtkojbmxkctgdo mxopm jao ipn noc ixh nxgdz wxwajmoc n i, mvyjywywajmoc dio i, ,m zdkd iovxi, q w xq n,mjkk mwajmoc x,q mnxmtwndiz oc , q gjkh iojamjojmzdkc mhxzcdi ndirjmg,rxmdxi,oc x,q iojazjhkpo mndirjmg,rxmddvzmtkojbmxkcth ocj,ncxq y zjh dizm xndibgtzjhkg sxi,donxkkgdzxodjinhjm qxmd ,whj, mizmtkojbmxkctdnc xqdgtyxn ,jihxoc hxodzxgoc jmtxi,zjhkpo mnzd iz kmxzodz wzmtkojbmxkcdzxgbjmdochnxm , ndbi ,xmjpi,zjhkpoxodjixgcxm,i nnxnnphkodjinvhxfdibnpzcxgbjmdochncxm,ojym xfdixzopxgkmxzodz ytxitx,q mnxmtwrcdg dodnoc jm odzxggtkjnndyg ojym xfdiojxr ggw, ndbi ,ntno hvdodndia xndyg dixzopxgkmxzodz oj,jnjwnpzcnzc h nvdar gg, ndbi ,vxm oc m ajm o mh ,zjhkpoxodjixggtn zpm woc jm odzxgx,qxiz nw wbwvdhkmjq h iondidio b maxzojmduxodjixgbjmdochnwxi,axno mzjhkpodibo zcijgjbtm lpdm oc n , ndbinojy zjiodipxggtm  qxgpxo ,vxi,dai z nnxmtvx,xko ,wdiajmhxodjiwoc jm odzxggtn zpm nzc h nocxokmjqxygtzxiijoy ymjf i q irdocpigdhdo ,zjhkpodibkjr mvnpzcxnoc ji wodh kx,vxm hpzchjm ,daadzpgoojpn dikmxzodz ocxioc y nooc jm odzxggtym xfxyg vypozjhkpoxodjixggtn zpm vnzc h nwoc bmjrocjazmtkojbmxkcdzo zcijgjbtcxnmxdn ,xiphy mjag bxgdnnp ndioc diajmhxodjixb wzmtkojbmxkctwnkjo iodxgajmpn xnxojjgajm nkdjixb xi,n ,dodjicxng ,hxitbjq mih ionojzgxnndatdoxnxr xkjixi,ojgdhdojm q ikmjcdydodonpn xi, skjmowdinjh epmdn,dzodjinrc m oc pn jazmtkojbmxkctdng bxgvgxrnk mhdodiq nodbxojmnojzjhk goc ,dnzgjnpm ja izmtkodjif tnajm,jzph ionm g qxioojxidiq nodbxodjiwzmtkojbmxkctxgnjkgxtnxhxejmmjg di,dbdoxgmdbconhxixb h ioxi,zjktmdbcodiamdib h io,dnkpo ndim bxm,oj,dbdoxgh ,dxw\n",
      "ylsjnialwjbsuilylsjnifiascmnb,jlwyncy,whzmnozsi n,ybhcko,m ilm,yol,yiggohcywncihchnb,jl,m,hy,i wzp,lmwlcwfx,bwpcilvgil,a,h,lwffsuylsjnialwjbscmwxionyihmnloynchawhzwhwfstchajliniyifmnbwnjl,p,hnnbclzjwlnc,milnb,joxfcy ligl,wzchajlcpwn,g,mmwa,mvpwlciomwmj,ynmchch ilgwncihm,yolcnsmoybwmzwnwyih cz,hncwfcnsuzwnwchn,alcnsuwonb,hncywncihuwhzhihvl,jozcwncihwl,y,hnlwfnigiz,lhylsjnialwjbsvgiz,lhylsjnialwjbs,rcmnmwnnb,chn,lm,yncihi nb,zcmycjfch,mi gwnb,gwncymuyigjon,lmyc,hy,u,f,ynlcywf,hach,,lchauyiggohcywncihmyc,hy,uwhzjbsmcymvwjjfcywncihmi ylsjnialwjbschyfoz,,f,ynlihcyyigg,ly,uybcjvxwm,zjwsg,hnywlzmuzcacnwfyoll,hyc,muyigjon,ljwmmqilzmuwhzgcfcnwlsyiggohcywncihmvylsjnialwjbsjlcilninb,giz,lhwa,qwm,  ,yncp,fsmshihsgiomqcnb,hylsjncihuyihp,lnchach ilgwncih ligwl,wzwxf,mnwn,niohchn,ffcacxf,hihm,hm,vnb,m,hz,li wh,hylsjn,zg,mmwa,mbwl,mnb,z,yizchan,ybhcko,ihfsqcnbchn,hz,zl,ycjc,hnmnijl,yfoz,wyy,mm ligwzp,lmwlc,mvnb,ylsjnialwjbsfcn,lwnol,i n,hom,mnb,hwg,mwfcy,vwv ilnb,m,hz,luxixvxv ilnb,chn,hz,zl,ycjc,hnuwhz,p,v,wp,mzlijj,lv ilnb,wzp,lmwlsvmchy,nb,z,p,fijg,hni linilycjb,lgwybch,mchqilfzqwlcwhznb,wzp,hni yigjon,lmchqilfzqwlccuylsjnialwjbsg,nbizmbwp,x,yig,chyl,wmchafsyigjf,rwhzcnmwjjfcywncihmgil,pwlc,zvgiz,lhylsjnialwjbscmb,wpcfsxwm,zihgwnb,gwncywfnb,ilswhzyigjon,lmyc,hy,jlwyncy,vylsjnialwjbcywfailcnbgmwl,z,mcah,zwliohzyigjonwncihwfbwlzh,mmwmmogjncihmugwechamoybwfailcnbgmbwlznixl,wechwynowfjlwyncy,xswhswzp,lmwlsvqbcf,cncmnb,il,ncywffsjimmcxf,nixl,wechniwq,ffvz,mcah,zmsmn,gucncmch ,wmcxf,chwynowfjlwyncy,nizimivmoybmyb,g,muc q,ffz,mcah,zuwl,nb,l, il,n,lg,zyigjonwncihwffsm,yol,vnb,il,ncywfwzpwhy,mv,vavucgjlip,g,hnmchchn,a,l wynilctwncihwfailcnbgmvwhz wmn,lyigjonchan,ybhifiasl,kocl,nb,m,z,mcahmnix,yihnchowffsl,,pwfown,zuwhzc h,y,mmwlsuwzwjn,zvch ilgwncihvnb,il,ncywffsm,yol,myb,g,mnbwnjlipwxfsywhhinx,xlie,h,p,hqcnbohfcgcn,zyigjonchajiq,lumoybwmnb,ih,vncg,jwzuwl,goybgil,zc  cyofnniom,chjlwyncy,nbwhnb,x,mnnb,il,ncywffsxl,wewxf,uxonyigjonwncihwffsm,yol,umyb,g,mvnb,aliqnbi ylsjnialwjbcyn,ybhifiasbwmlwcm,zwhogx,li f,awfcmmo,mchnb,ch ilgwncihwa,vylsjnialwjbsvmjin,hncwf ilom,wmwniif il,mjcihwa,whzm,zcncihbwmf,zgwhsaip,lhg,hnmniyfwmmc scnwmwq,wjihwhznifcgcnil,p,hjlibcxcncnmom,whz,rjilnvchmig,dolcmzcyncihmqb,l,nb,om,i ylsjnialwjbscmf,awfufwqmj,lgcnchp,mncawnilmniyigj,fnb,zcmyfimol,i ,hylsjncihe,sm ilziyog,hnml,f,pwhnniwhchp,mncawncihvylsjnialwjbswfmijfwsmwgwdillif,chzcacnwflcabnmgwhwa,g,hnwhzyijslcabnch lcha,g,hnzcmjon,mchl,awlznizcacnwfg,zcwv\n",
      "xkrimh kviarthkxkrimheh rblmazikvxmbxzvgylmnyrh,mzxagbjnzl,hklzxnkzxhffngbxvmbhgbgmazikzlzgxzh,vyozklvkbvewzavobhkufhkz zgzkveertxkrimh kviarblvwhnmxhglmknxmbg vgyvgversbg ikhmhxhelmavmikzozgmmabkyivkmbzlhkmazinwebx,khfkzvybg ikbovmzfzllv zluovkbhnlvlizxmlbgbg,hkfvmbhglzxnkbmrlnxavlyvmvxhg,byzgmbvebmrtyvmvbgmz kbmrtvnmazgmbxvmbhgtvgyghgukzinybvmbhgvkzxzgmkvemhfhyzkgxkrimh kviarufhyzkgxkrimh kviarzqblmlvmmazbgmzklzxmbhgh,mazyblxbiebgzlh,fvmazfvmbxltxhfinmzklxbzgxztzezxmkbxvezg bgzzkbg txhffngbxvmbhglxbzgxztvgyiarlbxluviiebxvmbhglh,xkrimh kviarbgxenyzzezxmkhgbxxhffzkxztxabiuwvlzyivrfzgmxvkyltyb bmvexnkkzgxbzltxhfinmzkivllphkyltvgyfbebmvkrxhffngbxvmbhgluxkrimh kviarikbhkmhmazfhyzkgv zpvlz,,zxmbozerlrghgrfhnlpbmazgxkrimbhgtxhgozkmbg bg,hkfvmbhg,khfvkzvyvwezlmvmzmhngbgmzeeb bwezghglzglzumazlzgyzkh,vgzgxkrimzyfzllv zlavkzlmazyzxhybg mzxagbjnzhgerpbmabgmzgyzykzxbibzgmlmhikzxenyzvxxzll,khfvyozklvkbzlumazxkrimh kviarebmzkvmnkzh,mzgnlzlmazgvfzlvebxzuvu,hkmazlzgyzktwhwuwu,hkmazbgmzgyzykzxbibzgmtvgyzozuzvozlykhiizku,hkmazvyozklvkrulbgxzmazyzozehifzgmh,khmhkxbiazkfvxabgzlbgphkeypvkbvgymazvyozgmh,xhfinmzklbgphkeypvkbbtxkrimh kviarfzmahylavozwzxhfzbgxkzvlbg erxhfiezqvgybmlviiebxvmbhglfhkzovkbzyufhyzkgxkrimh kviarblazvoberwvlzyhgfvmazfvmbxvemazhkrvgyxhfinmzklxbzgxzikvxmbxzuxkrimh kviabxve hkbmaflvkzyzlb gzyvkhngyxhfinmvmbhgveavkygzllvllnfimbhgltfvdbg lnxave hkbmaflavkymhwkzvdbgvxmnveikvxmbxzwrvgrvyozklvkrupabezbmblmazhkzmbxveerihllbwezmhwkzvdbgmhvpzeeuyzlb gzylrlmzftbmblbg,zvlbwezbgvxmnveikvxmbxzmhyhlhulnxalxazfzltb,pzeeyzlb gzytvkzmazkz,hkzmzkfzyxhfinmvmbhgveerlzxnkzumazhkzmbxvevyovgxzluzu utbfikhozfzgmlbgbgmz zk,vxmhkbsvmbhgve hkbmafluvgy,vlmzkxhfinmbg mzxagheh rkzjnbkzmazlzyzlb glmhwzxhgmbgnveerkzzovenvmzytvgyb,gzxzllvkrtvyvimzyubg,hkfvmbhgumazhkzmbxveerlzxnkzlxazfzlmavmikhovwerxvgghmwzwkhdzgzozgpbmangebfbmzyxhfinmbg ihpzktlnxavlmazhgzumbfzivytvkzfnxafhkzyb,,bxnemmhnlzbgikvxmbxzmavgmazwzlmmazhkzmbxveerwkzvdvweztwnmxhfinmvmbhgveerlzxnkztlxazfzlumaz khpmah,xkrimh kviabxmzxagheh ravlkvblzyvgnfwzkh,ez vebllnzlbgmazbg,hkfvmbhgv zuxkrimh kviarulihmzgmbve,hknlzvlvmhhe,hkzlibhgv zvgylzybmbhgavlezyfvgr hozkgfzgmlmhxevllb,rbmvlvpzvihgvgymhebfbmhkzozgikhabwbmbmlnlzvgyzqihkmubglhfzcnkblybxmbhglpazkzmaznlzh,xkrimh kviarblez vetevplizkfbmbgozlmb vmhklmhxhfizemazyblxehlnkzh,zgxkrimbhgdzrl,hkyhxnfzgmlkzezovgmmhvgbgozlmb vmbhguxkrimh kviarvelhievrlvfvchkkhezbgyb bmvekb amlfvgv zfzgmvgyxhirkb ambg,kbg zfzgmyblinmzlbgkz vkymhyb bmvefzybvu\n",
      "wjqhlg,juh qsgjwjqhlgdg,qakl yhjuwlawyufxklmxqgzlyw faimykzgjkywmjywgeemfawulagfafl yhjykyfwygzuxnyjkujaudvy unagjtegjy,yfyjuddqswjqhlg,juh qakuvgmlwgfkljmwlaf,ufxufudqraf,hjglgwgdkl ulhjynyfll ajxhujlaykgjl yhmvdawzjgejyuxaf,hjanulyeykku,yktnujagmkukhywlkafafzgjeulagfkywmjalqkmw ukxuluwgfzaxyflaudalqsxuluafly,jalqsuml yflawulagfsufxfgftjyhmxaulagfujywyfljudlgegxyjfwjqhlg,juh qtegxyjfwjqhlg,juh qypaklkull yaflyjkywlagfgzl yxakwahdafykgzeul yeulawkswgehmlyjkwayfwysydywljawudyf,afyyjaf,swgeemfawulagfkwayfwysufxh qkawktuhhdawulagfkgzwjqhlg,juh qafwdmxyydywljgfawwgeeyjwysw ahtvukyxhuqeyflwujxksxa,aludwmjjyfwaykswgehmlyjhukkogjxksufxeadalujqwgeemfawulagfktwjqhlg,juh qhjagjlgl yegxyjfu,youkyzzywlanydqkqfgfqegmkoal yfwjqhlagfswgfnyjlaf,afzgjeulagfzjgeujyuxuvdyklulylgmfaflydda,avdyfgfkyfkytl ykyfxyjgzufyfwjqhlyxeykku,yk ujykl yxywgxaf,lyw faimygfdqoal aflyfxyxjywahayflklghjywdmxyuwwykkzjgeuxnyjkujayktl ywjqhlg,juh qdalyjulmjygzlyfmkykl yfueykudawytutzgjl ykyfxyjsvgvtvtzgjl yaflyfxyxjywahayflsufxynytyunykxjghhyjtzgjl yuxnyjkujqtkafwyl yxynydgheyflgzjglgjwah yjeuw afykafogjdxoujaufxl yuxnyflgzwgehmlyjkafogjdxoujaaswjqhlg,juh qeyl gxk unyvywgeyafwjyukaf,dqwgehdypufxalkuhhdawulagfkegjynujayxtegxyjfwjqhlg,juh qak yunadqvukyxgfeul yeulawudl ygjqufxwgehmlyjkwayfwyhjuwlawytwjqhlg,juh awud,gjal ekujyxyka,fyxujgmfxwgehmlulagfud ujxfykkukkmehlagfkseucaf,kmw ud,gjal ek ujxlgvjyucafuwlmudhjuwlawyvqufquxnyjkujqto adyalakl ygjylawuddqhgkkavdylgvjyucaflguoyddtxyka,fyxkqklyesalakafzyukavdyafuwlmudhjuwlawylgxgkgtkmw kw yeyksazoyddxyka,fyxsujyl yjyzgjylyjeyxwgehmlulagfuddqkywmjytl ygjylawuduxnufwyktyt,tsaehjgnyeyflkafafly,yjzuwlgjarulagfud,gjal ektufxzuklyjwgehmlaf,lyw fgdg,qjyimajyl ykyxyka,fklgvywgflafmuddqjyynudmulyxsufxazfywykkujqsuxuhlyxtafzgjeulagftl ygjylawuddqkywmjykw yeykl ulhjgnuvdqwuffglvyvjgcyfynyfoal mfdaealyxwgehmlaf,hgoyjskmw ukl ygfytlaeyhuxsujyemw egjyxazzawmdllgmkyafhjuwlawyl ufl yvykll ygjylawuddqvjyucuvdysvmlwgehmlulagfuddqkywmjyskw yeyktl y,jgol gzwjqhlg,juh awlyw fgdg,q ukjuakyxufmevyjgzdy,udakkmykafl yafzgjeulagfu,ytwjqhlg,juh qtkhglyflaudzgjmkyukulggdzgjykhagfu,yufxkyxalagf ukdyxeufq,gnyjfeyflklgwdukkazqalukuoyuhgfufxlgdaealgjynyfhjg avalalkmkyufxyphgjltafkgeybmjakxawlagfko yjyl ymkygzwjqhlg,juh qakdy,udsduokhyjealafnykla,ulgjklgwgehydl yxakwdgkmjygzyfwjqhlagfcyqkzgjxgwmeyflkjydynufllgufafnykla,ulagftwjqhlg,juh qudkghduqkueubgjjgdyafxa,aludja, lkeufu,yeyflufxwghqja, lafzjaf,yeyflxakhmlykafjy,ujxlgxa,aludeyxaut\n",
      "vipgkfzitg,prfivipgkfcfzp jk,xgitvk vxtewjklwpfykxv,e hlxjyfijxvlixvfddle vtk fe ek,xgixjxevxfytwmxijti tcux,tm fisdfixzxexitccprvipgkfzitg,p jtuflkvfejkilvk eztewtetcpq ezgifkfvfcjk,tkgixmxekk, iwgtik xjfik,xgluc vyifdixtw ezgi mtkxdxjjtzxjsmti fljtjgxvkj e eyfidtk fejxvli kpjlv,tjwtktvfey wxek tc kprwtkt ekxzi kprtlk,xek vtk fertewefesixglw tk fetixvxekitckfdfwxievipgkfzitg,psdfwxievipgkfzitg,pxo jkjtkk,x ekxijxvk fefyk,xw jv gc exjfydtk,xdtk vjrvfdglkxijv xevxrxcxvki vtcxez exxi ezrvfddle vtk fejv xevxrtewg,pj vjstggc vtk fejfyvipgkfzitg,p evclwxxcxvkife vvfddxivxrv, gsutjxwgtpdxekvtiwjrw z ktcvliixev xjrvfdglkxigtjjnfiwjrtewd c ktipvfddle vtk fejsvipgkfzitg,pgi fikfk,xdfwxietzxntjxyyxvk mxcpjpefepdfljn k,xevipgk fervfemxik ez eyfidtk feyifdtixtwtucxjktkxkfle ekxcc z ucxefejxejxsk,xjxewxifytexevipgkxwdxjjtzxj,tixjk,xwxvfw ezkxv,e hlxfecpn k, ekxewxwixv g xekjkfgixvclwxtvvxjjyifdtwmxijti xjsk,xvipgkfzitg,pc kxitklixfykxeljxjk,xetdxjtc vxstsyfik,xjxewxirufususyfik,x ekxewxwixv g xekrtewxmxsxtmxjwifggxisyfik,xtwmxijtipsj evxk,xwxmxcfgdxekfyifkfiv g,xidtv, exj enficwnti tewk,xtwmxekfyvfdglkxij enficwnti  rvipgkfzitg,pdxk,fwj,tmxuxvfdx evixtj ezcpvfdgcxotew kjtggc vtk fejdfixmti xwsdfwxievipgkfzitg,p j,xtm cputjxwfedtk,xdtk vtck,xfiptewvfdglkxijv xevxgitvk vxsvipgkfzitg, vtczfi k,djtixwxj zexwtiflewvfdglktk fetc,tiwexjjtjjldgk fejrdtb ezjlv,tczfi k,dj,tiwkfuixtb etvkltcgitvk vxupteptwmxijtipsn, cx k jk,xfixk vtccpgfjj ucxkfuixtb ekftnxccswxj zexwjpjkxdr k j eyxtj ucx etvkltcgitvk vxkfwfjfsjlv,jv,xdxjr ynxccwxj zexwrtixk,xixyfixkxidxwvfdglktk fetccpjxvlixsk,xfixk vtctwmtevxjsxszsr dgifmxdxekj e ekxzxiytvkfi qtk fetczfi k,djstewytjkxivfdglk ezkxv,efcfzpixhl ixk,xjxwxj zejkfuxvfek eltccpixxmtcltkxwrtew yexvxjjtiprtwtgkxws eyfidtk fesk,xfixk vtccpjxvlixjv,xdxjk,tkgifmtucpvteefkuxuifbxexmxen k,lec d kxwvfdglk ezgfnxirjlv,tjk,xfexsk dxgtwrtixdlv,dfixw yy vlckkfljx egitvk vxk,tek,xuxjkk,xfixk vtccpuixtbtucxrulkvfdglktk fetccpjxvlixrjv,xdxjsk,xzifnk,fyvipgkfzitg, vkxv,efcfzp,tjit jxwtelduxifycxztc jjlxj ek,x eyfidtk fetzxsvipgkfzitg,psjgfkxek tcyfiljxtjtkffcyfixjg fetzxtewjxw k fe,tjcxwdtepzfmxiedxekjkfvctjj yp ktjtnxtgfetewkfc d kfixmxegif, u k kjljxtewxogfiks ejfdxali jw vk fejn,xixk,xljxfyvipgkfzitg,p jcxztcrctnjgxid k emxjk ztkfijkfvfdgxck,xw jvcfjlixfyxevipgk febxpjyfiwfvldxekjixcxmtekkfte emxjk ztk fesvipgkfzitg,ptcjfgctpjtdtafiifcx ew z ktci z,kjdtetzxdxektewvfgpi z,k eyi ezxdxekw jglkxj eixztiwkfw z ktcdxw ts\n",
      "uhofjeyhsfzoqehuhofjebeyo,ijzwfhsuj,uwsdvijkvoexjwuzd,gkwixehiwukhwuecckd,usj,ed,djzwfhwiwduwexsvlwhish,sbtwzsl,ehrcehwywdwhsbboquhofjeyhsfzo,istekjuedijhkuj,dysdvsdsbop,dyfhejeuebijzsjfhwlwdjjz,hvfshj,wiehjzwfktb,uxhechwsv,dyfh,lsjwcwiisywirlsh,ekisifwuji,d,dxehcsj,ediwukh,joikuzsivsjsuedx,vwdj,sb,joqvsjs,djwyh,joqskjzwdj,usj,edqsdvdedrhwfkv,sj,edshwuwdjhsbjecevwhduhofjeyhsfzorcevwhduhofjeyhsfzown,ijisjjzw,djwhiwuj,edexjzwv,iu,fb,dwiexcsjzwcsj,uiquecfkjwhiu,wduwqwbwujh,usbwdy,dwwh,dyquecckd,usj,ediu,wduwqsdvfzoi,uirsffb,usj,ediexuhofjeyhsfzo,dubkvwwbwujhed,uueccwhuwquz,frtsiwvfsocwdjushviqv,y,jsbukhhwdu,wiquecfkjwhfsiimehviqsdvc,b,jshouecckd,usj,ediruhofjeyhsfzofh,ehjejzwcevwhdsywmsiwxxwuj,lwboiodedocekim,jzwduhofj,edquedlwhj,dy,dxehcsj,edxhecshwsvstbwijsjwjekd,djwbb,y,tbwdediwdiwrjzwiwdvwhexsdwduhofjwvcwiisywizshwijzwvwuev,dyjwuzd,gkwedbom,jz,djwdvwvhwu,f,wdjijefhwubkvwsuuwiixhecsvlwhish,wirjzwuhofjeyhsfzob,jwhsjkhwexjwdkiwijzwdscwisb,uwrsrxehjzwiwdvwhqtetrtrxehjzw,djwdvwvhwu,f,wdjqsdvwlwrwslwivheffwhrxehjzwsvlwhishori,duwjzwvwlwbefcwdjexhejehu,fzwhcsuz,dwi,dmehbvmsh,sdvjzwsvlwdjexuecfkjwhi,dmehbvmsh,,quhofjeyhsfzocwjzevizslwtwuecw,duhwsi,dybouecfbwnsdv,jisffb,usj,edicehwlsh,wvrcevwhduhofjeyhsfzo,izwsl,botsiwvedcsjzwcsj,usbjzwehosdvuecfkjwhiu,wduwfhsuj,uwruhofjeyhsfz,usbyeh,jzcishwvwi,ydwvshekdvuecfkjsj,edsbzshvdwiisiikcfj,ediqcsa,dyikuzsbyeh,jzcizshvjethwsa,dsujksbfhsuj,uwtosdosvlwhishormz,bw,j,ijzwehwj,usbbofeii,tbwjethwsa,djesmwbbrvwi,ydwvioijwcq,j,i,dxwsi,tbw,dsujksbfhsuj,uwjeveierikuziuzwcwiq,xmwbbvwi,ydwvqshwjzwhwxehwjwhcwvuecfkjsj,edsbboiwukhwrjzwehwj,usbsvlsduwirwryrq,cfhelwcwdji,d,djwywhxsujeh,psj,edsbyeh,jzcirsdvxsijwhuecfkj,dyjwuzdebeyohwgk,hwjzwiwvwi,ydijetwuedj,dksbbohwwlsbksjwvqsdv,xdwuwiishoqsvsfjwvr,dxehcsj,edrjzwehwj,usbboiwukhwiuzwcwijzsjfhelstbousddejtwtheawdwlwdm,jzkdb,c,jwvuecfkj,dyfemwhqikuzsijzwedwrj,cwfsvqshwckuzcehwv,xx,ukbjjekiw,dfhsuj,uwjzsdjzwtwijjzwehwj,usbbothwsastbwqtkjuecfkjsj,edsbboiwukhwqiuzwcwirjzwyhemjzexuhofjeyhsfz,ujwuzdebeyozsihs,iwvsdkctwhexbwysb,iikwi,djzw,dxehcsj,edsywruhofjeyhsfzorifejwdj,sbxehkiwsisjeebxehwif,edsywsdviwv,j,edzsibwvcsdoyelwhdcwdjijeubsii,xo,jsismwsfedsdvjeb,c,jehwlwdfhez,t,j,jikiwsdvwnfehjr,diecw kh,iv,uj,edimzwhwjzwkiwexuhofjeyhsfzo,ibwysbqbsmifwhc,j,dlwij,ysjehijeuecfwbjzwv,iubeikhwexwduhofj,edawoixehveukcwdjihwbwlsdjjesd,dlwij,ysj,edruhofjeyhsfzosbiefbsoiscs ehhebw,dv,y,jsbh,yzjicsdsywcwdjsdvuefoh,yzj,dxh,dywcwdjv,ifkjwi,dhwyshvjev,y,jsbcwv,sr\n",
      "tgneidxgreynpdgtgneidadxnzhiyvegrtiztvrcuhijundwivtyczfjvhwdghvtjgvtdbbjcztrizdczciyvegvhvctvdwrukvghrgzrasvyrkzdgqbdgvxvcvgraanptgneidxgreynzhrsdjitdchigjtizcxrcurcranozcxegdidtdahiyriegvkvciiyzguergizvhdgiyvejsaztwgdbgvruzcxegzkrivbvhhrxvhqkrgzdjhrhevtihzczcwdgbrizdchvtjgzinhjtyrhurirtdcwzuvcizrazinpurirzcivxgzinprjiyvciztrizdcprcucdcqgvejuzrizdcrgvtvcigraidbduvgctgneidxgreynqbduvgctgneidxgreynvmzhihriiyvzcivghvtizdcdwiyvuzhtzeazcvhdwbriyvbrizthptdbejivghtzvctvpvavtigztravcxzcvvgzcxptdbbjcztrizdchtzvctvprcueynhzthqreeaztrizdchdwtgneidxgreynzctajuvvavtigdczttdbbvgtvptyzeqsrhvuernbvcitrguhpuzxziratjggvctzvhptdbejivgerhhldguhprcubzazirgntdbbjcztrizdchqtgneidxgreynegzdgidiyvbduvgcrxvlrhvwwvtizkvanhncdcnbdjhlziyvctgneizdcptdckvgizcxzcwdgbrizdcwgdbrgvrursavhirividjczcivaazxzsavcdchvchvqiyvhvcuvgdwrcvctgneivubvhhrxvhyrgvhiyvuvtduzcxivtyczfjvdcanlziyzcivcuvugvtzezvcihidegvtajuvrttvhhwgdbrukvghrgzvhqiyvtgneidxgreynazivgrijgvdwivcjhvhiyvcrbvhraztvqrqwdgiyvhvcuvgpsdsqsqwdgiyvzcivcuvugvtzezvciprcuvkvqvrkvhugdeevgqwdgiyvrukvghrgnqhzctviyvuvkvadebvcidwgdidgtzeyvgbrtyzcvhzcldgaulrgzrcuiyvrukvcidwtdbejivghzcldgaulrgzzptgneidxgreynbviyduhyrkvsvtdbvzctgvrhzcxantdbeavmrcuzihreeaztrizdchbdgvkrgzvuqbduvgctgneidxgreynzhyvrkzansrhvudcbriyvbriztraiyvdgnrcutdbejivghtzvctvegrtiztvqtgneidxgreyztraxdgziybhrgvuvhzxcvurgdjcutdbejirizdcrayrgucvhhrhhjbeizdchpbr zcxhjtyraxdgziybhyrguidsgvr zcrtijraegrtiztvsnrcnrukvghrgnqlyzavzizhiyvdgviztraanedhhzsavidsgvr zcidrlvaaquvhzxcvuhnhivbpzizhzcwvrhzsavzcrtijraegrtiztvidudhdqhjtyhtyvbvhpzwlvaauvhzxcvuprgviyvgvwdgvivgbvutdbejirizdcraanhvtjgvqiyvdgviztrarukrctvhqvqxqpzbegdkvbvcihzczcivxvgwrtidgzorizdcraxdgziybhqrcuwrhivgtdbejizcxivtycdadxngvfjzgviyvhvuvhzxchidsvtdcizcjraangvvkrajrivuprcuzwcvtvhhrgnprureivuqzcwdgbrizdcqiyvdgviztraanhvtjgvhtyvbvhiyriegdkrsantrccdisvsgd vcvkvclziyjcazbzivutdbejizcxedlvgphjtyrhiyvdcvqizbveruprgvbjtybdgvuzwwztjaiidjhvzcegrtiztviyrciyvsvhiiyvdgviztraansgvr rsavpsjitdbejirizdcraanhvtjgvphtyvbvhqiyvxgdliydwtgneidxgreyztivtycdadxnyrhgrzhvurcjbsvgdwavxrazhhjvhzciyvzcwdgbrizdcrxvqtgneidxgreynqhedivcizrawdgjhvrhriddawdgvhezdcrxvrcuhvuzizdcyrhavubrcnxdkvgcbvcihidtarhhzwnzirhrlvredcrcuidazbzidgvkvcegdyzszizihjhvrcuvmedgiqzchdbv,jgzhuztizdchlyvgviyvjhvdwtgneidxgreynzhavxraparlhevgbzizckvhizxridghidtdbevaiyvuzhtadhjgvdwvctgneizdc vnhwdgudtjbvcihgvavkrciidrczckvhizxrizdcqtgneidxgreynrahdearnhrbr,dggdavzcuzxziragzxyihbrcrxvbvcircutdengzxyizcwgzcxvbvciuzhejivhzcgvxrguiduzxzirabvuzrq\n",
      "sfmdhcwfqdxmocfsfmdhc cwmyghxudfqshysuqbtghitmcvhusxbyeiugvcfgusifuscaaibysqhycbybhxudfugubsucvqtjufgqfyq ruxqjycfpacfuwubufq  mosfmdhcwfqdxmygqrcihscbghfishybwqbtqbq mnybwdfchcsc ghxqhdfujubhhxyftdqfhyugcfhxudir ysvfcafuqtybwdfyjqhuauggqwugpjqfycigqgdushgybybvcfaqhycbgusifyhmgisxqgtqhqscbvytubhyq yhmotqhqybhuwfyhmoqihxubhysqhycboqbtbcbpfudityqhycbqfusubhfq hcactufbsfmdhcwfqdxmpactufbsfmdhcwfqdxmulyghgqhhxuybhufgushycbcvhxutygsyd ybugcvaqhxuaqhysgoscadihufgsyubsuou ushfysq ubwybuufybwoscaaibysqhycbgsyubsuoqbtdxmgysgpqdd ysqhycbgcvsfmdhcwfqdxmybs ituu ushfcbysscaaufsuosxydprqgutdqmaubhsqftgotywyhq siffubsyugoscadihufdqggkcftgoqbtay yhqfmscaaibysqhycbgpsfmdhcwfqdxmdfycfhchxuactufbqwukqguvvushyju mgmbcbmacigkyhxubsfmdhycboscbjufhybwybvcfaqhycbvfcaqfuqtqr ughqhuhcibybhu  ywyr ubcbgubguphxugubtufcvqbubsfmdhutauggqwugxqfughxutusctybwhusxbyeiucb mkyhxybhubtutfusydyubhghcdfus ituqssuggvfcaqtjufgqfyugphxusfmdhcwfqdxm yhufqhifucvhubigughxubqaugq ysupqpvcfhxugubtuforcrprpvcfhxuybhubtutfusydyubhoqbtujupuqjugtfcddufpvcfhxuqtjufgqfmpgybsuhxutuju cdaubhcvfchcfsydxufaqsxybugybkcf tkqfyqbthxuqtjubhcvscadihufgybkcf tkqfyyosfmdhcwfqdxmauhxctgxqjuruscauybsfuqgybw mscad ulqbtyhgqdd ysqhycbgacfujqfyutpactufbsfmdhcwfqdxmygxuqjy mrqgutcbaqhxuaqhysq hxucfmqbtscadihufgsyubsudfqshysupsfmdhcwfqdxysq wcfyhxagqfutugywbutqfcibtscadihqhycbq xqftbuggqggiadhycbgoaq,ybwgisxq wcfyhxagxqfthcrfuq,ybqshiq dfqshysurmqbmqtjufgqfmpkxy uyhyghxucfuhysq  mdcggyr uhcrfuq,ybhcqku  ptugywbutgmghuaoyhygybvuqgyr uybqshiq dfqshysuhctcgcpgisxgsxuaugoyvku  tugywbutoqfuhxufuvcfuhufautscadihqhycbq  mgusifuphxucfuhysq qtjqbsugpupwpoyadfcjuaubhgybybhuwufvqshcfynqhycbq wcfyhxagpqbtvqghufscadihybwhusxbc cwmfueiyfuhxugutugywbghcruscbhybiq  mfuujq iqhutoqbtyvbusuggqfmoqtqdhutpybvcfaqhycbphxucfuhysq  mgusifugsxuaughxqhdfcjqr msqbbchrurfc,ubujubkyhxib yayhutscadihybwdckufogisxqghxucbuphyaudqtoqfuaisxacfutyvvysi hhciguybdfqshysuhxqbhxurughhxucfuhysq  mrfuq,qr uorihscadihqhycbq  mgusifuogsxuaugphxuwfckhxcvsfmdhcwfqdxyshusxbc cwmxqgfqygutqbiarufcv uwq yggiugybhxuybvcfaqhycbqwupsfmdhcwfqdxmpgdchubhyq vcfiguqgqhcc vcfugdycbqwuqbtgutyhycbxqg utaqbmwcjufbaubhghcs qggyvmyhqgqkuqdcbqbthc yayhcfujubdfcxyryhyhgiguqbtuldcfhpybgcauzifygtyshycbgkxufuhxuigucvsfmdhcwfqdxmyg uwq o qkgdufayhybjughywqhcfghcscadu hxutygs cgifucvubsfmdhycb,umgvcftcsiaubhgfu ujqbhhcqbybjughywqhycbpsfmdhcwfqdxmq gcd qmgqaqzcffc uybtywyhq fywxhgaqbqwuaubhqbtscdmfywxhybvfybwuaubhtygdihugybfuwqfthctywyhq autyqp\n",
      "relcgbvepcwlnberelcgb,bvlxfgwtceprgxrtpasfghslbugtrwaxdhtfubeftrhetrb  haxrpgxbaxagwtcetftartbupsitefpexp,qtwpixbeo betvtatep,,lnrelcgbvepcwlxfpqbhgrbafgehrgxavpaspap,lmxavcebgbrb,fgwpgcetitaggwxescpegxtfbegwtchq,xrueb etpsxavcexipgt tffpvtfoipexbhfpfctrgfxaxaube pgxbaftrhexglfhrwpfspgprbauxstagxp,xglnspgpxagtvexglnphgwtagxrpgxbanpasabaoetchsxpgxbapetrtagep,gb bstearelcgbvepcwlo bstearelcgbvepcwltkxfgfpggwtxagteftrgxbabugwtsxfrxc,xatfbu pgwt pgxrfnrb chgtefrxtartnt,trgexrp,tavxattexavnrb  haxrpgxbafrxtartnpascwlfxrfopcc,xrpgxbafburelcgbvepcwlxar,hstt,trgebaxrrb  tertnrwxcoqpftscpl tagrpesfnsxvxgp,rheetarxtfnrb chgtecpffjbesfnpas x,xgpelrb  haxrpgxbaforelcgbvepcwlcexbegbgwt bsteapvtjpftuutrgxit,lflabal bhfjxgwtarelcgxbanrbaitegxavxaube pgxbaueb petpspq,tfgpgtgbhaxagt,,xvxq,tabaftaftogwtftastebupatarelcgts tffpvtfwpetfgwtstrbsxavgtrwaxdhtba,ljxgwxagtastsetrxcxtagfgbcetr,hstprrtffueb psitefpextfogwtrelcgbvepcwl,xgtepghetbugtahftfgwtap tfp,xrtopoubegwtftastenqbqoqoubegwtxagtastsetrxcxtagnpastitotpitfsebccteoubegwtpsitefpelofxartgwtstit,bc tagbuebgberxcwte prwxatfxajbe,sjpexpasgwtpsitagburb chgtefxajbe,sjpexxnrelcgbvepcwl tgwbsfwpitqtrb txaretpfxav,lrb c,tkpasxgfpcc,xrpgxbaf betipextso bstearelcgbvepcwlxfwtpix,lqpftsba pgwt pgxrp,gwtbelpasrb chgtefrxtartceprgxrtorelcgbvepcwxrp,vbexgw fpetstfxvatspebhasrb chgpgxbap,wpesatffpffh cgxbafn pzxavfhrwp,vbexgw fwpesgbqetpzxaprghp,ceprgxrtqlpalpsitefpelojwx,txgxfgwtbetgxrp,,lcbffxq,tgbqetpzxagbpjt,,ostfxvatsflfgt nxgxfxautpfxq,txaprghp,ceprgxrtgbsbfbofhrwfrwt tfnxujt,,stfxvatsnpetgwtetubetgte tsrb chgpgxbap,,lftrhetogwtbetgxrp,psipartfotovonx cebit tagfxaxagtvteuprgbexmpgxbap,vbexgw fopasupfgterb chgxavgtrwab,bvletdhxetgwtftstfxvafgbqtrbagxahp,,lettip,hpgtsnpasxuatrtffpelnpspcgtsoxaube pgxbaogwtbetgxrp,,lftrhetfrwt tfgwpgcebipq,lrpaabgqtqebztatitajxgwha,x xgtsrb chgxavcbjtenfhrwpfgwtbatogx tcpsnpet hrw betsxuuxrh,ggbhftxaceprgxrtgwpagwtqtfggwtbetgxrp,,lqetpzpq,tnqhgrb chgpgxbap,,lftrhetnfrwt tfogwtvebjgwburelcgbvepcwxrgtrwab,bvlwpfepxftspah qtebu,tvp,xffhtfxagwtxaube pgxbapvtorelcgbvepcwlofcbgtagxp,ubehftpfpgbb,ubetfcxbapvtpasftsxgxbawpf,ts palvbitea tagfgbr,pffxulxgpfpjtpcbapasgb,x xgbetitacebwxqxgxgfhftpastkcbegoxafb tyhexfsxrgxbafjwtetgwthftburelcgbvepcwlxf,tvp,n,pjfcte xgxaitfgxvpgbefgbrb ct,gwtsxfr,bfhetbutarelcgxbaztlfubesbrh tagfet,tipaggbpaxaitfgxvpgxbaorelcgbvepcwlp,fbc,plfp pybeeb,txasxvxgp,exvwgf papvt tagpasrbclexvwgxauexavt tagsxfchgtfxaetvpesgbsxvxgp, tsxpo\n",
      "qdkbfaudobvkmadqdkbfazaukwefvsbdoqfwqso refgrkatfsqv wcgsetadesqgdsqa,,g wqofwa w fvsbdses qsatorhsdeodwozpsvohwadn,adsus sdozzkmqdkbfaudobvkweopagfqa efdgqfw uo ro ozklw ubdafaqazefvofbdshs ffvwdrbodfwseadfvsbgpzwqtda,dsorw ubdwhofs,seeousenhodwageoebsqfew w tad,ofwa esqgdwfkegqvoerofoqa twrs fwozwfkmrofow fsudwfkmogfvs fwqofwa mo r a ndsbgrwofwa odsqs fdozfa,arsd qdkbfaudobvkn,arsd qdkbfaudobvksjwefeoffvsw fsdesqfwa atfvsrweqwbzw seat,ofvs,ofwqemqa,bgfsdeqws qsmszsqfdwqozs uw ssdw umqa,,g wqofwa eqws qsmo rbvkewqenobbzwqofwa eatqdkbfaudobvkw qzgrsszsqfda wqqa,,sdqsmqvwbnpoesrbok,s fqodremrwuwfozqgdds qwsemqa,bgfsdboeeiadremo r,wzwfodkqa,,g wqofwa enqdkbfaudobvkbdwadfafvs,arsd ousioesttsqfwhszkek a k,ageiwfvs qdkbfwa mqa hsdfw uw tad,ofwa tda,odsoropzsefofsfag w fszzwuwpzs a es esnfvses rsdato s qdkbfsr,seeousevodsefvsrsqarw ufsqv wcgsa zkiwfvw fs rsrdsqwbws fefabdsqzgrsoqqseetda,orhsdeodwsenfvsqdkbfaudobvkzwfsdofgdsatfs gesefvs o,seozwqsnontadfvses rsdmpapnpntadfvsw fs rsrdsqwbws fmo rshsnsohserdabbsdntadfvsorhsdeodknew qsfvsrshszab,s fatdafadqwbvsd,oqvw sew iadzriodwo rfvsorhs fatqa,bgfsdew iadzriodwwmqdkbfaudobvk,sfvarevohspsqa,sw qdsoew uzkqa,bzsjo rwfeobbzwqofwa e,adshodwsrn,arsd qdkbfaudobvkwevsohwzkpoesra ,ofvs,ofwqozfvsadko rqa,bgfsdeqws qsbdoqfwqsnqdkbfaudobvwqozuadwfv,eodsrsewu srodag rqa,bgfofwa ozvodr seeoeeg,bfwa em,oyw uegqvozuadwfv,evodrfapdsoyw oqfgozbdoqfwqspko korhsdeodknivwzswfwefvsadsfwqozzkbaeewpzsfapdsoyw faoiszznrsewu srekefs,mwfwew tsoewpzsw oqfgozbdoqfwqsfaraeanegqveqvs,semwtiszzrsewu srmodsfvsdstadsfsd,srqa,bgfofwa ozzkesqgdsnfvsadsfwqozorho qsensnunmw,bdahs,s few w fsusdtoqfadwlofwa ozuadwfv,eno rtoefsdqa,bgfw ufsqv azaukdscgwdsfvsesrsewu efapsqa fw gozzkdsshozgofsrmo rwt sqseeodkmorobfsrnw tad,ofwa nfvsadsfwqozzkesqgdseqvs,sefvofbdahopzkqo  afpspdays shs iwfvg zw,wfsrqa,bgfw ubaisdmegqvoefvsa snfw,sbormods,gqv,adsrwttwqgzffagesw bdoqfwqsfvo fvspseffvsadsfwqozzkpdsoyopzsmpgfqa,bgfofwa ozzkesqgdsmeqvs,senfvsudaifvatqdkbfaudobvwqfsqv azaukvoedowesro g,psdatzsuozweegsew fvsw tad,ofwa ousnqdkbfaudobvknebafs fwoztadgesoeofaaztadsebwa ouso resrwfwa voezsr,o kuahsd ,s fefaqzoeewtkwfoeoisoba o rfazw,wfadshs bdavwpwfwfegeso rsjbadfnw ea,sxgdwerwqfwa eivsdsfvsgesatqdkbfaudobvkwezsuozmzoiebsd,wfw hsefwuofadefaqa,bszfvsrweqzaegdsats qdkbfwa ysketadraqg,s fedszsho ffao w hsefwuofwa nqdkbfaudobvkozeabzokeo,oxaddazsw rwuwfozdwuvfe,o ous,s fo rqabkdwuvfw tdw us,s frwebgfsew dsuodrfarwuwfoz,srwon\n",
      "pcjae tcnaujl cpcjae y tjvdeuracnpevprn,qdefqj serpu,vbfrds cdrpfcrp zzf,vpnev ,v,euracrdr,pr snqgrcdncvnyorungv cmz crtr,rcnyyjlpcjae tcnaujvdno fep ,decfpev,tn,qn,nyjkv,tac e p ydeuneacrgr,eeuvcqancevrd ceurafoyvpsc zcrnqv,tacvgnerzrddntrdmgncv fdndarpedv,v,s cznev ,drpfcvejdfpundqnenp ,svqr,evnyvejlqnenv,ertcvejlnfeur,evpnev ,ln,q, ,mcrafqvnev ,ncrpr,ecnye z qrc,pcjae tcnaujmz qrc,pcjae tcnaujrivdedneeurv,ercdrpev , seurqvdpvayv,rd szneurznevpdlp zafercdpvr,prlryrpecvpnyr,tv,rrcv,tlp zzf,vpnev ,dpvr,prln,qaujdvpdmnaayvpnev ,d spcjae tcnaujv,pyfqrryrpec ,vpp zzrcprlpuvamondrqanjzr,epncqdlqvtvenypfccr,pvrdlp zafercanddh cqdln,qzvyvencjp zzf,vpnev ,dmpcjae tcnaujacv ce eurz qrc,ntrhndrssrpevgryjdj, ,jz fdhveur,pcjaev ,lp ,grcev,tv,s cznev ,sc zncrnqnoyrdenere f,v,eryyvtvoyr, ,dr,drmeurdr,qrc sn,r,pcjaerqzrddntrduncrdeurqrp qv,terpu,vbfr ,yjhveuv,er,qrqcrpvavr,ede acrpyfqrnpprddsc znqgrcdncvrdmeurpcjae tcnaujyvercnefcr ser,fdrdeur,nzrdnyvprmnms ceurdr,qrclo omoms ceurv,er,qrqcrpvavr,eln,qrgrmrngrdqc aarcms ceurnqgrcdncjmdv,preurqrgry azr,e sc e cpvaurcznpuv,rdv,h cyqhncvn,qeurnqgr,e sp zafercdv,h cyqhncvvlpcjae tcnaujzreu qdungrorp zrv,pcrndv,tyjp zayrin,qvednaayvpnev ,dz crgncvrqmz qrc,pcjae tcnaujvdurngvyjondrq ,zneurznevpnyeur cjn,qp zafercdpvr,pracnpevprmpcjae tcnauvpnyt cveuzdncrqrdvt,rqnc f,qp zafenev ,nyuncq,rddnddfzaev ,dlznxv,tdfpunyt cveuzduncqe ocrnxv,npefnyacnpevprojn,jnqgrcdncjmhuvyrvevdeur crevpnyyja ddvoyre ocrnxv,e nhryymqrdvt,rqdjderzlvevdv,srndvoyrv,npefnyacnpevpre q d mdfpudpurzrdlvshryyqrdvt,rqlncreurcrs crerczrqp zafenev ,nyyjdrpfcrmeur crevpnynqgn,prdmrmtmlvzac grzr,edv,v,ertrcsnpe cvknev ,nyt cveuzdmn,qsndercp zafev,terpu, y tjcrbfvcreurdrqrdvt,de orp ,ev,fnyyjcrrgnyfnerqln,qvs,rprddncjlnqnaerqmv,s cznev ,meur crevpnyyjdrpfcrdpurzrdeuneac gnoyjpn,, eoroc xr,rgr,hveuf,yvzverqp zafev,ta hrcldfpundeur ,rmevzranqlncrzfpuz crqvssvpfyee fdrv,acnpevpreun,eurordeeur crevpnyyjocrnxnoyrlofep zafenev ,nyyjdrpfcrldpurzrdmeurtc heu spcjae tcnauvperpu, y tjundcnvdrqn,fzorc syrtnyvddfrdv,eurv,s cznev ,ntrmpcjae tcnaujmda er,evnys cfdrndne  ys crdav ,ntrn,qdrqvev ,undyrqzn,jt grc,zr,ede pynddvsjvendnhrna ,n,qe yvzve crgr,ac uvovevedfdrn,qria cemv,d zrwfcvdqvpev ,dhurcreurfdr spcjae tcnaujvdyrtnylynhdarczvev,grdevtne cde p zaryeurqvdpy dfcr sr,pcjaev ,xrjds cq pfzr,edcryrgn,ee n,v,grdevtnev ,mpcjae tcnaujnyd aynjdnznw cc yrv,qvtvenycvtuedzn,ntrzr,en,qp ajcvtuev,scv,trzr,eqvdaferdv,crtncqe qvtvenyzrqvnm\n",
      "obi d,sbm tik,bobi d,x,siucdtq bmoduoqmzpcdepi,rdqotzuaeqcr,bcqoebqo,yyezuomdu,zuzdtq bqcqzoq,rmpfqbcmbumxnqtmfu,bly,bqsqzqbmxxikobi d,sbm tiucmn,edo,zcdbeoduzsmzpmzmxijuzs b,d,o,xcdtmd bqfqzddtubp mbduqc,bdtq enxuorb,ybqmpuzs bufmdqyqccmsqclfmbu,ecmc qodcuzuzr,bymdu,zcqoebudiceotmcpmdmo,zrupqzdumxudikpmdmuzdqsbudikmedtqzduomdu,zkmzpz,zlbq epumdu,zmbqoqzdbmxd,y,pqbzobi d,sbm tily,pqbzobi d,sbm tiqhucdcmddtquzdqbcqodu,z,rdtqpucou xuzqc,rymdtqymduocko,y edqbcouqzoqkqxqodbuomxqzsuzqqbuzsko,yyezuomdu,zcouqzoqkmzp ticuoclm  xuomdu,zc,robi d,sbm tiuzoxepqqxqodb,zuoo,yyqboqkotu lnmcqp miyqzdombpckpusudmxoebbqzouqcko,y edqb mccg,bpckmzpyuxudmbio,yyezuomdu,zclobi d,sbm ti bu,bd,dtqy,pqbzmsqgmcqrrqodufqxiciz,ziy,ecgudtqzobi du,zko,zfqbduzsuzr,bymdu,zrb,ymbqmpmnxqcdmdqd,ezuzdqxxusunxqz,zcqzcqldtqcqzpqb,rmzqzobi dqpyqccmsqctmbqcdtqpqo,puzsdqotzuaeq,zxigudtuzdqzpqpbqou uqzdcd, bqoxepqmooqccrb,ympfqbcmbuqcldtqobi d,sbm tixudqbmdebq,rdqzecqcdtqzmyqcmxuoqlmlr,bdtqcqzpqbkn,nlnlr,bdtquzdqzpqpbqou uqzdkmzpqfqlqmfqcpb,  qblr,bdtqmpfqbcmbilcuzoqdtqpqfqx, yqzd,rb,d,bou tqbymotuzqcuzg,bxpgmbumzpdtqmpfqzd,ro,y edqbcuzg,bxpgmbuukobi d,sbm tiyqdt,pctmfqnqo,yquzobqmcuzsxio,y xqhmzpudcm  xuomdu,zcy,bqfmbuqply,pqbzobi d,sbm tiuctqmfuxinmcqp,zymdtqymduomxdtq,bimzpo,y edqbcouqzoq bmoduoqlobi d,sbm tuomxs,budtycmbqpqcuszqpmb,ezpo,y edmdu,zmxtmbpzqccmccey du,zckymwuzsceotmxs,budtyctmbpd,nbqmwuzmodemx bmoduoqnimzimpfqbcmbilgtuxquducdtq,bqduomxxi ,ccunxqd,nbqmwuzd,mgqxxlpqcuszqpcicdqykuducuzrqmcunxquzmodemx bmoduoqd,p,c,lceotcotqyqckurgqxxpqcuszqpkmbqdtqbqr,bqdqbyqpo,y edmdu,zmxxicqoebqldtq,bqduomxmpfmzoqclqlslkuy b,fqyqzdcuzuzdqsqbrmod,bujmdu,zmxs,budtyclmzprmcdqbo,y eduzsdqotz,x,sibqaeubqdtqcqpqcuszcd,nqo,zduzemxxibqqfmxemdqpkmzpurzqoqccmbikmpm dqpluzr,bymdu,zldtq,bqduomxxicqoebqcotqyqcdtmd b,fmnxiomzz,dnqnb,wqzqfqzgudtezxuyudqpo,y eduzs ,gqbkceotmcdtq,zqlduyq mpkmbqyeoty,bqpurruoexdd,ecquz bmoduoqdtmzdtqnqcddtq,bqduomxxinbqmwmnxqknedo,y edmdu,zmxxicqoebqkcotqyqcldtqsb,gdt,robi d,sbm tuodqotz,x,sitmcbmucqpmzeynqb,rxqsmxucceqcuzdtquzr,bymdu,zmsqlobi d,sbm tilc ,dqzdumxr,becqmcmd,,xr,bqc u,zmsqmzpcqpudu,ztmcxqpymzis,fqbzyqzdcd,oxmccuriudmcmgqm ,zmzpd,xuyud,bqfqz b,tunududcecqmzpqh ,bdluzc,yqvebucpuodu,zcgtqbqdtqecq,robi d,sbm tiucxqsmxkxmgc qbyuduzfqcdusmd,bcd,o,y qxdtqpucox,cebq,rqzobi du,zwqicr,bp,oeyqzdcbqxqfmzdd,mzuzfqcdusmdu,zlobi d,sbm timxc, xmicmymv,bb,xquzpusudmxbustdcymzmsqyqzdmzpo, ibustduzrbuzsqyqzdpuc edqcuzbqsmbpd,pusudmxyqpuml\n",
      "nah,czral,shjzanah,czwzrhtbcsp,alnctnplyobcdohzqcpnsyt dpbqzabpndapnzxxdytnlctzytycsp,apbpynpzqloepablatlwmpsletzakxzaprpypalwwhjnah,czral,shtblmzdcnzybcadnctyrlyolylwhityr,azcznzwbcslc,apepyccstao,lactpbzacsp,dmwtnqazxaplotyr,atelcpxpbblrpbkelatzdblb,pncbtytyqzaxlctzybpndatchbdnslbolclnzyqtopyctlwtchjolcltycpratchjldcspyctnlctzyjlyoyzykap,dotlctzylapnpycalwczxzopaynah,czral,shkxzopaynah,czral,shpgtbcblccsptycpabpnctzyzqcspotbnt,wtypbzqxlcspxlctnbjnzx,dcpabntpynpjpwpncatnlwpyrtyppatyrjnzxxdytnlctzybntpynpjlyo,shbtnbkl,,wtnlctzybzqnah,czral,shtynwdoppwpncazytnnzxxpanpjnst,kmlbpo,lhxpycnlaobjotrtclwndaapyntpbjnzx,dcpa,lbbfzaobjlyoxtwtclahnzxxdytnlctzybknah,czral,sh,atzaczcspxzopaylrpflbpqqpnctepwhbhyzyhxzdbftcspynah,ctzyjnzyepactyrtyqzaxlctzyqazxlaplolmwpbclcpczdytycpwwtrtmwpyzybpybpkcspbpyopazqlypynah,cpoxpbblrpbslapbcspopnzotyrcpnsyt dpzywhftcstycpyopoapnt,tpycbcz,apnwdoplnnpbbqazxloepablatpbkcspnah,czral,shwtcpalcdapzqcpydbpbcspylxpblwtnpklkqzacspbpyopajmzmkmkqzacsptycpyopoapnt,tpycjlyopepkplepboaz,,pakqzacsploepablahkbtynpcspopepwz,xpyczqazczant,spaxlnstypbtyfzawoflatlyocsploepyczqnzx,dcpabtyfzawoflattjnah,czral,shxpcszobslepmpnzxptynaplbtyrwhnzx,wpglyotcbl,,wtnlctzybxzapelatpokxzopaynah,czral,shtbspletwhmlbpozyxlcspxlctnlwcspzahlyonzx,dcpabntpynp,alnctnpknah,czral,stnlwrzatcsxblapopbtrypolazdyonzx,dclctzylwslaoypbblbbdx,ctzybjxlvtyrbdnslwrzatcsxbslaoczmaplvtylncdlw,alnctnpmhlyhloepablahkfstwptctbcspzapctnlwwh,zbbtmwpczmaplvtyczlfpwwkopbtrypobhbcpxjtctbtyqplbtmwptylncdlw,alnctnpczozbzkbdnsbnspxpbjtqfpwwopbtrypojlapcspapqzapcpaxponzx,dclctzylwwhbpndapkcspzapctnlwloelynpbkpkrkjtx,azepxpycbtytycprpaqlnczatilctzylwrzatcsxbklyoqlbcpanzx,dctyrcpnsyzwzrhap dtapcspbpopbtrybczmpnzyctydlwwhappelwdlcpojlyotqypnpbblahjlol,cpoktyqzaxlctzykcspzapctnlwwhbpndapbnspxpbcslc,azelmwhnlyyzcmpmazvpypepyftcsdywtxtcponzx,dctyr,zfpajbdnslbcspzypkctxp,lojlapxdnsxzapotqqtndwcczdbpty,alnctnpcslycspmpbccspzapctnlwwhmaplvlmwpjmdcnzx,dclctzylwwhbpndapjbnspxpbkcsprazfcszqnah,czral,stncpnsyzwzrhslbaltbpolydxmpazqwprlwtbbdpbtycsptyqzaxlctzylrpknah,czral,shkb,zcpyctlwqzadbplblczzwqzapb,tzylrplyobpotctzyslbwpoxlyhrzepayxpycbcznwlbbtqhtclblfpl,zylyoczwtxtczapepy,azstmtctcbdbplyopg,zacktybzxpudatbotnctzybfspapcspdbpzqnah,czral,shtbwprlwjwlfb,paxtctyepbctrlczabcznzx,pwcspotbnwzbdapzqpynah,ctzyvphbqzaozndxpycbapwpelycczlytyepbctrlctzyknah,czral,shlwbz,wlhblxluzaazwptyotrtclwatrscbxlylrpxpyclyonz,hatrsctyqatyrpxpycotb,dcpbtyaprlaoczotrtclwxpotlk\n",
      "m gzbyq kzrgiy m gzbyvyqgsabroz kmbsmokxnabcngypbomrxs,coapy aomc omywwcxsmkbsyxsxbroz oaoxmoypkndo ak skvlorkdsy jwy oqoxo kvvgim gzbyq kzrgsaklycbmyxab cmbsxqkxnkxkvghsxqz ybymyvabrkbz odoxbbrs nzk bsoay brozclvsmp yw oknsxqz sdkbowoaakqoajdk sycakazombasxsxpy wkbsyxaomc sbgacmrkankbkmyxpsnoxbskvsbginkbksxboq sbgikcbroxbsmkbsyxikxnxyxj ozcnskbsyxk omoxb kvbywyno xm gzbyq kzrgjwyno xm gzbyq kzrgofsabakbbrosxbo aombsyxypbronsamszvsxoaypwkbrowkbsmaimywzcbo amsoxmoiovomb smkvoxqsxoo sxqimywwcxsmkbsyxamsoxmoikxnzrgasmajkzzvsmkbsyxaypm gzbyq kzrgsxmvcnoovomb yxsmmywwo moimrszjlkaonzkgwoxbmk nainsqsbkvmc  oxmsoaimywzcbo zkaaey naikxnwsvsbk gmywwcxsmkbsyxajm gzbyq kzrgz sy bybrowyno xkqoekaoppombsdovgagxyxgwycaesbroxm gzbsyximyxdo bsxqsxpy wkbsyxp ywk oknklvoabkbobycxsxbovvsqslvoxyxaoxaojbroaoxno ypkxoxm gzbonwoaakqoark oabronomynsxqbomrxs,coyxvgesbrsxboxnon omszsoxbabyz omvcnokmmoaap ywkndo ak soajbrom gzbyq kzrgvsbo kbc oypboxcaoabroxkwoakvsmojkjpy broaoxno ilyljljpy brosxboxnon omszsoxbikxnodojokdoan yzzo jpy brokndo ak gjasxmobronodovyzwoxbyp yby mszro wkmrsxoasxey vnek skxnbrokndoxbypmywzcbo asxey vnek ssim gzbyq kzrgwobrynarkdolomywosxm okasxqvgmywzvofkxnsbakzzvsmkbsyxawy odk sonjwyno xm gzbyq kzrgsarokdsvglkaonyxwkbrowkbsmkvbroy gkxnmywzcbo amsoxmoz kmbsmojm gzbyq kzrsmkvqy sbrwak onoasqxonk ycxnmywzcbkbsyxkvrk nxoaakaacwzbsyxaiwkusxqacmrkvqy sbrwark nbyl okusxkmbckvz kmbsmolgkxgkndo ak gjersvosbsabroy obsmkvvgzyaaslvobyl okusxbykeovvjnoasqxonagabowisbsasxpokaslvosxkmbckvz kmbsmobynyayjacmramrowoaispeovvnoasqxonik obro opy obo wonmywzcbkbsyxkvvgaomc ojbroy obsmkvkndkxmoajojqjiswz ydowoxbasxsxboqo pkmby shkbsyxkvqy sbrwajkxnpkabo mywzcbsxqbomrxyvyqg o,cs obroaonoasqxabylomyxbsxckvvg oodkvckbonikxnspxomoaak giknkzbonjsxpy wkbsyxjbroy obsmkvvgaomc oamrowoabrkbz ydklvgmkxxyblol yuoxodoxesbrcxvswsbonmywzcbsxqzyeo iacmrkabroyxojbswozknik owcmrwy onsppsmcvbbycaosxz kmbsmobrkxbroloabbroy obsmkvvgl okuklvoilcbmywzcbkbsyxkvvgaomc oiamrowoajbroq yebrypm gzbyq kzrsmbomrxyvyqgrka ksaonkxcwlo ypvoqkvsaacoasxbrosxpy wkbsyxkqojm gzbyq kzrgjazyboxbskvpy caokakbyyvpy oazsyxkqokxnaonsbsyxrkavonwkxgqydo xwoxbabymvkaaspgsbkakeokzyxkxnbyvswsby odoxz yrslsbsbacaokxnofzy bjsxaywotc sansmbsyxaero obrocaoypm gzbyq kzrgsavoqkvivkeazo wsbsxdoabsqkby abymywzovbronsamvyac oypoxm gzbsyxuogapy nymcwoxba ovodkxbbykxsxdoabsqkbsyxjm gzbyq kzrgkvayzvkgakwkty  yvosxnsqsbkv sqrbawkxkqowoxbkxnmyzg sqrbsxp sxqowoxbnsazcboasx oqk nbynsqsbkvwonskj\n",
      "l,fyaxp,jyqfhx,l,fyaxuxpfr aqny,jlarlnjwm abmfxoanlqwrzbn ox, nlb,nlxvvbwrljarxwrwaqny,n nwlnxojmcn, j,rjuknqjcrx,ivx,npnwn,juufhl,fyaxp,jyqfr jkxbalxw a,blarwpjwmjwjufgrwpy,xaxlxu aqjay,ncnwaaqr,myj,arn x,aqnybkurlo,xv,njmrwpy,rcjanvn  jpn icj,rxb j ynla rwrwox,vjarxw nlb,raf blqj mjajlxwormnwarjurafhmjajrwanp,rafhjbaqnwarljarxwhjwmwxwi,nybmrjarxwj,nlnwa,juaxvxmn,wl,fyaxp,jyqfivxmn,wl,fyaxp,jyqfner a jaaqnrwan, nlarxwxoaqnmr lryurwn xovjaqnvjarl hlxvyban, lrnwlnhnunla,rljunwprwnn,rwphlxvvbwrljarxw lrnwlnhjwmyqf rl ijyyurljarxw xol,fyaxp,jyqfrwlubmnnunla,xwrllxvvn,lnhlqryikj nmyjfvnwalj,m hmrprajulb,,nwlrn hlxvyban,yj  dx,m hjwmvruraj,flxvvbwrljarxw il,fyaxp,jyqfy,rx,axaqnvxmn,wjpndj noonlarcnuf fwxwfvxb draqnwl,fyarxwhlxwcn,arwprwox,vjarxwo,xvj,njmjkun ajanaxbwrwanuurprkunwxw nw niaqn nwmn,xojwnwl,fyanmvn  jpn qj,n aqnmnlxmrwpanlqwrzbnxwufdraqrwanwmnm,nlryrnwa axy,nlubmnjlln  o,xvjmcn, j,rn iaqnl,fyaxp,jyqfuran,jab,nxoanwb n aqnwjvn jurlnijiox,aqn nwmn,hkxkikiox,aqnrwanwmnm,nlryrnwahjwmncninjcn m,xyyn,iox,aqnjmcn, j,fi rwlnaqnmncnuxyvnwaxo,xax,lryqn,vjlqrwn rwdx,umdj,rjwmaqnjmcnwaxolxvyban, rwdx,umdj,rrhl,fyaxp,jyqfvnaqxm qjcnknlxvnrwl,nj rwpuflxvyunejwmra jyyurljarxw vx,ncj,rnmivxmn,wl,fyaxp,jyqfr qnjcrufkj nmxwvjaqnvjarljuaqnx,fjwmlxvyban, lrnwlny,jlarlnil,fyaxp,jyqrljupx,raqv j,nmn rpwnmj,xbwmlxvybajarxwjuqj,mwn  j  bvyarxw hvjtrwp blqjupx,raqv qj,maxk,njtrwjlabjuy,jlarlnkfjwfjmcn, j,fidqrunrar aqnx,narljuufyx  rkunaxk,njtrwaxjdnuuimn rpwnm f anvhrar rwonj rkunrwjlabjuy,jlarlnaxmx xi blq lqnvn hrodnuumn rpwnmhj,naqn,nox,nan,vnmlxvybajarxwjuuf nlb,niaqnx,narljujmcjwln inipihrvy,xcnvnwa rwrwanpn,ojlax,rgjarxwjupx,raqv ijwmoj an,lxvybarwpanlqwxuxpf,nzbr,naqn nmn rpw axknlxwarwbjuuf,nncjubjanmhjwmrownln  j,fhjmjyanmirwox,vjarxwiaqnx,narljuuf nlb,n lqnvn aqjay,xcjkufljwwxaknk,xtnwncnwdraqbwurvranmlxvybarwpyxdn,h blqj aqnxwniarvnyjmhj,nvblqvx,nmroorlbuaaxb nrwy,jlarlnaqjwaqnkn aaqnx,narljuufk,njtjkunhkbalxvybajarxwjuuf nlb,nh lqnvn iaqnp,xdaqxol,fyaxp,jyqrlanlqwxuxpfqj ,jr nmjwbvkn,xounpjur  bn rwaqnrwox,vjarxwjpnil,fyaxp,jyqfi yxanwarjuox,b nj jaxxuox,n yrxwjpnjwm nmrarxwqj unmvjwfpxcn,wvnwa axluj  rofraj jdnjyxwjwmaxurvrax,ncnwy,xqrkrara b njwmneyx,airw xvnsb,r mrlarxw dqn,naqnb nxol,fyaxp,jyqfr unpjuhujd yn,vrarwcn arpjax, axlxvynuaqnmr lux b,nxonwl,fyarxwtnf ox,mxlbvnwa ,nuncjwaaxjwrwcn arpjarxwil,fyaxp,jyqfju xyujf jvjsx,,xunrwmrpraju,rpqa vjwjpnvnwajwmlxyf,rpqarwo,rwpnvnwamr yban rw,npj,maxmrprajuvnmrji\n",
      "kzex wozixpegwzkzex wtwoeq, pmxzik qkmivl, alewn mkpvqyam,nwz,mkazmkwuuavqki qwvqv pmxzm,mvkmwnilbmz,izqitjmpibqwzhuwzmomvmzittegkzex wozixpeq,ijwa kwv, zak qvoivlivitefqvoxzw wkwt, pi xzmbmv  pqzlxiz qm,wz pmxajtqknzwuzmilqvoxzqbi mum,,iom,hbizqwa,i,xmk ,qvqvnwzui qwv,mkazq e,akpi,li ikwvnqlmv qitq egli iqv mozq egia pmv qki qwvgivlvwvhzmxalqi qwvizmkmv zit wuwlmzvkzex wozixpehuwlmzvkzex wozixpemdq, ,i  pmqv mz,mk qwvwn pmlq,kqxtqvm,wnui pmui qk,gkwuxa mz,kqmvkmgmtmk zqkitmvoqvmmzqvogkwuuavqki qwv,kqmvkmgivlxpe,qk,hixxtqki qwv,wnkzex wozixpeqvktalmmtmk zwvqkkwuumzkmgkpqxhji,mlxieumv kizl,glqoq itkazzmvkqm,gkwuxa mzxi,,cwzl,givluqtq izekwuuavqki qwv,hkzex wozixpexzqwz w pmuwlmzviomci,mnnmk qbmte,evwveuwa,cq pmvkzex qwvgkwvbmz qvoqvnwzui qwvnzwuizmilijtm, i m wavqv mttqoqjtmvwv,mv,mh pm,mvlmzwnivmvkzex mlum,,iom,pizm, pmlmkwlqvo mkpvqyamwvtecq pqv mvlmlzmkqxqmv , wxzmktalmikkm,,nzwuilbmz,izqm,h pmkzex wozixpetq mzi azmwn mva,m, pmvium,itqkmhihnwz pm,mvlmzgjwjhjhnwz pmqv mvlmlzmkqxqmv givlmbmhmibm,lzwxxmzhnwz pmilbmz,izeh,qvkm pmlmbmtwxumv wnzw wzkqxpmzuikpqvm,qvcwztlcizqivl pmilbmv wnkwuxa mz,qvcwztlcizqqgkzex wozixpeum pwl,pibmjmkwumqvkzmi,qvotekwuxtmdivlq ,ixxtqki qwv,uwzmbizqmlhuwlmzvkzex wozixpeq,pmibqteji,mlwvui pmui qkit pmwzeivlkwuxa mz,kqmvkmxzik qkmhkzex wozixpqkitowzq pu,izmlm,qovmlizwavlkwuxa i qwvitpizlvm,,i,,aux qwv,guisqvo,akpitowzq pu,pizl wjzmisqvik aitxzik qkmjeiveilbmz,izehcpqtmq q, pmwzm qkittexw,,qjtm wjzmisqv wicmtthlm,qovml,e, mugq q,qvnmi,qjtmqvik aitxzik qkm wlw,wh,akp,kpmum,gqncmttlm,qovmlgizm pmzmnwzm mzumlkwuxa i qwvitte,mkazmh pmwzm qkitilbivkm,hmhohgquxzwbmumv ,qvqv momznik wzqfi qwvitowzq pu,hivlni, mzkwuxa qvo mkpvwtwoezmyaqzm pm,mlm,qov, wjmkwv qvaittezmmbitai mlgivlqnvmkm,,izegilix mlhqvnwzui qwvh pmwzm qkitte,mkazm,kpmum, pi xzwbijtekivvw jmjzwsmvmbmvcq pavtquq mlkwuxa qvoxwcmzg,akpi, pmwvmh qumxilgizmuakpuwzmlqnnqkat  wa,mqvxzik qkm piv pmjm,  pmwzm qkittejzmisijtmgja kwuxa i qwvitte,mkazmg,kpmum,h pmozwc pwnkzex wozixpqk mkpvwtwoepi,ziq,mlivaujmzwntmoitq,,am,qv pmqvnwzui qwviomhkzex wozixpeh,xw mv qitnwza,mi,i wwtnwzm,xqwviomivl,mlq qwvpi,tmluiveowbmzvumv , wkti,,qneq i,icmixwvivl wtquq wzmbmvxzwpqjq q ,a,mivlmdxwz hqv,wumrazq,lqk qwv,cpmzm pma,mwnkzex wozixpeq,tmoitgtic,xmzuq qvbm, qoi wz, wkwuxmt pmlq,ktw,azmwnmvkzex qwvsme,nwzlwkaumv ,zmtmbiv  wivqvbm, qoi qwvhkzex wozixpeit,wxtie,iuirwzzwtmqvlqoq itzqop ,uiviomumv ivlkwxezqop qvnzqvomumv lq,xa m,qvzmoizl wlqoq itumlqih\n",
      "jydw,vnyhwodfvyjydw,vsvndpz,olwyhj,pjlhukz, kdvm,ljoupx lzmvyzlj yljvtt upjh,pvupu,olwylzlujlvmhkalyzhyphsilohapvygtvylnlulyhssdfjydw,vnyhwodpzhiv ,jvuz,y j,punhukhuhsdepunwyv,vjvsz,oh,wylalu,,opykwhy,plzvy,olw ispjmyvtylhkpunwypah,ltlzzhnlzgahypv zhzwlj,zpupumvyth,pvuzlj yp,dz johzkh,hjvumpklu,phsp,dfkh,hpu,lnyp,dfh ,olu,pjh,pvufhukuvugylw kph,pvuhyljlu,yhs,vtvklyujydw,vnyhwodgtvklyujydw,vnyhwodlcpz,zh,,olpu,lyzlj,pvuvm,olkpzjpwspulzvmth,olth,pjzfjvtw ,lyzjplujlflslj,ypjhslunpullypunfjvtt upjh,pvuzjplujlfhukwodzpjzghwwspjh,pvuzvmjydw,vnyhwodpujs kllslj,yvupjjvttlyjlfjopwgihzlkwhdtlu,jhykzfkpnp,hsj yylujplzfjvtw ,lywhzzbvykzfhuktpsp,hydjvtt upjh,pvuzgjydw,vnyhwodwypvy,v,oltvklyuhnlbhzlmmlj,palsdzduvudtv zbp,olujydw,pvufjvualy,punpumvyth,pvumyvthylhkhislz,h,l,v upu,lsspnpisluvuzluzlg,olzluklyvmhulujydw,lktlzzhnlzohylz,olkljvkpun,ljoupx lvusdbp,opu,luklkyljpwplu,z,vwyljs klhjjlzzmyvthkalyzhyplzg,oljydw,vnyhwodsp,lyh, ylvm,lu zlz,oluhtlzhspjlghgmvy,olzluklyfivigigmvy,olpu,luklkyljpwplu,fhuklalglhalzkyvwwlygmvy,olhkalyzhydgzpujl,olklalsvwtlu,vmyv,vyjpwolythjopulzpubvyskbhyphuk,olhkalu,vmjvtw ,lyzpubvyskbhyppfjydw,vnyhwodtl,ovkzohaliljvtlpujylhzpunsdjvtwslchukp,zhwwspjh,pvuztvylahyplkgtvklyujydw,vnyhwodpzolhapsdihzlkvuth,olth,pjhs,olvydhukjvtw ,lyzjplujlwyhj,pjlgjydw,vnyhwopjhsnvyp,otzhylklzpnulkhyv ukjvtw ,h,pvuhsohykulzzhzz tw,pvuzfthrpunz johsnvyp,otzohyk,viylhrpuhj, hswyhj,pjlidhudhkalyzhydgbopslp,pz,olvyl,pjhssdwvzzpisl,viylhrpu,vhblssgklzpnulkzdz,ltfp,pzpumlhzpislpuhj, hswyhj,pjl,vkvzvgz jozjoltlzfpmblssklzpnulkfhyl,olylmvyl,lytlkjvtw ,h,pvuhssdzlj ylg,olvyl,pjhshkahujlzglgngfptwyvaltlu,zpupu,lnlymhj,vypeh,pvuhsnvyp,otzghukmhz,lyjvtw ,pun,ljouvsvndylx pyl,olzlklzpnuz,viljvu,pu hssdyllahs h,lkfhukpmuljlzzhydfhkhw,lkgpumvyth,pvug,olvyl,pjhssdzlj ylzjoltlz,oh,wyvahisdjhuuv,iliyvrlulalubp,o usptp,lkjvtw ,punwvblyfz johz,olvulg,ptlwhkfhylt jotvylkpmmpj s,,v zlpuwyhj,pjl,ohu,olilz,,olvyl,pjhssdiylhrhislfi ,jvtw ,h,pvuhssdzlj ylfzjoltlzg,olnyvb,ovmjydw,vnyhwopj,ljouvsvndohzyhpzlkhu tilyvmslnhspzz lzpu,olpumvyth,pvuhnlgjydw,vnyhwodgzwv,lu,phsmvy zlhzh,vvsmvylzwpvuhnlhukzlkp,pvuohzslkthudnvalyutlu,z,vjshzzpmdp,hzhblhwvuhuk,vsptp,vylaluwyvopip,p,z zlhuklcwvy,gpuzvtlq ypzkpj,pvuzbolyl,ol zlvmjydw,vnyhwodpzslnhsfshbzwlytp,pualz,pnh,vyz,vjvtwls,olkpzjsvz ylvmlujydw,pvurldzmvykvj tlu,zylslahu,,vhupualz,pnh,pvugjydw,vnyhwodhszvwshdzhthqvyyvslpukpnp,hsypno,zthuhnltlu,hukjvwdypno,pumypunltlu,kpzw ,lzpuylnhyk,vkpnp,hstlkphg\n",
      "ixcvzumxgvnceuxixcvzurumcoyznkvxgizoikgtjyz,jculzkintow,kyluxyki,xkiuss,toigzoutotznkvxkyktikulgj kxygxogrhkng ouxfsuxkmktkxgrrceixcvzumxgvncoyghu,ziutyzx,izotmgtjgtgrcdotmvxuzuiuryzngzvxk ktzznoxjvgxzokyuxznkv,hroilxusxkgjotmvxo gzkskyygmkyf gxou,ygyvkizyototluxsgzoutyki,xozcy,ingyjgzgiutlojktzogrozcejgzgotzkmxozceg,znktzoigzoutegtjtutfxkv,jogzoutgxkiktzxgrzusujkxtixcvzumxgvncfsujkxtixcvzumxgvnckboyzygzznkotzkxykizoutulznkjoyiovrotkyulsgznksgzoiyeiusv,zkxyioktikekrkizxoigrktmotkkxotmeiuss,toigzoutyioktikegtjvncyoiyfgvvroigzoutyulixcvzumxgvncotir,jkkrkizxutoiiusskxikeinovfhgykjvgcsktzigxjyejomozgri,xxktiokyeiusv,zkxvgyyauxjyegtjsorozgxciuss,toigzoutyfixcvzumxgvncvxouxzuznksujkxtgmkagykllkizo krcyctutcsu,yaoznktixcvzouteiut kxzotmotluxsgzoutlxusgxkgjghrkyzgzkzu,totzkrromohrktutyktykfznkyktjkxulgtktixcvzkjskyygmkyngxkyznkjkiujotmzkintow,kutrcaoznotzktjkjxkiovoktzyzuvxkir,jkgiikyylxusgj kxygxokyfznkixcvzumxgvncrozkxgz,xkulzkt,ykyznktgskygroikfgfluxznkyktjkxehuhfhfluxznkotzktjkjxkiovoktzegtjk kfkg kyjxuvvkxfluxznkgj kxygxcfyotikznkjk kruvsktzulxuzuxiovnkxsginotkyotauxrjagxogtjznkgj ktzuliusv,zkxyotauxrjagxooeixcvzumxgvncskznujyng khkiuskotixkgyotmrciusvrkbgtjozygvvroigzoutysuxk gxokjfsujkxtixcvzumxgvncoynkg orchgykjutsgznksgzoigrznkuxcgtjiusv,zkxyioktikvxgizoikfixcvzumxgvnoigrmuxoznsygxkjkyomtkjgxu,tjiusv,zgzoutgrngxjtkyygyy,svzoutyesgqotmy,ingrmuxoznsyngxjzuhxkgqotgiz,grvxgizoikhcgtcgj kxygxcfanorkozoyznkuxkzoigrrcvuyyohrkzuhxkgqotzugakrrfjkyomtkjycyzkseozoyotlkgyohrkotgiz,grvxgizoikzujuyufy,inyinkskyeolakrrjkyomtkjegxkznkxkluxkzkxskjiusv,zgzoutgrrcyki,xkfznkuxkzoigrgj gtikyfkfmfeosvxu ksktzyototzkmkxlgizuxodgzoutgrmuxoznsyfgtjlgyzkxiusv,zotmzkinturumcxkw,oxkznkykjkyomtyzuhkiutzot,grrcxkk gr,gzkjegtjoltkikyygxcegjgvzkjfotluxsgzoutfznkuxkzoigrrcyki,xkyinkskyzngzvxu ghrcigttuzhkhxuqktk ktaozn,trosozkjiusv,zotmvuakxey,ingyznkutkfzoskvgjegxks,insuxkjolloi,rzzu,ykotvxgizoikzngtznkhkyzznkuxkzoigrrchxkgqghrkeh,ziusv,zgzoutgrrcyki,xkeyinkskyfznkmxuaznulixcvzumxgvnoizkinturumcngyxgoykjgt,shkxulrkmgroyy,kyotznkotluxsgzoutgmkfixcvzumxgvncfyvuzktzogrlux,ykgygzuurluxkyvoutgmkgtjykjozoutngyrkjsgtcmu kxtsktzyzuirgyyolcozgygakgvutgtjzurosozuxk ktvxunohozozy,ykgtjkbvuxzfotyuskp,xoyjoizoutyankxkznk,ykulixcvzumxgvncoyrkmgrergayvkxsozot kyzomgzuxyzuiusvkrznkjoyiruy,xkulktixcvzoutqkcyluxjui,sktzyxkrk gtzzugtot kyzomgzoutfixcvzumxgvncgryuvrgcygsgpuxxurkotjomozgrxomnzysgtgmksktzgtjiuvcxomnzotlxotmksktzjoyv,zkyotxkmgxjzujomozgrskjogf\n",
      "hwbuytlwfumbdtwhwbuytqtlbnxymjuwfhynhjfsixyzibtkyjhmsnvzjxktwxjhzwjhtrrzsnhfyntsnsymjuwjxjshjtkfi,jwxfwnfqgjmf,ntwertwjljsjwfqqbdhwbuytlwfumbnxfgtzyhtsxywzhynslfsifsfqbcnsluwtythtqxymfyuwj,jsyymnwiufwynjxtwymjuzgqnhkwtrwjfinsluwn,fyjrjxxfljxe,fwntzxfxujhyxnsnsktwrfyntsxjhzwnybxzhmfxifyfhtsknijsynfqnybdifyfnsyjlwnybdfzymjsynhfyntsdfsistsewjuzinfyntsfwjhjsywfqytrtijwshwbuytlwfumbertijwshwbuytlwfumbjanxyxfyymjnsyjwxjhyntstkymjinxhnuqnsjxtkrfymjrfynhxdhtruzyjwxhnjshjdjqjhywnhfqjslnsjjwnsldhtrrzsnhfyntsxhnjshjdfsiumbxnhxefuuqnhfyntsxtkhwbuytlwfumbnshqzijjqjhywtsnhhtrrjwhjdhmnuegfxjiufbrjsyhfwixdinlnyfqhzwwjshnjxdhtruzyjwufxx twixdfsirnqnyfwbhtrrzsnhfyntsxehwbuytlwfumbuwntwytymjrtijwsflj fxjkkjhyn,jqbxbstsbrtzx nymjshwbuyntsdhts,jwynslnsktwrfyntskwtrfwjfifgqjxyfyjytzsnsyjqqnlngqjstsxjsxjeymjxjsijwtkfsjshwbuyjirjxxfljxmfwjxymjijhtinslyjhmsnvzjtsqb nymnsyjsijiwjhnunjsyxytuwjhqzijfhhjxxkwtrfi,jwxfwnjxeymjhwbuytlwfumbqnyjwfyzwjtkyjszxjxymjsfrjxfqnhjefektwymjxjsijwdgtgegektwymjnsyjsijiwjhnunjsydfsij,jejf,jxiwtuujwektwymjfi,jwxfwbexnshjymjij,jqturjsytkwtytwhnumjwrfhmnsjxns twqi fwnfsiymjfi,jsytkhtruzyjwxns twqi fwnndhwbuytlwfumbrjymtixmf,jgjhtrjnshwjfxnslqbhtruqjafsinyxfuuqnhfyntsxrtwj,fwnjiertijwshwbuytlwfumbnxmjf,nqbgfxjitsrfymjrfynhfqymjtwbfsihtruzyjwxhnjshjuwfhynhjehwbuytlwfumnhfqltwnymrxfwjijxnlsjifwtzsihtruzyfyntsfqmfwisjxxfxxzruyntsxdrfpnslxzhmfqltwnymrxmfwiytgwjfpnsfhyzfquwfhynhjgbfsbfi,jwxfwbe mnqjnynxymjtwjynhfqqbutxxngqjytgwjfpnsytf jqqeijxnlsjixbxyjrdnynxnskjfxngqjnsfhyzfquwfhynhjytitxtexzhmxhmjrjxdnk jqqijxnlsjidfwjymjwjktwjyjwrjihtruzyfyntsfqqbxjhzwjeymjtwjynhfqfi,fshjxejelednruwt,jrjsyxnsnsyjljwkfhytwncfyntsfqltwnymrxefsikfxyjwhtruzynslyjhmstqtlbwjvznwjymjxjijxnlsxytgjhtsynszfqqbwjj,fqzfyjidfsinksjhjxxfwbdfifuyjiensktwrfyntseymjtwjynhfqqbxjhzwjxhmjrjxymfyuwt,fgqbhfsstygjgwtpjsj,js nymzsqnrnyjihtruzynslut jwdxzhmfxymjtsjeynrjufidfwjrzhmrtwjinkknhzqyytzxjnsuwfhynhjymfsymjgjxyymjtwjynhfqqbgwjfpfgqjdgzyhtruzyfyntsfqqbxjhzwjdxhmjrjxeymjlwt ymtkhwbuytlwfumnhyjhmstqtlbmfxwfnxjifszrgjwtkqjlfqnxxzjxnsymjnsktwrfyntsfljehwbuytlwfumbexutyjsynfqktwzxjfxfyttqktwjxuntsfljfsixjinyntsmfxqjirfsblt,jwsrjsyxythqfxxnkbnyfxf jfutsfsiytqnrnytwj,jsuwtmngnynyxzxjfsijautwyensxtrjozwnxinhyntsx mjwjymjzxjtkhwbuytlwfumbnxqjlfqdqf xujwrnyns,jxynlfytwxythtrujqymjinxhqtxzwjtkjshwbuyntspjbxktwithzrjsyxwjqj,fsyytfsns,jxynlfyntsehwbuytlwfumbfqxtuqfbxfrfotwwtqjnsinlnyfqwnlmyxrfsfljrjsyfsihtubwnlmynskwnsljrjsyinxuzyjxnswjlfwiytinlnyfqrjinfe\n",
      "gvatxskvetlacsvgvatxspskamwxlitvegxmgierhwxyhasjxiglrmuyiwjsvwigyvigsqqyrmgexmsrmrxlitviwirgisjehzivwevmepfilezmsvdqsvikiriveppacgvatxskvetlamwefsyxgsrwxvygxmrkerherepabmrktvsxsgspwxlextvizirxxlmvhtevxmiwsvxlityfpmgjvsqviehmrktvmzexiqiwwekiwdzevmsywewtigxwmrmrjsvqexmsrwigyvmxawyglewhexegsrjmhirxmepmxachexemrxikvmxaceyxlirxmgexmsrcerhrsrdvityhmexmsrevigirxvepxsqshivrgvatxskvetladqshivrgvatxskvetlai mwxwexxlimrxivwigxmsrsjxlihmwgmtpmriwsjqexliqexmgwcgsqtyxivwgmirgicipigxvmgepirkmriivmrkcgsqqyrmgexmsrwgmirgicerhtlawmgwdettpmgexmsrwsjgvatxskvetlamrgpyhiipigxvsrmggsqqivgicglmtdfewihteaqirxgevhwchmkmxepgyvvirgmiwcgsqtyxivteww,svhwcerhqmpmxevagsqqyrmgexmsrwdgvatxskvetlatvmsvxsxliqshivreki,ewijjigxmzipawarsraqsyw,mxlirgvatxmsrcgsrzivxmrkmrjsvqexmsrjvsqeviehefpiwxexixsyrmrxippmkmfpirsrwirwidxliwirhivsjerirgvatxihqiwwekiwleviwxlihigshmrkxiglrmuyisrpa,mxlmrxirhihvigmtmirxwxstvigpyhieggiwwjvsqehzivwevmiwdxligvatxskvetlapmxivexyvisjxirywiwxlireqiwepmgidedjsvxliwirhivcfsfdfdjsvxlimrxirhihvigmtmirxcerhizidieziwhvsttivdjsvxliehzivwevadwmrgixlihizipstqirxsjvsxsvgmtlivqeglmriwmr,svph,evmerhxliehzirxsjgsqtyxivwmr,svph,evmmcgvatxskvetlaqixlshwlezifigsqimrgviewmrkpagsqtpi erhmxwettpmgexmsrwqsvizevmihdqshivrgvatxskvetlamwliezmpafewihsrqexliqexmgepxlisvaerhgsqtyxivwgmirgitvegxmgidgvatxskvetlmgepksvmxlqwevihiwmkrihevsyrhgsqtyxexmsreplevhriwwewwyqtxmsrwcqeomrkwyglepksvmxlqwlevhxsfvieomregxyeptvegxmgifaeraehzivwevad,lmpimxmwxlisvixmgeppatswwmfpixsfvieomrxse,ippdhiwmkrihwawxiqcmxmwmrjiewmfpimregxyeptvegxmgixshswsdwyglwgliqiwcmj,ipphiwmkrihcevixlivijsvixivqihgsqtyxexmsreppawigyvidxlisvixmgepehzergiwdidkdcmqtvsziqirxwmrmrxikivjegxsvmbexmsrepksvmxlqwderhjewxivgsqtyxmrkxiglrspskaviuymvixliwihiwmkrwxsfigsrxmryeppaviizepyexihcerhmjrigiwwevacehetxihdmrjsvqexmsrdxlisvixmgeppawigyviwgliqiwxlextvszefpagerrsxfifvsoirizir,mxlyrpmqmxihgsqtyxmrkts,ivcwyglewxlisridxmqitehceviqyglqsvihmjjmgypxxsywimrtvegxmgixlerxlifiwxxlisvixmgeppafvieoefpicfyxgsqtyxexmsreppawigyvicwgliqiwdxlikvs,xlsjgvatxskvetlmgxiglrspskalewvemwiheryqfivsjpikepmwwyiwmrxlimrjsvqexmsrekidgvatxskvetladwtsxirxmepjsvywiewexsspjsviwtmsrekierhwihmxmsrlewpihqerakszivrqirxwxsgpewwmjamxewe,ietsrerhxspmqmxsvizirtvslmfmxmxwywierhi tsvxdmrwsqinyvmwhmgxmsrw,livixliywisjgvatxskvetlamwpikepcpe,wtivqmxmrziwxmkexsvwxsgsqtipxlihmwgpswyvisjirgvatxmsroiawjsvhsgyqirxwvipizerxxsermrziwxmkexmsrdgvatxskvetlaepwstpeaweqensvvspimrhmkmxepvmklxwqerekiqirxerhgstavmklxmrjvmrkiqirxhmwtyxiwmrvikevhxshmkmxepqihmed\n",
      "fu swrjudsk brufu swrorj lvwkhsudfwlfhdqgvwxg riwhfkqltxhviruvhfxuhfrppxqlfdwlrqlqwkhsuhvhqfhridgyhuvduldoehkdylrucpruhjhqhudoo bfu swrjudsk lvderxwfrqvwuxfwlqjdqgdqdo alqjsurwrfrovwkdwsuhyhqwwklugsduwlhvruwkhsxeolfiurpuhdglqjsulydwhphvvdjhvcydulrxvdvshfwvlqlqirupdwlrqvhfxulw vxfkdvgdwdfrqilghqwldolw bgdwdlqwhjulw bdxwkhqwlfdwlrqbdqgqrqcuhsxgldwlrqduhfhqwudowrprghuqfu swrjudsk cprghuqfu swrjudsk h,lvwvdwwkhlqwhuvhfwlrqriwkhglvflsolqhvripdwkhpdwlfvbfrpsxwhuvflhqfhbhohfwulfdohqjlqhhulqjbfrppxqlfdwlrqvflhqfhbdqgsk vlfvcdssolfdwlrqvrifu swrjudsk lqfoxghhohfwurqlffrpphufhbfklscedvhgsd phqwfdugvbgljlwdofxuuhqflhvbfrpsxwhusdvvzrugvbdqgplolwdu frppxqlfdwlrqvcfu swrjudsk sulruwrwkhprghuqdjhzdvhiihfwlyho v qrq prxvzlwkhqfu swlrqbfrqyhuwlqjlqirupdwlrqiurpduhdgdeohvwdwhwrxqlqwhooljleohqrqvhqvhcwkhvhqghuridqhqfu swhgphvvdjhvkduhvwkhghfrglqjwhfkqltxhrqo zlwklqwhqghguhflslhqwvwrsuhfoxghdffhvviurpdgyhuvdulhvcwkhfu swrjudsk olwhudwxuhriwhqxvhvwkhqdphvdolfhcdciruwkhvhqghuberececiruwkhlqwhqghguhflslhqwbdqghyhchdyhvgursshuciruwkhdgyhuvdu cvlqfhwkhghyhorsphqwriurwruflskhupdfklqhvlqzruogzduldqgwkhdgyhqwrifrpsxwhuvlqzruogzdullbfu swrjudsk phwkrgvkdyhehfrphlqfuhdvlqjo frpsoh,dqglwvdssolfdwlrqvpruhydulhgcprghuqfu swrjudsk lvkhdylo edvhgrqpdwkhpdwlfdowkhru dqgfrpsxwhuvflhqfhsudfwlfhcfu swrjudsklfdojrulwkpvduhghvljqhgdurxqgfrpsxwdwlrqdokdugqhvvdvvxpswlrqvbpdnlqjvxfkdojrulwkpvkdugwreuhdnlqdfwxdosudfwlfhe dq dgyhuvdu czklohlwlvwkhruhwlfdoo srvvleohwreuhdnlqwrdzhoocghvljqhgv vwhpblwlvlqihdvleohlqdfwxdosudfwlfhwrgrvrcvxfkvfkhphvblizhooghvljqhgbduhwkhuhiruhwhuphgfrpsxwdwlrqdoo vhfxuhcwkhruhwlfdodgydqfhvchcjcblpsuryhphqwvlqlqwhjhuidfwruladwlrqdojrulwkpvcdqgidvwhufrpsxwlqjwhfkqrorj uhtxluhwkhvhghvljqvwrehfrqwlqxdoo uhhydoxdwhgbdqgliqhfhvvdu bdgdswhgclqirupdwlrqcwkhruhwlfdoo vhfxuhvfkhphvwkdwsurydeo fdqqrweheurnhqhyhqzlwkxqolplwhgfrpsxwlqjsrzhubvxfkdvwkhrqhcwlphsdgbduhpxfkpruhgliilfxowwrxvhlqsudfwlfhwkdqwkhehvwwkhruhwlfdoo euhdndeohbexwfrpsxwdwlrqdoo vhfxuhbvfkhphvcwkhjurzwkrifu swrjudsklfwhfkqrorj kdvudlvhgdqxpehuriohjdolvvxhvlqwkhlqirupdwlrqdjhcfu swrjudsk cvsrwhqwldoiruxvhdvdwrroiruhvslrqdjhdqgvhglwlrqkdvohgpdq jryhuqphqwvwrfodvvli lwdvdzhdsrqdqgwrolplwruhyhqsurklelwlwvxvhdqgh,sruwclqvrphmxulvglfwlrqvzkhuhwkhxvhrifu swrjudsk lvohjdobodzvshuplwlqyhvwljdwruvwrfrpshowkhglvforvxuhrihqfu swlrqnh virugrfxphqwvuhohydqwwrdqlqyhvwljdwlrqcfu swrjudsk dovrsod vdpdmruurohlqgljlwdouljkwvpdqdjhphqwdqgfrs uljkwlqiulqjhphqwglvsxwhvlquhjdugwrgljlwdophgldc\n"
     ]
    },
    {
     "data": {
      "text/plain": [
       "0.03954472765160082"
      ]
     },
     "execution_count": 172,
     "metadata": {},
     "output_type": "execute_result"
    }
   ],
   "source": [
    "frequency_analysis(caesar(cryptography_definition, 2))\n"
   ]
  },
  {
   "cell_type": "markdown",
   "id": "9dd5d3",
   "metadata": {
    "collapsed": false
   },
   "source": [
    "# Breaking Vigenere\n",
    "\n",
    "To break \\(or decode\\) a Vigenere\\-encrypted message, we follow these steps:\n",
    "\n",
    "1. **Find repeating patterns in the text**\n",
    "   - When the same word or letter group appears more than once, it can give us clues about the length of the secret key.\n",
    "   - These repetitions happen because the key is used over and over again.\n",
    "2. **Find Out the Length of the Shift List \\(Key Length\\)**\n",
    "   - By checking how far apart the repeated patterns are, we can guess the length of the secret key.\n",
    "   - This helps because once we know the key length, the problem becomes similar to solving multiple Caesar ciphers.\n",
    "3. **Guess the letter shifts using common English words and letter frequencies**\n",
    "   - At this stage, we are solving multiple Caesar ciphers. \n",
    "   - As saw earlier, in English, some letters \\(like 'E' and 'T'\\) appear more often than others.\n",
    "   - By comparing the encrypted text to normal English letter patterns, we can figure out how each letter was shifted.\n",
    "   - Once we find the shifts, we can figure out the original key and use it to decode the whole message.\n",
    "\n"
   ]
  },
  {
   "cell_type": "code",
   "execution_count": 124,
   "id": "162e9e",
   "metadata": {
    "collapsed": false
   },
   "outputs": [],
   "source": [
    "# Write the Vigenere code here :\n",
    "def vigenere(m, keyList):\n",
    "    cipher = \"\"\n",
    "    for i, c in enumerate(m):\n",
    "        cipher += shiftChar(c, keyList[i % len(keyList)])\n",
    "    return cipher\n",
    "    "
   ]
  },
  {
   "cell_type": "markdown",
   "id": "ba1e62",
   "metadata": {
    "collapsed": false
   },
   "source": [
    "### Find repeating patterns in the text\n",
    "\n"
   ]
  },
  {
   "cell_type": "code",
   "execution_count": 125,
   "id": "04971c",
   "metadata": {
    "collapsed": false
   },
   "outputs": [],
   "source": [
    "#Output --> [(0, 31), (0, 45), (3, 20), (4, 21), (5, 22), (6, 23), (9, 48), (12, 38), (13, 24), (13, 39), (14, 40), (16, 49), (24, 39), (31, 45)]\n",
    "def repetitionsInString(s, length = 3):\n",
    "    L = []\n",
    "    for i in range(len(s) - length):\n",
    "        for j in range(i + 1, len(s) - length + 1):\n",
    "            if s[i:i+length] == s[j:j+length]:\n",
    "                L.append((i, j))\n",
    "    return L"
   ]
  },
  {
   "cell_type": "code",
   "execution_count": 126,
   "id": "f8046d",
   "metadata": {
    "collapsed": false
   },
   "outputs": [
    {
     "data": {
      "text/plain": [
       "[(0, 31),\n",
       " (0, 45),\n",
       " (3, 20),\n",
       " (4, 21),\n",
       " (5, 22),\n",
       " (6, 23),\n",
       " (9, 48),\n",
       " (12, 38),\n",
       " (13, 24),\n",
       " (13, 39),\n",
       " (14, 40),\n",
       " (16, 49),\n",
       " (24, 39),\n",
       " (31, 45)]"
      ]
     },
     "execution_count": 126,
     "metadata": {},
     "output_type": "execute_result"
    }
   ],
   "source": [
    "# Example to check\n",
    "s = \"ABCrandomskjsomekjdhrandomehkhkABChsadsomekahABCskjda\"\n",
    "repetitionsInString(s)\n",
    "#Output --> [(0, 31), (0, 45), (3, 20), (4, 21), (5, 22), (6, 23), (9, 48), (12, 38), (13, 24), (13, 39), (14, 40), (16, 49), (24, 39), (31, 45)]"
   ]
  },
  {
   "cell_type": "markdown",
   "id": "8950b8",
   "metadata": {
    "collapsed": false
   },
   "source": [
    "### Find Out the Length of the Shift List \\(Key Length\\)\n",
    "\n",
    "- To find the key length, first look for repeated letter groups in the encrypted text and note their positions as we did in stage one.\n",
    "- Then, we calculate the differences between these positions \\(e.g., if a pattern appears at positions i and j, compute j \\- i\\). \n",
    "- The key length is likely a factor of these differences, so find the greatest common divisor \\(GCD\\) of all the differences. \n",
    "- This GCD is our best guess for the key length.\n",
    "\n"
   ]
  },
  {
   "cell_type": "code",
   "execution_count": 127,
   "id": "f513f2",
   "metadata": {
    "collapsed": false
   },
   "outputs": [],
   "source": [
    "from math import gcd\n",
    "from functools import reduce\n",
    "def guessedKeyLength(ciphertext, length = 3):\n",
    "    differences = [j-i for (i,j) in repetitionsInString(ciphertext, length)]\n",
    "    return reduce(gcd, differences)"
   ]
  },
  {
   "cell_type": "code",
   "execution_count": 132,
   "id": "0e24ec",
   "metadata": {
    "collapsed": false
   },
   "outputs": [
    {
     "data": {
      "text/plain": [
       "'iqguasxlsqdnihtvdviqwlxlzhdhphqhrwwcwhgxvhcchhjhrvicvhplivdrrciijhgwmyicqhevyuivdwsctuiyiqxcfuidgkivccwhguiwwcrhigdsvrthvctuswifxlsqdwsciqwxvhduivmomhrfib'"
      ]
     },
     "execution_count": 132,
     "metadata": {},
     "output_type": "execute_result"
    }
   ],
   "source": [
    "m = \"encryption keeps sensitive elements secure, defense relies on effective measures to prevent breaches, secrets need proper protection to ensure resilience,\"\n",
    "c = vigenere(m, [4, 3])\n",
    "c"
   ]
  },
  {
   "cell_type": "code",
   "execution_count": 133,
   "id": "061e6b",
   "metadata": {
    "collapsed": false
   },
   "outputs": [
    {
     "data": {
      "text/plain": [
       "2"
      ]
     },
     "execution_count": 133,
     "metadata": {},
     "output_type": "execute_result"
    }
   ],
   "source": [
    "guessedKeyLength(c)"
   ]
  },
  {
   "cell_type": "markdown",
   "id": "e34612",
   "metadata": {
    "collapsed": false
   },
   "source": [
    "### Guess the letter shifts using common English words and letter frequencies\n",
    "\n",
    "Once we know the length of the key \\(shift list\\), we need to figure out how much each letter in the key shifts the text. This step is tricky, but it’s not really about complicated cryptography. Instead, we use what we know about the English language.\n",
    "\n",
    "First, we break the text into groups.Since we now have a guess for the key length \\(let’s say K\\), we treat the encrypted text as K separate Caesar ciphers.\n",
    "\n",
    "For example, if the key length is 3, then:\n",
    "\n",
    "- The 1st, 4th, 7th, etc., letters were all shifted by the first shift in the key.\n",
    "- The 2nd, 5th, 8th, etc., letters were shifted by the second shift in the key.\n",
    "- The 3rd, 6th, 9th, etc., letters were shifted by the third shift in the key.\n",
    "\n",
    "The rest is similar to breaking the Caesar cipher using frequency attack. Finally, Once we find the shifts for each letter group, we now know the key. For example, if we find that the shifts are 5, 7, and 10, that means the secret key used to encrypt the text was probably a word where the letters shifted by 5, 7, and 10.\n"
   ]
  },
  {
   "cell_type": "code",
   "execution_count": 169,
   "id": "3256c8",
   "metadata": {
    "collapsed": false
   },
   "outputs": [],
   "source": [
    "def break_vigenere(c):\n",
    "    #Using th previous two functions, create sets of ciphertexts, and implement frequency attack on each single one of them. \n",
    "\n",
    "    keyLength = guessedKeyLength(c)\n",
    "    sets = [\"\" for _ in range(keyLength)]\n",
    "    for i, char in enumerate(c):\n",
    "        sets[i % keyLength] += char\n",
    "    key = []\n",
    "    for s in sets:\n",
    "        key.append(frequency_analysis(s))\n",
    "    return key\n"
   ]
  },
  {
   "cell_type": "code",
   "execution_count": 170,
   "id": "af44c4",
   "metadata": {
    "collapsed": false
   },
   "outputs": [
    {
     "data": {
      "text/plain": [
       "[0.04108435222672065, 0.04158397435897436]"
      ]
     },
     "execution_count": 170,
     "metadata": {},
     "output_type": "execute_result"
    }
   ],
   "source": [
    "enc_K=[3, 5]\n",
    "\n",
    "c = vigenere(m, enc_K)\n",
    "dec_K =[-3, -5]\n",
    "pt = vigenere(c,dec_K)\n",
    "\n",
    "cracked_pt = break_vigenere(c)\n",
    "# assert(cracked_pt==pt)\n",
    "cracked_pt"
   ]
  }
 ],
 "metadata": {
  "kernelspec": {
   "display_name": ".venv",
   "language": "python",
   "name": "python3"
  },
  "language_info": {
   "codemirror_mode": {
    "name": "ipython",
    "version": 3
   },
   "file_extension": ".py",
   "mimetype": "text/x-python",
   "name": "python",
   "nbconvert_exporter": "python",
   "pygments_lexer": "ipython3",
   "version": "3.13.2"
  }
 },
 "nbformat": 4,
 "nbformat_minor": 4
}
