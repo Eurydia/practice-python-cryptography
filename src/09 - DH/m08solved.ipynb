{
 "cells": [
  {
   "cell_type": "markdown",
   "id": "4594e9",
   "metadata": {
    "collapsed": false
   },
   "source": [
    "# Discrete Log Problem\n",
    "\n",
    "For a group $G$ , given an element g∈G﻿  and $g^k=b$ , it is generally a difficult task \\(approximately brute\\-force over all elements\\) to determine the exponent  $k$.\n",
    "\n",
    "The larger the order of $g$, the more difficult the problem becomes.\n",
    "\n",
    "Clearly, $k$ is not greater than the order of the group.\n"
   ]
  },
  {
   "cell_type": "markdown",
   "id": "103f4d",
   "metadata": {
    "collapsed": false
   },
   "source": [
    "# Diffie Hellman\n",
    "\n"
   ]
  },
  {
   "cell_type": "code",
   "execution_count": 3,
   "id": "f0e327",
   "metadata": {
    "collapsed": false
   },
   "outputs": [],
   "source": [
    "from cryptography.hazmat.primitives import hashes\n",
    "from cryptography.hazmat.primitives.asymmetric import dh\n",
    "from cryptography.hazmat.primitives.kdf.hkdf import HKDF"
   ]
  },
  {
   "cell_type": "markdown",
   "id": "d3d1c9",
   "metadata": {
    "collapsed": false
   },
   "source": [
    "#### Generate some parameters. These can be reused.\n",
    "\n"
   ]
  },
  {
   "cell_type": "code",
   "execution_count": 4,
   "id": "5f4706",
   "metadata": {
    "collapsed": false
   },
   "outputs": [],
   "source": [
    "parameters = dh.generate_parameters(generator=2, key_size=2048)"
   ]
  },
  {
   "cell_type": "markdown",
   "id": "06f7be",
   "metadata": {
    "collapsed": false
   },
   "source": [
    "#### Generate a private key for use in the exchange.\n",
    "\n"
   ]
  },
  {
   "cell_type": "code",
   "execution_count": 5,
   "id": "7682e4",
   "metadata": {
    "collapsed": false
   },
   "outputs": [],
   "source": [
    "bob_private_key = parameters.generate_private_key()"
   ]
  },
  {
   "cell_type": "markdown",
   "id": "9b58ab",
   "metadata": {
    "collapsed": false
   },
   "source": [
    "#### In a real handshake the node is a remote client. For this example we'll generate here another local private key though. Note that in a DH handshake both clients must agree on a common set of parameters.\n",
    "\n"
   ]
  },
  {
   "cell_type": "code",
   "execution_count": 6,
   "id": "48c160",
   "metadata": {
    "collapsed": false
   },
   "outputs": [],
   "source": [
    "alice_private_key = parameters.generate_private_key()"
   ]
  },
  {
   "cell_type": "code",
   "execution_count": 7,
   "id": "2d0dc9",
   "metadata": {
    "collapsed": false
   },
   "outputs": [],
   "source": [
    "bob_shared_key = bob_private_key.exchange(alice_private_key.public_key())"
   ]
  },
  {
   "cell_type": "markdown",
   "id": "4c0526",
   "metadata": {
    "collapsed": false
   },
   "source": [
    "#### Perform key derivation.\n",
    "\n"
   ]
  },
  {
   "cell_type": "code",
   "execution_count": 8,
   "id": "697eeb",
   "metadata": {
    "collapsed": false
   },
   "outputs": [],
   "source": [
    "derived_key = HKDF(\n",
    "    algorithm=hashes.SHA256(),\n",
    "    length=32,\n",
    "    salt=None,\n",
    "    info=b'handshake data',\n",
    ").derive(bob_shared_key)"
   ]
  },
  {
   "cell_type": "markdown",
   "id": "2e1148",
   "metadata": {
    "collapsed": false
   },
   "source": [
    "#### And now we can demonstrate that the handshake performed in the opposite direction gives the same final value\n",
    "\n"
   ]
  },
  {
   "cell_type": "code",
   "execution_count": 9,
   "id": "0d8732",
   "metadata": {
    "collapsed": false
   },
   "outputs": [
    {
     "name": "stdout",
     "output_type": "stream",
     "text": [
      "e1cb73aaf0c4d0d7938183afa70024cfdaf3685b5d8464b5001dde333f80e96d\n",
      "True\n"
     ]
    }
   ],
   "source": [
    "alice_shared_key = alice_private_key.exchange(\n",
    "    bob_private_key.public_key()\n",
    ")\n",
    "same_derived_key = HKDF(\n",
    "    algorithm=hashes.SHA256(),\n",
    "    length=32,\n",
    "    salt=None,\n",
    "    info=b'handshake data',\n",
    ").derive(alice_shared_key)\n",
    "\n",
    "print(derived_key.hex())\n",
    "print(derived_key == same_derived_key)"
   ]
  },
  {
   "cell_type": "markdown",
   "id": "c49ffa",
   "metadata": {
    "collapsed": false
   },
   "source": [
    "##### **Exercise**: AES Message Encryption\n",
    "\n",
    "Alice and Bob  securely exchange a shared key using the Diffie\\-Hellman protocol. The next step woule be to use this shared key to encrypt a secret message from Alice to Bob using AES in GCM mode, which provides both encryption and authentication. \n",
    "\n",
    "**Hint**: You'll need to generate a random 12\\-byte nonce \\(also called IV\\) for the encryption process, and include the authentication tag during encryption. Then, simulate Bob decrypting the message using the same key, nonce, and tag, and print out the original, encrypted, and decrypted versions to confirm it worked.\n",
    "\n"
   ]
  },
  {
   "cell_type": "code",
   "execution_count": null,
   "id": "7eac9e",
   "metadata": {
    "collapsed": false
   },
   "outputs": [
    {
     "ename": "NameError",
     "evalue": "name 'nonce' is not defined",
     "output_type": "error",
     "traceback": [
      "\u001b[31m---------------------------------------------------------------------------\u001b[39m",
      "\u001b[31mNameError\u001b[39m                                 Traceback (most recent call last)",
      "\u001b[36mCell\u001b[39m\u001b[36m \u001b[39m\u001b[32mIn[11]\u001b[39m\u001b[32m, line 13\u001b[39m\n\u001b[32m     10\u001b[39m salsa_nonce = \u001b[33mb\u001b[39m\u001b[33m'\u001b[39m\u001b[38;5;130;01m\\x02\u001b[39;00m\u001b[33m'\u001b[39m * \u001b[32m16\u001b[39m\n\u001b[32m     12\u001b[39m plaintext = \u001b[33mb\u001b[39m\u001b[33m\"\u001b[39m\u001b[33mHello Bob, this is a top-secret message from Alice.\u001b[39m\u001b[33m\"\u001b[39m\n\u001b[32m---> \u001b[39m\u001b[32m13\u001b[39m ciphertext_and_tag = aesgcm.encrypt(\u001b[43mnonce\u001b[49m, plaintext, \u001b[38;5;28;01mNone\u001b[39;00m)\n\u001b[32m     16\u001b[39m ciphertext = ciphertext_and_tag[:-\u001b[32m16\u001b[39m]\n\u001b[32m     17\u001b[39m tag = ciphertext_and_tag[-\u001b[32m16\u001b[39m:]\n",
      "\u001b[31mNameError\u001b[39m: name 'nonce' is not defined"
     ]
    }
   ],
   "source": [
    "from cryptography.hazmat.backends import default_backend\n",
    "from cryptography.hazmat.primitives import hashes\n",
    "from cryptography.hazmat.primitives.asymmetric import dh\n",
    "from cryptography.hazmat.primitives.kdf.hkdf import HKDF\n",
    "from cryptography.hazmat.primitives.ciphers.aead import AESGCM\n",
    "from cryptography.hazmat.primitives.ciphers import Cipher, algorithms\n",
    "from Crypto.Cipher import Salsa20\n",
    "\n",
    "aesgcm = AESGCM(same_derived_key)\n",
    "salsa_key = b'\\x01' * 32\n",
    "salsa_nonce = b'\\x02' * 16\n",
    "\n",
    "nonce = Salsa20.new(key=salsa_key, nonce=salsa_nonce).encrypt(b\"\\x00\" * 12)\n",
    "plaintext = b\"Hello Bob, this is a top-secret message from Alice.\"\n",
    "ciphertext_and_tag = aesgcm.encrypt(nonce, plaintext, None)\n",
    "\n",
    "\n",
    "ciphertext = ciphertext_and_tag[:-16]\n",
    "tag = ciphertext_and_tag[-16:]\n",
    "\n",
    "print(\"Original plaintext:\", plaintext)\n",
    "print(\"Nonce (hex):\", nonce.hex())\n",
    "print(\"Ciphertext (hex):\", ciphertext.hex())\n",
    "print(\"Tag (hex):\", tag.hex())\n",
    "\n",
    "\n",
    "aesgcm_bob = AESGCM(aes_key)\n",
    "\n",
    "decrypted = aesgcm_bob.decrypt(, ciphertext_and_tag, None)\n",
    "print(\"Decrypted plaintext:\", decrypted)\n"
   ]
  },
  {
   "cell_type": "markdown",
   "id": "0ed3c5",
   "metadata": {
    "collapsed": false
   },
   "source": [
    "##### **Exercise**: ElGamal Encryption\n",
    "\n",
    "- Alice pk: $(x)$, pubk: $(G,g,g^x)$\n",
    "- Bob enctypts: $(c_1=g^y, c_2=m(g^x)^y)$\n",
    "- Alice decrypts: $m = c_2c_1^{-x}$\n",
    "\n"
   ]
  },
  {
   "cell_type": "markdown",
   "id": "82b8ed",
   "metadata": {
    "collapsed": false
   },
   "source": [
    "###\n",
    "\n"
   ]
  }
 ],
 "metadata": {
  "kernelspec": {
   "display_name": ".venv",
   "language": "python",
   "name": "python3"
  },
  "language_info": {
   "codemirror_mode": {
    "name": "ipython",
    "version": 3
   },
   "file_extension": ".py",
   "mimetype": "text/x-python",
   "name": "python",
   "nbconvert_exporter": "python",
   "pygments_lexer": "ipython3",
   "version": "3.13.2"
  }
 },
 "nbformat": 4,
 "nbformat_minor": 4
}
