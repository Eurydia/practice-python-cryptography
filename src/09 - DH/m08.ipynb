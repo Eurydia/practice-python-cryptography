{
 "cells": [
  {
   "cell_type": "markdown",
   "id": "4594e9",
   "metadata": {
    "collapsed": false
   },
   "source": [
    "# Discrete Log Problem\n",
    "\n",
    "For a group $G$ , given an element g∈G﻿  and $g^k=b$ , it is generally a difficult task \\(approximately brute\\-force over all elements\\) to determine the exponent  $k$.\n",
    "\n",
    "The larger the order of $g$, the more difficult the problem becomes.\n",
    "\n",
    "Clearly, $k$ is not greater than the order of the group.\n"
   ]
  },
  {
   "cell_type": "markdown",
   "id": "103f4d",
   "metadata": {
    "collapsed": false
   },
   "source": [
    "# Diffie Hellman\n",
    "\n"
   ]
  },
  {
   "cell_type": "code",
   "execution_count": 0,
   "id": "f0e327",
   "metadata": {
    "collapsed": false
   },
   "outputs": [],
   "source": [
    "from cryptography.hazmat.primitives import hashes\n",
    "from cryptography.hazmat.primitives.asymmetric import dh\n",
    "from cryptography.hazmat.primitives.kdf.hkdf import HKDF"
   ]
  },
  {
   "cell_type": "markdown",
   "id": "d3d1c9",
   "metadata": {
    "collapsed": false
   },
   "source": [
    "#### Generate some parameters. These can be reused.\n",
    "\n"
   ]
  },
  {
   "cell_type": "code",
   "execution_count": 0,
   "id": "5f4706",
   "metadata": {
    "collapsed": false
   },
   "outputs": [],
   "source": [
    "parameters = dh.generate_parameters(generator=2, key_size=2048)"
   ]
  },
  {
   "cell_type": "markdown",
   "id": "06f7be",
   "metadata": {
    "collapsed": false
   },
   "source": [
    "#### Generate a private key for use in the exchange.\n",
    "\n"
   ]
  },
  {
   "cell_type": "code",
   "execution_count": 0,
   "id": "7682e4",
   "metadata": {
    "collapsed": false
   },
   "outputs": [],
   "source": [
    "bob_private_key = parameters.generate_private_key()"
   ]
  },
  {
   "cell_type": "markdown",
   "id": "9b58ab",
   "metadata": {
    "collapsed": false
   },
   "source": [
    "#### In a real handshake the node is a remote client. For this example we'll generate here another local private key though. Note that in a DH handshake both clients must agree on a common set of parameters.\n",
    "\n"
   ]
  },
  {
   "cell_type": "code",
   "execution_count": 0,
   "id": "48c160",
   "metadata": {
    "collapsed": false
   },
   "outputs": [],
   "source": [
    "alice_private_key = parameters.generate_private_key()"
   ]
  },
  {
   "cell_type": "code",
   "execution_count": 0,
   "id": "2d0dc9",
   "metadata": {
    "collapsed": false
   },
   "outputs": [],
   "source": [
    "bob_shared_key = bob_private_key.exchange(alice_private_key.public_key())"
   ]
  },
  {
   "cell_type": "markdown",
   "id": "4c0526",
   "metadata": {
    "collapsed": false
   },
   "source": [
    "#### Perform key derivation.\n",
    "\n"
   ]
  },
  {
   "cell_type": "code",
   "execution_count": 0,
   "id": "697eeb",
   "metadata": {
    "collapsed": false
   },
   "outputs": [],
   "source": [
    "derived_key = HKDF(\n",
    "    algorithm=hashes.SHA256(),\n",
    "    length=32,\n",
    "    salt=None,\n",
    "    info=b'handshake data',\n",
    ").derive(bob_shared_key)"
   ]
  },
  {
   "cell_type": "markdown",
   "id": "2e1148",
   "metadata": {
    "collapsed": false
   },
   "source": [
    "#### And now we can demonstrate that the handshake performed in the opposite direction gives the same final value\n",
    "\n"
   ]
  },
  {
   "cell_type": "code",
   "execution_count": 0,
   "id": "0d8732",
   "metadata": {
    "collapsed": false
   },
   "outputs": [],
   "source": [
    "alice_shared_key = alice_private_key.exchange(\n",
    "    bob_private_key.public_key()\n",
    ")\n",
    "same_derived_key = HKDF(\n",
    "    algorithm=hashes.SHA256(),\n",
    "    length=32,\n",
    "    salt=None,\n",
    "    info=b'handshake data',\n",
    ").derive(alice_shared_key)\n",
    "\n",
    "print(derived_key.hex())\n",
    "print(derived_key == same_derived_key)"
   ]
  },
  {
   "cell_type": "markdown",
   "id": "c49ffa",
   "metadata": {
    "collapsed": false
   },
   "source": [
    "##### **Exercise**: AES Message Encryption\n",
    "\n",
    "Alice and Bob  securely exchange a shared key using the Diffie\\-Hellman protocol. The next step woule be to use this shared key to encrypt a secret message from Alice to Bob using AES in GCM mode, which provides both encryption and authentication. \n",
    "\n",
    "**Hint**: You'll need to generate a random 12\\-byte nonce \\(also called IV\\) for the encryption process, and include the authentication tag during encryption. Then, simulate Bob decrypting the message using the same key, nonce, and tag, and print out the original, encrypted, and decrypted versions to confirm it worked.\n",
    "\n"
   ]
  },
  {
   "cell_type": "code",
   "execution_count": 0,
   "id": "7eac9e",
   "metadata": {
    "collapsed": false
   },
   "outputs": [],
   "source": []
  },
  {
   "cell_type": "markdown",
   "id": "0ed3c5",
   "metadata": {
    "collapsed": false
   },
   "source": [
    "##### **Exercise**: ElGamal Encryption\n",
    "\n",
    "- Alice pk: $(x)$, pubk: $(G,g,g^x)$\n",
    "- Bob enctypts: $(c_1=g^y, c_2=m(g^x)^y)$\n",
    "- Alice decrypts: $m = c_2c_1^{-x}$\n",
    "\n"
   ]
  },
  {
   "cell_type": "markdown",
   "id": "82b8ed",
   "metadata": {
    "collapsed": false
   },
   "source": [
    "###\n",
    "\n"
   ]
  },
  {
   "cell_type": "code",
   "execution_count": 0,
   "id": "f425f7",
   "metadata": {
    "collapsed": false
   },
   "outputs": [],
   "source": [
    "#"
   ]
  }
 ],
 "metadata": {
  "kernelspec": {
   "argv": [
    "/usr/bin/python3",
    "-m",
    "ipykernel",
    "--HistoryManager.enabled=False",
    "--matplotlib=inline",
    "-c",
    "%config InlineBackend.figure_formats = set(['retina'])\nimport matplotlib; matplotlib.rcParams['figure.figsize'] = (12, 7)",
    "-f",
    "{connection_file}"
   ],
   "display_name": "Python 3 (system-wide)",
   "env": {},
   "language": "python",
   "metadata": {
    "cocalc": {
     "description": "Python 3 programming language",
     "priority": 100,
     "url": "https://www.python.org/"
    }
   },
   "name": "python3",
   "resource_dir": "/ext/jupyter/kernels/python3"
  },
  "language_info": {
   "codemirror_mode": {
    "name": "ipython",
    "version": 3
   },
   "file_extension": ".py",
   "mimetype": "text/x-python",
   "name": "python",
   "nbconvert_exporter": "python",
   "pygments_lexer": "ipython3",
   "version": "3.10.12"
  }
 },
 "nbformat": 4,
 "nbformat_minor": 4
}
