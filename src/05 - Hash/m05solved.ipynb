{
 "cells": [
  {
   "cell_type": "markdown",
   "id": "6cda76",
   "metadata": {
    "collapsed": false
   },
   "source": [
    "# Hash Functions\n",
    "\n",
    "Merkle Damgard Construction \\(MD5, SHA1, SHA2\\)\n",
    "\n",
    "![](https://cocalc.com/blobs/paste-0.5501842864172685?uuid=827c3cdf-dc4b-47fe-9671-c739d148d86c)\n",
    "\n"
   ]
  },
  {
   "cell_type": "code",
   "execution_count": 46,
   "id": "f3a870",
   "metadata": {
    "collapsed": false
   },
   "outputs": [
    {
     "name": "stdout",
     "output_type": "stream",
     "text": [
      "MD5 e0d00b9f337d357c6faa2f8ceae4a60d\n",
      "SHA1 48c910b6614c4a0aa5851aa78571dd1e3c3a66ba\n",
      "SHA2 cd700ec1a9830c273b5c4f0de34829a0a427294e41c3dfc243591a3caf68927ab84be7a91cd16e34275f66b7cd76a53c4bb117215a4b18074303197e6594347b\n",
      "SHA3 d95d0ba1e24a97716ba736a33a545bb93515a1b95ebf0d120807ee628bfdeb548926eb23a3d74b9e62e8c1770d1441e79136bea681c5e4306cfeec4fd43d436b\n"
     ]
    }
   ],
   "source": [
    "import hashlib\n",
    "import base64\n",
    "m = b'cryptography'\n",
    "print('MD5', hashlib.md5(m).hexdigest())\n",
    "print('SHA1', hashlib.sha1(m).hexdigest())\n",
    "print('SHA2', hashlib.sha512(m).hexdigest())\n",
    "print('SHA3', hashlib.sha3_512(m).hexdigest())"
   ]
  },
  {
   "cell_type": "code",
   "execution_count": 47,
   "id": "4f0ffa",
   "metadata": {
    "collapsed": false
   },
   "outputs": [
    {
     "name": "stdout",
     "output_type": "stream",
     "text": [
      "The hashed value of your name is =  da39a3ee5e6b4b0d3255bfef95601890afd80709\n"
     ]
    }
   ],
   "source": [
    "from hashlib import sha1\n",
    "\n",
    "\n",
    "def generate_hash(name):\n",
    "    return sha1(name.encode()).hexdigest()\n",
    "\n",
    "\n",
    "\n",
    "def test():\n",
    "    name = input('Enter your name: ')\n",
    "    print('The hashed value of your name is = ', generate_hash(name))\n",
    "\n",
    "test()"
   ]
  },
  {
   "cell_type": "markdown",
   "id": "1e6a46",
   "metadata": {
    "collapsed": false
   },
   "source": [
    "Now, check the output with the output from the following website: [https://passwordsgenerator.net/sha1\\-hash\\-generator/](https://passwordsgenerator.net/sha1-hash-generator/) \n"
   ]
  },
  {
   "cell_type": "markdown",
   "id": "445129",
   "metadata": {
    "collapsed": false
   },
   "source": [
    "### Password Hashing\n",
    "\n"
   ]
  },
  {
   "cell_type": "code",
   "execution_count": 48,
   "id": "4c4c36",
   "metadata": {
    "collapsed": false
   },
   "outputs": [
    {
     "name": "stdout",
     "output_type": "stream",
     "text": [
      "[x] the entered password (wrong password) is NOT a valid password\n",
      "[x] the entered password (secret password) is a valid password\n"
     ]
    }
   ],
   "source": [
    "from hashlib import sha1\n",
    "\n",
    "def hash_password(password):\n",
    "    return sha1(password.encode()).hexdigest()\n",
    "\n",
    "def check_password(stored_hashed_password, plain_password):\n",
    "    # Your validity check here\n",
    "    hashed_password = generate_hash(plain_password)\n",
    "    password_validity = stored_hashed_password == hashed_password\n",
    "    return password_validity\n",
    "\n",
    "def test(entered_password):\n",
    "    hashed_password=\"d20a09545c7aff14a4f596ddba19296d58f6c101\"\n",
    "    valid_pass = check_password(hashed_password, entered_password)\n",
    "    if valid_pass:\n",
    "        print('[x] the entered password ({0}) is a valid password'.format(entered_password))\n",
    "    else:\n",
    "        print('[x] the entered password ({0}) is NOT a valid password'.format(entered_password))\n",
    "\n",
    "test('wrong password')\n",
    "test('secret password')\n"
   ]
  },
  {
   "cell_type": "markdown",
   "id": "c15a2d",
   "metadata": {
    "collapsed": false
   },
   "source": [
    "### Salted Hash\n",
    "\n"
   ]
  },
  {
   "cell_type": "code",
   "execution_count": 49,
   "id": "05f99b",
   "metadata": {
    "collapsed": false
   },
   "outputs": [
    {
     "name": "stdout",
     "output_type": "stream",
     "text": [
      "[x] The plain password :  secret password\n",
      "[x] Stored in the db :  d20a09545c7aff14a4f596ddba19296d58f6c101,fe823309d11f4a8397c81d7681b1e770\n"
     ]
    }
   ],
   "source": [
    "import uuid\n",
    "from hashlib import sha1\n",
    "\n",
    "def hash_salted_password(password):\n",
    "    salt = uuid.uuid4().hex # generate a random unique ID as a 'salt' value\n",
    "    result = generate_hash(password) + \",\" + salt\n",
    "    return result\n",
    "\n",
    "\n",
    "def generate_salted_password(plain_password):\n",
    "    print('[x] The plain password : ', plain_password)\n",
    "    hashed_password = hash_salted_password(plain_password)\n",
    "    print('[x] Stored in the db : ', hashed_password)\n",
    "    return hashed_password\n",
    "\n",
    "hashed_password = generate_salted_password('secret password')"
   ]
  },
  {
   "cell_type": "markdown",
   "id": "1fc855",
   "metadata": {
    "collapsed": false
   },
   "source": [
    "Continue the above code for validity check\n"
   ]
  },
  {
   "cell_type": "code",
   "execution_count": 50,
   "id": "1a3b09",
   "metadata": {
    "collapsed": false
   },
   "outputs": [
    {
     "name": "stdout",
     "output_type": "stream",
     "text": [
      "[x] The plain password :  secret key\n",
      "[x] Stored in the db :  1a421e4919b1674defaf1ea063893fe198fe5dd8,0343467023594523be24e31eb0d70dab\n",
      "[x] The plain password :  secret key\n",
      "[x] Stored in the db :  1a421e4919b1674defaf1ea063893fe198fe5dd8,4a8d41881e1a488098f115bc387f95c7\n"
     ]
    },
    {
     "data": {
      "text/plain": [
       "True"
      ]
     },
     "execution_count": 50,
     "metadata": {},
     "output_type": "execute_result"
    }
   ],
   "source": [
    "def check_salted_password(stored_hashed_password:str, plain_password: str):\n",
    "    [hashed_password, *_] = generate_salted_password(plain_password).split(\",\")\n",
    "    [stored_hashed, *_] = stored_hashed_password.split(\",\") \n",
    "    password_validity = hashed_password == stored_hashed \n",
    "    # Your code here\n",
    "    # Note that the stored hashed password also concatendated with the salt value as well.\n",
    "    return password_validity\n",
    "\n",
    "password = 'secret key'\n",
    "hashed_password = generate_salted_password(password)\n",
    "\n",
    "# entered_password = input('Enter the password: ')\n",
    "check_salted_password(hashed_password, 'secret key')"
   ]
  },
  {
   "cell_type": "markdown",
   "id": "211529",
   "metadata": {
    "collapsed": false
   },
   "source": [
    "**Exercise**\n",
    "\n",
    "Find the first collision with the hash digest of integer input 10, \\(similar hash for two different integer inputs\\), such that the first four hexa digits of their MD5 hash digests are similar\n",
    "\n",
    "use _bytearray\\(n\\)_ to get the hexa value of integer _n_\n"
   ]
  },
  {
   "cell_type": "code",
   "execution_count": 45,
   "id": "ec9b99",
   "metadata": {
    "collapsed": false
   },
   "outputs": [
    {
     "name": "stdout",
     "output_type": "stream",
     "text": [
      "22571\n"
     ]
    }
   ],
   "source": [
    "digits = 4\n",
    "hashed_10 = hashlib.md5(b'10').hexdigest()[:digits]\n",
    "\n",
    "i = -1\n",
    "while True:\n",
    "  i += 1\n",
    "  if i == 10: \n",
    "    continue\n",
    "  hash_i = hashlib.md5(str(i).encode()).hexdigest()\n",
    "  if (hash_i[:digits] == hashed_10):\n",
    "    print(i)\n",
    "    break\n",
    "  "
   ]
  },
  {
   "cell_type": "code",
   "execution_count": 44,
   "id": "e2cde4",
   "metadata": {
    "collapsed": false
   },
   "outputs": [
    {
     "name": "stdout",
     "output_type": "stream",
     "text": [
      "22571\n"
     ]
    }
   ],
   "source": [
    "collision = hashlib.md5(str(i).encode()).hexdigest()\n",
    "collision.startswith(hashed_10)\n",
    "print(i)\n",
    "# 22571\n"
   ]
  }
 ],
 "metadata": {
  "kernelspec": {
   "display_name": ".venv",
   "language": "python",
   "name": "python3"
  },
  "language_info": {
   "codemirror_mode": {
    "name": "ipython",
    "version": 3
   },
   "file_extension": ".py",
   "mimetype": "text/x-python",
   "name": "python",
   "nbconvert_exporter": "python",
   "pygments_lexer": "ipython3",
   "version": "3.13.2"
  }
 },
 "nbformat": 4,
 "nbformat_minor": 4
}
