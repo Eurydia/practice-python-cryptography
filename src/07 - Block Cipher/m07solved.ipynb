{
 "cells": [
  {
   "cell_type": "markdown",
   "id": "880f19",
   "metadata": {
    "collapsed": false
   },
   "source": [
    "# Advanced Encryption Standard \\(AES\\)\n",
    "\n",
    "AES is a symmetric encryption algorithm operates on fixed\\-size 16\\-byte blocks and supports key sizes of 128, 192, or 256 bits. AES provides strong security through multiple encryption rounds that involve substitution, permutation, and mixing operations.  \n",
    "\n",
    "AES supports different modes of operation, including ECB, CBC, CFB, OFB, CTR, and GCM, each offering different security and performance properties. CTR and GCM modes turn AES into a stream cipher, eliminating the need for padding, while GCM adds authentication to detect tampering. Here we will implement each of the modes of operation to encrypt the data.\n"
   ]
  },
  {
   "cell_type": "code",
   "execution_count": 3,
   "id": "705369",
   "metadata": {
    "collapsed": false
   },
   "outputs": [],
   "source": [
    "from Crypto.Cipher import AES\n",
    "from Crypto.Util.Padding import pad, unpad\n",
    "from Crypto.Util import Counter\n",
    "import secrets\n",
    "\n",
    "\n",
    "key = b'0123456789abcdef'  # 16-byte key\n",
    "iv = b'0123456789abcdef'\n",
    "data = b'aaaaaaaaaaaaaaa'"
   ]
  },
  {
   "cell_type": "markdown",
   "id": "376924",
   "metadata": {
    "collapsed": false
   },
   "source": [
    "## AES \\- ECB Mode \\(Electronic Codebook\\)\n",
    "\n"
   ]
  },
  {
   "cell_type": "code",
   "execution_count": 4,
   "id": "699f98",
   "metadata": {
    "collapsed": false
   },
   "outputs": [
    {
     "name": "stdout",
     "output_type": "stream",
     "text": [
      "ECB Encrypted: 8752d293f9d3b04f96b9f78b261a5f50\n"
     ]
    }
   ],
   "source": [
    "cipher = AES.new(key, AES.MODE_ECB)\n",
    "encrypted = cipher.encrypt(pad(data, AES.block_size)).hex()\n",
    "print(\"ECB Encrypted:\", encrypted)\n",
    "\n",
    "decipher = AES.new(key, AES.MODE_ECB)\n",
    "decrypted = unpad(decipher.decrypt(bytes.fromhex(encrypted)), AES.block_size)\n",
    "#print(\"Decrypted:\", decrypted)\n",
    "assert decrypted == data\n"
   ]
  },
  {
   "cell_type": "markdown",
   "id": "fb2047",
   "metadata": {
    "collapsed": false
   },
   "source": [
    "## AES \\- CBC Mode \\(Cipher Block Chaining\\)\n",
    "\n"
   ]
  },
  {
   "cell_type": "code",
   "execution_count": 5,
   "id": "0a463a",
   "metadata": {
    "collapsed": false
   },
   "outputs": [
    {
     "name": "stdout",
     "output_type": "stream",
     "text": [
      "CBC Encrypted: bbc2d4b208468241be063bc82f204d60\n"
     ]
    }
   ],
   "source": [
    "cipher = AES.new(key, AES.MODE_CBC, iv)\n",
    "encrypted = cipher.encrypt(pad(data, AES.block_size)).hex()\n",
    "print(\"CBC Encrypted:\", encrypted)\n",
    "\n",
    "decipher = AES.new(key, AES.MODE_CBC, iv)\n",
    "decrypted = unpad(decipher.decrypt(bytes.fromhex(encrypted)), AES.block_size)\n",
    "#print(\"Decrypted:\", decrypted)\n",
    "assert decrypted == data"
   ]
  },
  {
   "cell_type": "markdown",
   "id": "788a4f",
   "metadata": {
    "collapsed": false
   },
   "source": [
    "## AES \\- CFB Mode \\(Cipher Feedback\\)\n",
    "\n"
   ]
  },
  {
   "cell_type": "code",
   "execution_count": 6,
   "id": "5587fb",
   "metadata": {
    "collapsed": false
   },
   "outputs": [
    {
     "name": "stdout",
     "output_type": "stream",
     "text": [
      "CFB Encrypted: 1323f0dba3e072838d4181c54f0eb188\n"
     ]
    }
   ],
   "source": [
    "cipher = AES.new(key, AES.MODE_CFB, iv)\n",
    "encrypted = cipher.encrypt(pad(data, AES.block_size)).hex()\n",
    "print(\"CFB Encrypted:\", encrypted)\n",
    "\n",
    "decipher = AES.new(key, AES.MODE_CFB, iv)\n",
    "decrypted = unpad(decipher.decrypt(bytes.fromhex(encrypted)), AES.block_size)\n",
    "#print(\"Decrypted:\", decrypted)\n",
    "assert decrypted == data"
   ]
  },
  {
   "cell_type": "markdown",
   "id": "e4c205",
   "metadata": {
    "collapsed": false
   },
   "source": [
    "## AES \\- OFB Mode \\(Output Feedback\\)\n",
    "\n"
   ]
  },
  {
   "cell_type": "code",
   "execution_count": 8,
   "id": "8da151",
   "metadata": {
    "collapsed": false
   },
   "outputs": [
    {
     "name": "stdout",
     "output_type": "stream",
     "text": [
      "OFB Encrypted: 13131fe97fbd9c6061c679091868d464\n"
     ]
    }
   ],
   "source": [
    "cipher = AES.new(key, AES.MODE_OFB, iv)\n",
    "encrypted = cipher.encrypt(pad(data, AES.block_size)).hex()\n",
    "print(\"OFB Encrypted:\", encrypted)\n",
    "\n",
    "decipher = AES.new(key, AES.MODE_OFB, iv)\n",
    "decrypted = unpad(decipher.decrypt(bytes.fromhex(encrypted)), AES.block_size)\n",
    "#print(\"Decrypted:\", decrypted)\n",
    "assert decrypted == data"
   ]
  },
  {
   "cell_type": "markdown",
   "id": "f0a3c0",
   "metadata": {
    "collapsed": false
   },
   "source": [
    "## AES \\- CTR Mode \\(Counter\\)\n",
    "\n"
   ]
  },
  {
   "cell_type": "code",
   "execution_count": 0,
   "id": "b5c2d2",
   "metadata": {
    "collapsed": false
   },
   "outputs": [],
   "source": [
    "ctr = Counter.new(128)\n",
    "cipher = AES.new(key, AES.MODE_CTR, counter=ctr)\n",
    "encrypted = cipher.encrypt(data).hex()\n",
    "print(\"CTR Encrypted:\", encrypted)\n",
    "\n",
    "decipher = AES.new(key, AES.MODE_CTR, counter=Counter.new(128))\n",
    "decrypted = decipher.decrypt(bytes.fromhex(encrypted))\n",
    "#print(\"Decrypted:\", decrypted)\n",
    "assert decrypted == data"
   ]
  },
  {
   "cell_type": "markdown",
   "id": "e664ea",
   "metadata": {
    "collapsed": false
   },
   "source": [
    "## AES \\- GCM \\(Galois/Counter Mode\\)\n",
    "\n"
   ]
  },
  {
   "cell_type": "code",
   "execution_count": 7,
   "id": "e0be3b",
   "metadata": {
    "collapsed": false
   },
   "outputs": [
    {
     "name": "stdout",
     "output_type": "stream",
     "text": [
      "GCM Encrypted: a9d559b093f9cb8d5041c9798e786b\n",
      "GCM Tag: 33380dac9661cb84650ea19a580f10bc\n"
     ]
    }
   ],
   "source": [
    "cipher = AES.new(key, AES.MODE_GCM)\n",
    "ciphertext, tag = cipher.encrypt_and_digest(data)\n",
    "print(\"GCM Encrypted:\", ciphertext.hex())\n",
    "print(\"GCM Tag:\", tag.hex())\n",
    "\n",
    "# Decryption\n",
    "decipher = AES.new(key, AES.MODE_GCM, nonce=cipher.nonce)\n",
    "decrypted = decipher.decrypt_and_verify(ciphertext, tag)\n",
    "#print(\"Decrypted:\", decrypted)\n",
    "assert decrypted == data"
   ]
  },
  {
   "cell_type": "markdown",
   "id": "7020ca",
   "metadata": {
    "collapsed": false
   },
   "source": [
    "**Exercise**\n",
    "\n",
    "Perform an encryption combined with the hash value of the key.\n"
   ]
  },
  {
   "cell_type": "code",
   "execution_count": 41,
   "id": "2d92b4",
   "metadata": {
    "collapsed": false
   },
   "outputs": [
    {
     "name": "stdout",
     "output_type": "stream",
     "text": [
      "CTR Encrypted: 60d12d597b07858824f1b33ed1523bdb27d31926c9babfa2b764a486c6c80cb08fd98b8b061d862ddaf7250b6c69eeaf3080c3b27200dc\n"
     ]
    }
   ],
   "source": [
    "from hashlib import sha1\n",
    "\n",
    "\n",
    "def generate_hash(plaintext):\n",
    "    return sha1(plaintext).hexdigest().encode()\n",
    "\n",
    "hash = generate_hash(data)\n",
    "ctr = Counter.new(128)\n",
    "cipher = AES.new(key, AES.MODE_CTR, counter=ctr)\n",
    "encrypted = cipher.encrypt(data + hash).hex()\n",
    "print(\"CTR Encrypted:\", encrypted)\n",
    "\n",
    "decipher = AES.new(key, AES.MODE_CTR, counter=Counter.new(128))\n",
    "decrypted = decipher.decrypt(bytes.fromhex(encrypted))\n",
    "#print(\"Decrypted:\", decrypted)\n",
    "assert decrypted == (data + hash)"
   ]
  }
 ],
 "metadata": {
  "kernelspec": {
   "display_name": ".venv",
   "language": "python",
   "name": "python3"
  },
  "language_info": {
   "codemirror_mode": {
    "name": "ipython",
    "version": 3
   },
   "file_extension": ".py",
   "mimetype": "text/x-python",
   "name": "python",
   "nbconvert_exporter": "python",
   "pygments_lexer": "ipython3",
   "version": "3.13.2"
  }
 },
 "nbformat": 4,
 "nbformat_minor": 4
}
